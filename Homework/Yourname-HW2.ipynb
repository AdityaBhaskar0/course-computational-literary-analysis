{
 "cells": [
  {
   "cell_type": "markdown",
   "metadata": {},
   "source": [
    "# Homework 2\n",
    "\n",
    "## Yourname\n",
    "\n",
    "Instructions: \n",
    "\n",
    " 1. Please replace \"Yourname\" above, and in the title of this notebook. \n",
    " 2. Import all the libraries you end up using in the cell below. Please only use those libraries which we have learned (i.e. nltk, collections, pandas, etc.). \n",
    " 3. Complete all the problems, replacing \"enter code here\" with your code, and \"enter markdown here\" with your markdown. Annotate your code with markdown cells, to explain what you're doing, and interpret your results.  \n",
    " 4. From the Kernel menu, select \"restart and run all.\" This will help me to see the output of your answers. \n",
    " 5. Email me your completed notebook: jonathan.reeve@columbia.edu\n"
   ]
  },
  {
   "cell_type": "code",
   "execution_count": null,
   "metadata": {},
   "outputs": [],
   "source": [
    "# Import all your libraries here. "
   ]
  },
  {
   "cell_type": "markdown",
   "metadata": {},
   "source": [
    "### 1. Write a function that takes a text in English (i.e. a string), then computes the average number of words per sentence, for that text. "
   ]
  },
  {
   "cell_type": "code",
   "execution_count": 1,
   "metadata": {},
   "outputs": [],
   "source": [
    "# Enter code here. "
   ]
  },
  {
   "cell_type": "markdown",
   "metadata": {},
   "source": [
    "### 2. Use your function to calculate the average sentence length for all the narrators. (You can combine the two Betteredge narratives, if you want, or leave them seperate.) Then, in a markdown cell, describe how you interpret these results. "
   ]
  },
  {
   "cell_type": "code",
   "execution_count": 2,
   "metadata": {},
   "outputs": [],
   "source": [
    "# Enter code here. "
   ]
  },
  {
   "cell_type": "markdown",
   "metadata": {},
   "source": [
    "Enter markdown here. "
   ]
  },
  {
   "cell_type": "markdown",
   "metadata": {},
   "source": [
    "### 3. Choose a motif that you notice in _The Moonstone_. (For ideas, look back at our annotation tags and our discussion group topics.) Choose around 3-5 words (or tokens, stems, or lemmas) that you think represent this motif. Create a plot to show the positions of these words in the narrative time of _The Moonstone_ (at least the amount that we've read of it). Then create concordances for a few of these words. Finally, in 2-3 paragraphs of well-formatted markdown, describe what this tells you about how the motif operates in the novel. "
   ]
  },
  {
   "cell_type": "code",
   "execution_count": 3,
   "metadata": {},
   "outputs": [],
   "source": [
    "# Enter code here. "
   ]
  },
  {
   "cell_type": "markdown",
   "metadata": {},
   "source": [
    "Enter markdown here. "
   ]
  },
  {
   "cell_type": "markdown",
   "metadata": {},
   "source": [
    "### 4. Choose a narrator from *The Moonstone*, and find that narrator's distinctive words. Discuss these words, and your interpretation of them. Can you hear the narrator's personality come through in them? Why or why not? Which of these words are syntactic (illustrative of the writer's style) and which are semantic (illustrative of the writer's chosen subjects)?"
   ]
  },
  {
   "cell_type": "code",
   "execution_count": 4,
   "metadata": {},
   "outputs": [],
   "source": [
    "# Enter code here. "
   ]
  },
  {
   "cell_type": "markdown",
   "metadata": {},
   "source": [
    "Enter markdown here. "
   ]
  },
  {
   "cell_type": "markdown",
   "metadata": {},
   "source": [
    "### 5. Write a program to determine whose name appears in the most number of paragraphs with the words \"moonstone\" and \"diamond.\" Then, in a markdown cell, describe anything you might notice about your results. \n",
    "\n",
    "Here's one way you might do this: \n",
    " - Make a list of character names and their aliases. It doesn't have to be exhaustive, but for you to be accurate, you should count forms like \"Rachel\" and \"Miss Verinder\" as the same name. \n",
    " - Break the novel into paragraphs by splitting on double line breaks (`\\n\\n`). \n",
    " - Word-tokenize each paragraph. \n",
    " - Test for the presence of a word using the `in` keyword. \n",
    " - Maintain a dictionary for each character, where the key is the character's name, and the value is a tally of how many times their name has appeared in the same paragraph as \"moonstone\" and \"diamond.\" "
   ]
  },
  {
   "cell_type": "code",
   "execution_count": 5,
   "metadata": {},
   "outputs": [],
   "source": [
    "# Enter code here. "
   ]
  },
  {
   "cell_type": "markdown",
   "metadata": {},
   "source": [
    "Enter markdown here. "
   ]
  },
  {
   "cell_type": "markdown",
   "metadata": {},
   "source": [
    "### 6. Write a program to determine the words that occur more often in sentences ending in, or containing, exclamation marks. In a markdown cell, describe anything you notice in your results. \n",
    "\n",
    "Here's one way you might do this: \n",
    "\n",
    " - Sentence-tokenize the novel.\n",
    " - Make two empty lists, one for exclamation-mark sentences, and one for other sentences. \n",
    " - Write a `for` loop to go through each sentence, and append it to one of the two lists, depending on whether it contains an exclamation mark.\n",
    " - Join the sentences back together, using `\" \".join(list)`, so that they're easier to word-tokenize. \n",
    " - Word-tokenize each string. \n",
    " - Make `Counter()` objects for the resulting list of word-tokens. \n",
    " - Subtract one set of numbers from the other, to find the words that occur much more in one category than another. \n",
    " - Sort the results according to the difference in frequencies between the two.\n",
    "\n",
    "You may want to do a little bit of text cleaning, first, to make your program work best. Consider replacing en- and em-dashes (–, —) with spaces, for instance, using `.replace('–', ' ')` and so on. \n",
    "\n",
    "You may also want to try comparing the same number of sentences in each list, to see how that affects your results. Since there are way more non-exclamatory sentences, you could either truncate your list of non-exclamatory sentences, or, if you're feeling extra fancy, use the `choice()` function from the `random` library to choose a number of sentences at random from your list."
   ]
  },
  {
   "cell_type": "code",
   "execution_count": 6,
   "metadata": {},
   "outputs": [],
   "source": [
    "# Enter code here. "
   ]
  },
  {
   "cell_type": "markdown",
   "metadata": {},
   "source": [
    "Enter markdown here. "
   ]
  },
  {
   "cell_type": "markdown",
   "metadata": {},
   "source": [
    "### Bonus: Write a program to determine the words that occur more often inside quotation marks in *The Moonstone*. What do you notice about those words? \n",
    "\n",
    "Be careful to note that there are at least two styles of quotation mark used in our edition of *The Moonstone*: curly and straight. And they are used inconsistently! "
   ]
  },
  {
   "cell_type": "code",
   "execution_count": 7,
   "metadata": {},
   "outputs": [],
   "source": [
    "# Enter code here. "
   ]
  },
  {
   "cell_type": "markdown",
   "metadata": {},
   "source": [
    "Enter markdown here. "
   ]
  }
 ],
 "metadata": {
  "kernelspec": {
   "display_name": "Python 3",
   "language": "python",
   "name": "python3"
  },
  "language_info": {
   "codemirror_mode": {
    "name": "ipython",
    "version": 3
   },
   "file_extension": ".py",
   "mimetype": "text/x-python",
   "name": "python",
   "nbconvert_exporter": "python",
   "pygments_lexer": "ipython3",
   "version": "3.8.5"
  }
 },
 "nbformat": 4,
 "nbformat_minor": 4
}
