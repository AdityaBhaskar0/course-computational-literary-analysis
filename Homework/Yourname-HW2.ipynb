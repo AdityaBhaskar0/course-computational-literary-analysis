{
 "cells": [
  {
   "cell_type": "markdown",
   "metadata": {},
   "source": [
    "# Homework 2\n",
    "\n",
    "## Yourname\n",
    "\n",
    "Instructions: \n",
    "\n",
    " 1. Please replace \"Yourname\" above, and in the title / filename of this notebook. \n",
    " 2. Import all the libraries you end up using in the cell below. Please only use those libraries which we have used in class (i.e. nltk, collections, pandas, etc.). \n",
    " 3. Complete all the exercises, replacing \"enter code here\" with your code, and \"enter markdown here\" with your markdown. Annotate your code with markdown cells, to explain what you're doing, and interpret your results.  \n",
    " 4. From the Kernel menu, select \"restart and run all.\" This will help me to see the output of your answers. \n",
    " 5. Email me your completed notebook: jonathan.reeve@columbia.edu\n"
   ]
  },
  {
   "cell_type": "code",
   "execution_count": null,
   "metadata": {},
   "outputs": [],
   "source": [
    "# Import all your libraries here. "
   ]
  },
  {
   "cell_type": "markdown",
   "metadata": {},
   "source": [
    "### 1. Split *The Moonstone* into a dictionary which represents the text of its narrators. \n",
    "\n",
    "The dictionary's keys should be the narrators' names, and the values should be the text of that narration. Keep in mind that some narrators have two narrations, as with Betteredge and Franklin Blake. You'll have to concatenate those. \n",
    "\n",
    "Your data structure should be called something like `moonstoneNarrators`. You should be able to run something like this:\n",
    "\n",
    "```python\n",
    "moonstoneNarrators[\"Miss Clack\"]\n",
    "```\n",
    "\n",
    "and it should output text beginning: \"Contributed by Miss Clack; niece of the late Sir John Verinder.\" Similarly, you should be able to run:\n",
    "\n",
    "```python\n",
    "moonstoneNarrators[\"Franklin Blake\"]\n",
    "```\n",
    "\n",
    "and it will output text beginning \"Contributed by Franklin Blake\" but which also contains\n",
    "\"The Story Resumed by Franklin Blake ...\" \n",
    "\n",
    "Demonstrate that your dictionary works, by printing out the first 200 or so characters of each narration. **Nota bene**: Please do not print out the entire contents of a narration, as that will make your notebook very difficult to read and grade. "
   ]
  },
  {
   "cell_type": "code",
   "execution_count": 4,
   "metadata": {},
   "outputs": [],
   "source": [
    "# Enter code here. "
   ]
  },
  {
   "cell_type": "markdown",
   "metadata": {},
   "source": [
    "### 2. Using your dictionary from #1, make a new dictionary where those texts are lowercased and tokenized. \n",
    "\n",
    "The new dictionary's keys should still be the narrator's names, and the values should be a list of lowercased tokens for that narration. Call it something like `moonstoneNarratorsTokens`. \n",
    "\n",
    "You should be able to run this: \n",
    "\n",
    "```python\n",
    "moonstoneNarratorsTokens[\"Miss Clack\"]\n",
    "```\n",
    "\n",
    "and it should output a list beginning: `['contributed', 'by', 'miss', 'clack', ';' ... ]`\n",
    "\n",
    "Hint: Use a `for` loop and the NLTK's word tokenizing function. "
   ]
  },
  {
   "cell_type": "code",
   "execution_count": 4,
   "metadata": {},
   "outputs": [],
   "source": [
    "# Enter code here. "
   ]
  },
  {
   "cell_type": "markdown",
   "metadata": {},
   "source": [
    "### 3. Using your dictionary from #2, create a new dictionary containing NLTK `Text()` objects for each narrator. \n",
    "\n",
    "The new dictionary's keys should still be narrator names, and the values should be nltk Text() objects. Call it something like `moonstoneNarratorsTexts`. \n",
    "\n",
    "You should be able to run this: \n",
    "\n",
    "```python\n",
    "moonstoneNarratorsTexts[\"Miss Clack\"].collocations()\n",
    "```\n",
    "\n",
    "And it should give a list of common collocations for Miss Clack's narrative. "
   ]
  },
  {
   "cell_type": "code",
   "execution_count": 4,
   "metadata": {},
   "outputs": [],
   "source": [
    "# Enter code here. "
   ]
  },
  {
   "cell_type": "markdown",
   "metadata": {},
   "source": [
    "### 4. Using your dictionary from #2 or #3, calculate the lengths, in words, of the text of each narrator. "
   ]
  },
  {
   "cell_type": "code",
   "execution_count": 4,
   "metadata": {},
   "outputs": [],
   "source": [
    "# Enter code here. "
   ]
  },
  {
   "cell_type": "markdown",
   "metadata": {},
   "source": [
    "### 5. Using your dictionary from #3, find the common collocations for each narrator. \n",
    "\n",
    "Then, in the markdown cell below, write about what you notice about these. "
   ]
  },
  {
   "cell_type": "code",
   "execution_count": 4,
   "metadata": {},
   "outputs": [],
   "source": [
    "# Enter code here. "
   ]
  },
  {
   "cell_type": "markdown",
   "metadata": {},
   "source": [
    "Enter markdown here. "
   ]
  },
  {
   "cell_type": "markdown",
   "metadata": {},
   "source": [
    "### 6. Using your dictionary from #3, find the hapax legomena for each narrator. \n",
    "\n",
    "Then, in the markdown cell below, write about what you notice about those. "
   ]
  },
  {
   "cell_type": "code",
   "execution_count": 4,
   "metadata": {},
   "outputs": [],
   "source": [
    "# Enter code here. "
   ]
  },
  {
   "cell_type": "markdown",
   "metadata": {},
   "source": [
    "Enter markdown here. "
   ]
  },
  {
   "cell_type": "markdown",
   "metadata": {},
   "source": [
    "### 7. Write a function that computes the type / token ratio for a text. Then, use the function, and the dictionary you made in #2, to compute the type/token ratios for samples from all the narrators. \n",
    "\n",
    "Truncate each text to some pre-determined value, first, before calculating its type/token ratio, so that you're comparing the same amount of words in each. \n",
    "\n",
    "Then, in the markdown cell below, write 1-2 paragraphs where you interpret your results. "
   ]
  },
  {
   "cell_type": "code",
   "execution_count": 1,
   "metadata": {},
   "outputs": [],
   "source": [
    "# Enter code here. "
   ]
  },
  {
   "cell_type": "markdown",
   "metadata": {},
   "source": [
    "Enter markdown here. "
   ]
  },
  {
   "cell_type": "markdown",
   "metadata": {},
   "source": [
    "### 8. Write a function that computes the average number of words per sentence, for a text. Then, use your function, and your dictionary from #1, to calculate the average sentence length, in words, for all the narrators. \n",
    "\n",
    "Then, in the markdown cell below, describe what you think this might indicate, and how it compares to type/token ratio. \n",
    "\n",
    "Hint: use the NLTK's sentence tokenizing function. "
   ]
  },
  {
   "cell_type": "code",
   "execution_count": 3,
   "metadata": {},
   "outputs": [],
   "source": [
    "# Enter code here. "
   ]
  },
  {
   "cell_type": "markdown",
   "metadata": {},
   "source": [
    "Enter markdown here. "
   ]
  },
  {
   "cell_type": "markdown",
   "metadata": {},
   "source": [
    "### 9. Choose a motif that you notice in _The Moonstone_. Choose around 3-5 words (or tokens, stems, or lemmas) that you think represent this motif. Create a plot to show the positions of these words in the narrative time of _The Moonstone_. Then create concordances for a few of these words. Finally, in 2-3 paragraphs of well-formatted markdown, describe what this tells you about how the motif operates in the novel. "
   ]
  },
  {
   "cell_type": "code",
   "execution_count": 3,
   "metadata": {},
   "outputs": [],
   "source": [
    "# Enter code here. "
   ]
  },
  {
   "cell_type": "markdown",
   "metadata": {},
   "source": [
    "Enter markdown here. "
   ]
  },
  {
   "cell_type": "markdown",
   "metadata": {},
   "source": [
    "### 10. Write a program to determine whose name appears in the most number of paragraphs with the lemmas \"moonstone\" and \"diamond.\" Then, in a markdown cell, describe anything you might notice about your results. \n",
    "\n",
    "Here's one way you might do this: \n",
    " - Make a list of names we've encountered in the novel so far. (Be careful to include both \"Rachel\" and \"Miss Verinder,\" for instance.) \n",
    " - Break the novel into paragraphs by splitting on double line breaks (`\\n\\n`). \n",
    " - Tokenize each paragraph. \n",
    " - Test for the presence of a word using the `in` keyword for lists. \n",
    " - Maintain a dictionary for each character, where the key is the character's name, and the value is a tally of how many times their name has appeared in the same paragraph as \"moonstone\" and \"diamond.\" "
   ]
  },
  {
   "cell_type": "code",
   "execution_count": 5,
   "metadata": {},
   "outputs": [],
   "source": [
    "# Enter code here. "
   ]
  },
  {
   "cell_type": "markdown",
   "metadata": {},
   "source": [
    "Enter markdown here. "
   ]
  },
  {
   "cell_type": "markdown",
   "metadata": {},
   "source": [
    "### Bonus: Write a program to determine the words of *The Moonstone* that occur more often in sentences ending in exclamation marks. In a markdown cell, describe anything you notice in your results. \n",
    "\n",
    "Here's one way you might do this: \n",
    "\n",
    " - Sentence-tokenize the novel.\n",
    " - Make two empty lists, one for exclamation-mark sentences, and one for other sentences. \n",
    " - Write a `for` loop to go through each sentence, and append it to one of the two lists, depending on whether it contains an exclamation mark.\n",
    " - Join the lists together, using `\" \".join(list)`, so that they're easier to word-tokenize. \n",
    " - Word-tokenize each string. \n",
    " - Make `Counter()` objects for the resulting list of word-tokens. \n",
    " - Subtract one set of numbers from the other, to find the words that occur much more in one category than another. \n",
    " - Sort the results using `sorted()`, according to the difference in frequencies between the two."
   ]
  },
  {
   "cell_type": "code",
   "execution_count": 6,
   "metadata": {},
   "outputs": [],
   "source": [
    "# Enter code here. "
   ]
  },
  {
   "cell_type": "markdown",
   "metadata": {},
   "source": [
    "Enter markdown here. "
   ]
  }
 ],
 "metadata": {
  "kernelspec": {
   "display_name": "Python 3 (ipykernel)",
   "language": "python",
   "name": "python3"
  },
  "language_info": {
   "codemirror_mode": {
    "name": "ipython",
    "version": 3
   },
   "file_extension": ".py",
   "mimetype": "text/x-python",
   "name": "python",
   "nbconvert_exporter": "python",
   "pygments_lexer": "ipython3",
   "version": "3.9.12"
  }
 },
 "nbformat": 4,
 "nbformat_minor": 4
}
