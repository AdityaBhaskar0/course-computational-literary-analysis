{
 "cells": [
  {
   "cell_type": "markdown",
   "metadata": {},
   "source": [
    "# Homework 1\n",
    "\n",
    "## Your name here\n",
    "\n",
    "Instructions: \n",
    "\n",
    " 1. Download this file from the course repository, save it to your computer, and open it in Jupyter Lab.\n",
    " 2. Replace \"Yourname\" in the title of this notebook with your first name, and replace \"your name here\" in the heading above, as well.\n",
    " 2. Complete all problems 1-8, and run the cell containing your solution, to show that it works. In other words, enter code in the cells marked `# Enter code here.`, and press Ctrl+Enter to run that code.\n",
    " 3. When you're done, run \"restart and run all\" from the kernel menu, to make sure that your notebook runs sequentially (to avoid any problems with running cells out of order). \n",
    " 4. Email me the resulting .ipynb file, to jonathan.reeve@columbia.edu, before our discussion section next week (September 30th). \n",
    " \n",
    " **Since late work can't be accepted, please start on this early, and turn it in as early as you can.**"
   ]
  },
  {
   "cell_type": "markdown",
   "metadata": {},
   "source": [
    "### 1. Write a line of Python to split this passage into sentences. \n",
    "\n",
    "Here is the sentence to split:\n",
    "\n",
    "\"I am not superstitious. I have read a heap of books in my time. I am a scholar in my own way.\"\n",
    "\n",
    "Your output should be a list like this: \n",
    "\n",
    "```python\n",
    "[\"I am not superstitious\", \" I have read a heap of books in my time\", \" I am a scholar in my own way\", '']\n",
    "```\n",
    "\n",
    "(There is an empty list at the end, which is because Python still splits on the last period, and gives you what comes after it, which is an empty string, `''`. You can either keep this, or remove it with `.pop()`, or by slicing: `mystring[:-1]`)"
   ]
  },
  {
   "cell_type": "code",
   "execution_count": 1,
   "metadata": {},
   "outputs": [],
   "source": [
    "# Enter code here. "
   ]
  },
  {
   "cell_type": "markdown",
   "metadata": {},
   "source": [
    "### 2. Using the output from #1, split those three sentences into words. \n",
    "\n",
    "Your output should be something like this:\n",
    "\n",
    "```python\n",
    "['I', 'am', 'not', 'superstitious'],\n",
    "['I', 'have', 'read', 'a', 'heap', 'of', 'books', 'in', 'my', 'time'],\n",
    "['I', 'am', 'a', 'scholar', 'in', 'my', 'own', 'way.']\n",
    "[]\n",
    "```\n",
    "\n",
    "(Hint: use a `for` loop to go through each of the sentences you made in #1. You may or may not have an empty list at the end, depending on whether you got rid of the empty string above.) "
   ]
  },
  {
   "cell_type": "code",
   "execution_count": 2,
   "metadata": {},
   "outputs": [],
   "source": [
    "# Enter code here. "
   ]
  },
  {
   "cell_type": "markdown",
   "metadata": {},
   "source": [
    "### 3. Write some Python to extract the fifth through seventh words from the second sentence above. \n",
    "\n",
    "Start with this list of words:\n",
    "\n",
    "```python\n",
    "['I', 'have', 'read', 'a', 'heap', 'of', 'books', 'in', 'my', 'time']\n",
    "```\n",
    "\n",
    "Your output should be:\n",
    "\n",
    "```python\n",
    "[\"heap\", \"of\", \"books\"]\n",
    "```"
   ]
  },
  {
   "cell_type": "code",
   "execution_count": 2,
   "metadata": {},
   "outputs": [
    {
     "data": {
      "text/plain": [
       "['heap', 'of', 'books']"
      ]
     },
     "execution_count": 2,
     "metadata": {},
     "output_type": "execute_result"
    }
   ],
   "source": [
    "sent = ['I', 'have', 'read', 'a', 'heap', 'of', 'books', 'in', 'my', 'time']\n",
    "sent[4:7]"
   ]
  },
  {
   "cell_type": "markdown",
   "metadata": {},
   "source": [
    "### 4. Using a table of contents for _The Moonstone_, make a data structure that shows the hierarchy of the novel.\n",
    "\n",
    "Maybe consult a paper copy, since my electronic edition doesn't have a great table of contents. \n",
    "\n",
    "The data structure could be a dictionary containing lists and other dictionaries. For example: \n",
    "\n",
    "```python\n",
    "{\"Prologue\": [\"I\", \"II\", \"III\", \"IV\"], ... }\n",
    "```\n",
    "              \n",
    "Note that the section called \"the story\" contains \"first period\" and \"second period.\" The \"second period\" contains several narratives, and some of those narratives have chapters. \n",
    "\n",
    "Additionally, write a sentence or two (in a markdown cell) with anything you notice about this structure. "
   ]
  },
  {
   "cell_type": "code",
   "execution_count": 4,
   "metadata": {},
   "outputs": [],
   "source": [
    "# Enter code here. "
   ]
  },
  {
   "cell_type": "markdown",
   "metadata": {},
   "source": [
    "Enter markdown here. "
   ]
  },
  {
   "cell_type": "markdown",
   "metadata": {},
   "source": [
    "### 5. Using your table of contents data, write a line of python to get the name of the second chapter of the first period.\n",
    "\n",
    "Your program should output \"Chapter II.\" "
   ]
  },
  {
   "cell_type": "code",
   "execution_count": 5,
   "metadata": {},
   "outputs": [],
   "source": [
    "# Enter code here. "
   ]
  },
  {
   "cell_type": "markdown",
   "metadata": {},
   "source": [
    "### 6. Write a little program that takes a name as user input, and checks whether it is in a list of *Moonstone* characters. \n",
    "\n",
    "Here's a list you could use: \n",
    "\n",
    "```python\n",
    "characters = [\"Gabriel\", \"Rachel\", \"Franklin\", \"Rosanna\", \"Moonstone\"]\n",
    "```\n",
    "\n",
    "And here's what it would look like to run the program: \n",
    "\n",
    "```\n",
    "What's the name you want to check? Franklin\n",
    "Franklin is a character in *The Moonstone*!\n",
    "\n",
    "What's the name you want to check? Jonathan\n",
    "Jonathan is not a character in *The Moonstone*!\n",
    "```\n",
    "\n",
    "Hint: use the `input()` function to get user input, and check (using `if`) whether that answer is in (using `in`) the list. "
   ]
  },
  {
   "cell_type": "code",
   "execution_count": 6,
   "metadata": {},
   "outputs": [],
   "source": [
    "# Enter code here. \n",
    "answer = input(\"What's the name you want to check?\")\n",
    "characters = [\"Gabriel\", \"Rachel\", \"Franklin\", \"Rosanna\", \"Moonstone\"]\n",
    "if answer in characters: \n",
    "    print(f\"{answer} is a character in *The Moonstone*!\")\n",
    "else: \n",
    "    print(f\"{answer} is not a character in *The Moonstone*!\")"
   ]
  },
  {
   "cell_type": "markdown",
   "metadata": {},
   "source": [
    "### 7. Using the list of characters above, write some Python to print them out in a string like the one below. \n",
    "\n",
    "Your output should look like this: \n",
    "\n",
    "```\n",
    "Some characters in *The Moonstone* are: Gabriel, Rachel, Franklin, Rosanna, and Moonstone.\n",
    "```\n",
    "\n",
    "Note that there is an `and` before the final element. \n",
    "\n",
    "Your program should work the same way, no matter the length or contents of the character list. So if you were to change your character list to just this: \n",
    "\n",
    "```python\n",
    "characters = [\"Betteredge\", \"Rachel\"]\n",
    "```\n",
    "\n",
    "It should then output: \n",
    "\n",
    "```\n",
    "Some characters in *The Moonstone* are: Betteredge, and Rachel.\n",
    "```"
   ]
  },
  {
   "cell_type": "code",
   "execution_count": 4,
   "metadata": {},
   "outputs": [
    {
     "name": "stdout",
     "output_type": "stream",
     "text": [
      "Some characters in the moonstone are: Gabriel, Rachel, Franklin, Rosanna, and Moonstone\n"
     ]
    }
   ],
   "source": [
    "\n",
    "characters = [\"Gabriel\", \"Rachel\", \"Franklin\", \"Rosanna\", \"Moonstone\"]\n",
    "lastCharacter = characters.pop() \n",
    "commaSeparated = ', '.join(characters)\n",
    "print(f\"Some characters in the moonstone are: {commaSeparated}, and {lastCharacter}\")"
   ]
  },
  {
   "cell_type": "markdown",
   "metadata": {},
   "source": [
    "### 8. Write 1-2 paragraphs about something you notice happening in _The Moonstone_ that you think might be operationalized (i.e. tested using a computational analysis). \n",
    "\n",
    "And also, what do you think the results of the analysis will be? "
   ]
  },
  {
   "cell_type": "markdown",
   "metadata": {},
   "source": [
    "Enter markdown here. "
   ]
  },
  {
   "cell_type": "markdown",
   "metadata": {},
   "source": [
    "### BONUS: (This question is optional.) Write a program to calculate the tea-to-coffee ratio for a text, and run it on a few novels of your choosing, some British, and some American. \n",
    "\n",
    "That is, count the number of times the word \"tea\" appears, and the number of times \"coffee\" appears in a text: \n",
    "\n",
    "$$\\frac{\\text{\"tea\" counts}}{\\text{\"coffee\" counts}}$$ \n",
    "\n",
    "In a markdown cell, write about what you notice."
   ]
  },
  {
   "cell_type": "code",
   "execution_count": 8,
   "metadata": {},
   "outputs": [],
   "source": [
    "# Enter code here."
   ]
  },
  {
   "cell_type": "markdown",
   "metadata": {},
   "source": [
    "Enter markdown here."
   ]
  }
 ],
 "metadata": {
  "kernelspec": {
   "display_name": "Python 3",
   "language": "python",
   "name": "python3"
  },
  "language_info": {
   "codemirror_mode": {
    "name": "ipython",
    "version": 3
   },
   "file_extension": ".py",
   "mimetype": "text/x-python",
   "name": "python",
   "nbconvert_exporter": "python",
   "pygments_lexer": "ipython3",
   "version": "3.8.5"
  }
 },
 "nbformat": 4,
 "nbformat_minor": 4
}
