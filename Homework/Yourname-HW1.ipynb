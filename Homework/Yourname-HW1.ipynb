{
 "cells": [
  {
   "cell_type": "markdown",
   "metadata": {},
   "source": [
    "# Homework 1\n",
    "\n",
    "## Your name here\n",
    "\n",
    "Instructions: \n",
    "\n",
    " 1. Watch [Lecture 2](https://www.youtube.com/watch?v=g9vOlQ7kiTo&t=183s) and [Lecture 3](https://www.youtube.com/watch?v=EUwFQTEBjPU). \n",
    " 1. Download this file from the course repository, save it to your computer, and open it in Jupyter Lab.\n",
    " 2. Replace \"Yourname\" in the title of this notebook with your first name, and replace \"your name here\" in the heading above, as well.\n",
    " 2. Complete all problems 1-8, and **run the cell containing your solution**, to show that it works. In other words, enter code in the cells marked `# Enter code here.`, and press Ctrl+Enter to run that code.\n",
    " 3. When you're done, run \"restart and run all\" from the kernel menu, to make sure that your notebook runs sequentially (to avoid any problems with running cells out of order). \n",
    " 4. Email me the resulting .ipynb file, to jonathan.reeve@columbia.edu, before our discussion section on Monday.\n",
    " \n",
    " **Since late work can't be accepted, please start on this early, and turn it in as early as you can.**"
   ]
  },
  {
   "cell_type": "markdown",
   "metadata": {},
   "source": [
    "### 1. Demonstrate that you've mastered Markdown. \n",
    "\n",
    "In the markdown cell below, copy the following text and make all the appropriate changes to its formatting: \n",
    "\n",
    " - This should be a link to the website Duck Duck Go.\n",
    " - The name of the novel The Moonstone should be italicized. \n",
    " - The word \"boldface\" in this sentence should be emphasized in boldface. \n",
    " - Format the inline code: print(\"Hello world\") as Python code\n",
    " - Format the code block below as Python code\n",
    "\n",
    "for word in \"Hello world\".split():     \n",
    "&nbsp;&nbsp;&nbsp;&nbsp;print(word.upper())    \n",
    "\n",
    " - Format the block below as a prose block quote: \n",
    " \n",
    " I am not superstitious. I have read a heap of books in my time. I am a scholar in my own way. \n",
    " \n",
    " - Insert an image of a kitten, from placekitten.com\n",
    " - Make a second-level header for this cell and call it \"answer to #1.\" \n"
   ]
  },
  {
   "cell_type": "raw",
   "metadata": {},
   "source": [
    "Enter answer here. "
   ]
  },
  {
   "cell_type": "markdown",
   "metadata": {},
   "source": [
    "### 2. Write a line of Python to split this passage into sentences. \n",
    "\n",
    "Here is the sentence to split:\n",
    "\n",
    "\"I am not superstitious. I have read a heap of books in my time. I am a scholar in my own way.\"\n",
    "\n",
    "Your output should be a list like this: \n",
    "\n",
    "```python\n",
    "[\"I am not superstitious\", \" I have read a heap of books in my time\", \" I am a scholar in my own way\", '']\n",
    "```\n",
    "\n",
    "(There is an empty list at the end, which is because Python still splits on the last period, and gives you what comes after it, which is an empty string, `''`. You can either keep this, or remove it with `.pop()`, or by slicing: `mystring[:-1]`)"
   ]
  },
  {
   "cell_type": "code",
   "execution_count": 1,
   "metadata": {},
   "outputs": [],
   "source": [
    "# Enter code here. "
   ]
  },
  {
   "cell_type": "markdown",
   "metadata": {},
   "source": [
    "### 3. Could you use the method from #1 to split a whole novel into sentences? Why or why not? "
   ]
  },
  {
   "cell_type": "markdown",
   "metadata": {},
   "source": [
    "Enter answer here, in Markdown."
   ]
  },
  {
   "cell_type": "markdown",
   "metadata": {},
   "source": [
    "### 4. Using the output from question #2, split those three sentences into words. \n",
    "\n",
    "Your input should be something like this list:\n",
    "\n",
    "```python\n",
    "[\"I am not superstitious\", \" I have read a heap of books in my time\", \" I am a scholar in my own way\", '']\n",
    "```\n",
    "\n",
    "Your output should be something like this:\n",
    "\n",
    "```python\n",
    "['I', 'am', 'not', 'superstitious'],\n",
    "['I', 'have', 'read', 'a', 'heap', 'of', 'books', 'in', 'my', 'time'],\n",
    "['I', 'am', 'a', 'scholar', 'in', 'my', 'own', 'way.']\n",
    "[]\n",
    "```\n",
    "\n",
    "(Hint: use a `for` loop to go through each of the sentences you made in #1. You may or may not have an empty list at the end, depending on whether you got rid of the empty string above.) "
   ]
  },
  {
   "cell_type": "code",
   "execution_count": 2,
   "metadata": {},
   "outputs": [],
   "source": [
    "# Enter code here. "
   ]
  },
  {
   "cell_type": "markdown",
   "metadata": {},
   "source": [
    "### 5. Write some Python to extract the first word from the sentence above. \n",
    "\n",
    "Start with this list of words:\n",
    "\n",
    "```python\n",
    "['I', 'have', 'read', 'a', 'heap', 'of', 'books', 'in', 'my', 'time']\n",
    "```\n",
    "\n",
    "Your output should be:\n",
    "\n",
    "```python\n",
    "\"I\"\n",
    "```"
   ]
  },
  {
   "cell_type": "code",
   "execution_count": 1,
   "metadata": {},
   "outputs": [],
   "source": [
    "# Enter code here. "
   ]
  },
  {
   "cell_type": "markdown",
   "metadata": {},
   "source": [
    "### 6. Write some Python to extract the fifth through seventh words from that same sentence. \n",
    "\n",
    "Starting with this list, again: \n",
    "\n",
    "```python\n",
    "['I', 'have', 'read', 'a', 'heap', 'of', 'books', 'in', 'my', 'time']\n",
    "```\n",
    "\n",
    "Your output should be: \n",
    "\n",
    "```\n",
    "[\"heap\", \"of\", \"books\"]\n",
    "```"
   ]
  },
  {
   "cell_type": "code",
   "execution_count": 3,
   "metadata": {},
   "outputs": [],
   "source": [
    "# Enter code here. "
   ]
  },
  {
   "cell_type": "markdown",
   "metadata": {},
   "source": [
    "### 7. Write a little program that takes a name as user input, and checks whether it is in a list of *Moonstone* characters. \n",
    "\n",
    "Here's a list you could use: \n",
    "\n",
    "```python\n",
    "characters = [\"Gabriel\", \"Rachel\", \"Franklin\", \"Rosanna\", \"Moonstone\"]\n",
    "```\n",
    "\n",
    "And here's what it would look like to run the program: \n",
    "\n",
    "```\n",
    "What's the name you want to check? Franklin\n",
    "Franklin is a character in *The Moonstone*!\n",
    "\n",
    "What's the name you want to check? Jonathan\n",
    "Jonathan is not a character in *The Moonstone*!\n",
    "```\n",
    "\n",
    "Hint: use the `input()` function to get user input, and check (using `if`) whether that answer is in (using `in`) the list. "
   ]
  },
  {
   "cell_type": "code",
   "execution_count": 4,
   "metadata": {},
   "outputs": [],
   "source": [
    "# Enter code here. "
   ]
  },
  {
   "cell_type": "markdown",
   "metadata": {},
   "source": [
    "### 8. Does your program work if you enter the lowercased version of a name? (I.e., \"franklin\" instead of \"Franklin\"?) Why is that? And how could you modify your program so that works with lowercased names, too? "
   ]
  },
  {
   "cell_type": "markdown",
   "metadata": {},
   "source": [
    "Enter answer here. "
   ]
  },
  {
   "cell_type": "markdown",
   "metadata": {},
   "source": [
    "### 9. Using the list of characters above, write some Python to print them out in a string like the one below. \n",
    "\n",
    "Your output should look like this: \n",
    "\n",
    "```\n",
    "Some characters in *The Moonstone* are: Gabriel, Rachel, Franklin, Rosanna, and Moonstone.\n",
    "```\n",
    "\n",
    "Note that there is an `and` before the final element. \n",
    "\n",
    "Your program should work the same way, no matter the length or contents of the character list. So if you were to change your character list to just this: \n",
    "\n",
    "```python\n",
    "characters = [\"Betteredge\", \"Rachel\"]\n",
    "```\n",
    "\n",
    "It should then output: \n",
    "\n",
    "```\n",
    "Some characters in *The Moonstone* are: Betteredge, and Rachel.\n",
    "```"
   ]
  },
  {
   "cell_type": "code",
   "execution_count": 5,
   "metadata": {},
   "outputs": [],
   "source": [
    "# Enter code here. "
   ]
  },
  {
   "cell_type": "markdown",
   "metadata": {},
   "source": [
    "### 10. Write 1-2 paragraphs about something you notice happening in _The Moonstone_ that you think might be operationalized (i.e. tested using a computational analysis). \n",
    "\n",
    "And also, what do you think the results of the analysis will be? "
   ]
  },
  {
   "cell_type": "markdown",
   "metadata": {},
   "source": [
    "Enter markdown here. "
   ]
  },
  {
   "cell_type": "markdown",
   "metadata": {},
   "source": [
    "### BONUS: (This question is optional.) Write a program to calculate the tea-to-coffee ratio for a text, and run it on a few novels of your choosing, some British, and some American. \n",
    "\n",
    "Count the number of times the word \"tea\" appears, and the number of times \"coffee\" appears in a text: \n",
    "\n",
    "$$\\frac{\\text{\"tea\" counts}}{\\text{\"coffee\" counts}}$$ \n",
    "\n",
    "You may need to look up how to load files.\n",
    "\n",
    "Make sure that you're counting \"tea\" but not, e.g., \"teal.\" \n",
    "\n",
    "In a markdown cell, write about what you notice."
   ]
  },
  {
   "cell_type": "code",
   "execution_count": 8,
   "metadata": {},
   "outputs": [],
   "source": [
    "# Enter code here."
   ]
  },
  {
   "cell_type": "markdown",
   "metadata": {},
   "source": [
    "Enter markdown here."
   ]
  }
 ],
 "metadata": {
  "kernelspec": {
   "display_name": "Python 3",
   "language": "python",
   "name": "python3"
  },
  "language_info": {
   "codemirror_mode": {
    "name": "ipython",
    "version": 3
   },
   "file_extension": ".py",
   "mimetype": "text/x-python",
   "name": "python",
   "nbconvert_exporter": "python",
   "pygments_lexer": "ipython3",
   "version": "3.8.8"
  }
 },
 "nbformat": 4,
 "nbformat_minor": 4
}
