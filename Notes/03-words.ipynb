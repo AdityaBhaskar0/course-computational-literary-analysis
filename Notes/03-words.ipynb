{
 "cells": [
  {
   "cell_type": "markdown",
   "metadata": {},
   "source": [
    "# Words\n",
    "\n",
    "Using the NLTK. This is the Natural Language ToolKit. "
   ]
  },
  {
   "cell_type": "code",
   "execution_count": 4,
   "metadata": {},
   "outputs": [],
   "source": [
    "import nltk"
   ]
  },
  {
   "cell_type": "code",
   "execution_count": null,
   "metadata": {},
   "outputs": [],
   "source": [
    "# !pip install nltk # If the above command doesn't work. \n",
    "# !conda install nltk # Maybe this with Anaconda"
   ]
  },
  {
   "cell_type": "code",
   "execution_count": 2,
   "metadata": {},
   "outputs": [
    {
     "name": "stderr",
     "output_type": "stream",
     "text": [
      "[nltk_data] Downloading collection 'book'\n",
      "[nltk_data]    | \n",
      "[nltk_data]    | Downloading package abc to /home/jon/nltk_data...\n",
      "[nltk_data]    |   Unzipping corpora/abc.zip.\n",
      "[nltk_data]    | Downloading package brown to /home/jon/nltk_data...\n",
      "[nltk_data]    |   Unzipping corpora/brown.zip.\n",
      "[nltk_data]    | Downloading package chat80 to /home/jon/nltk_data...\n",
      "[nltk_data]    |   Unzipping corpora/chat80.zip.\n",
      "[nltk_data]    | Downloading package cmudict to /home/jon/nltk_data...\n",
      "[nltk_data]    |   Unzipping corpora/cmudict.zip.\n",
      "[nltk_data]    | Downloading package conll2000 to\n",
      "[nltk_data]    |     /home/jon/nltk_data...\n",
      "[nltk_data]    |   Unzipping corpora/conll2000.zip.\n",
      "[nltk_data]    | Downloading package conll2002 to\n",
      "[nltk_data]    |     /home/jon/nltk_data...\n",
      "[nltk_data]    |   Unzipping corpora/conll2002.zip.\n",
      "[nltk_data]    | Downloading package dependency_treebank to\n",
      "[nltk_data]    |     /home/jon/nltk_data...\n",
      "[nltk_data]    |   Unzipping corpora/dependency_treebank.zip.\n",
      "[nltk_data]    | Downloading package genesis to /home/jon/nltk_data...\n",
      "[nltk_data]    |   Unzipping corpora/genesis.zip.\n",
      "[nltk_data]    | Downloading package gutenberg to\n",
      "[nltk_data]    |     /home/jon/nltk_data...\n",
      "[nltk_data]    |   Unzipping corpora/gutenberg.zip.\n",
      "[nltk_data]    | Downloading package ieer to /home/jon/nltk_data...\n",
      "[nltk_data]    |   Unzipping corpora/ieer.zip.\n",
      "[nltk_data]    | Downloading package inaugural to\n",
      "[nltk_data]    |     /home/jon/nltk_data...\n",
      "[nltk_data]    |   Unzipping corpora/inaugural.zip.\n",
      "[nltk_data]    | Downloading package movie_reviews to\n",
      "[nltk_data]    |     /home/jon/nltk_data...\n",
      "[nltk_data]    |   Unzipping corpora/movie_reviews.zip.\n",
      "[nltk_data]    | Downloading package nps_chat to\n",
      "[nltk_data]    |     /home/jon/nltk_data...\n",
      "[nltk_data]    |   Unzipping corpora/nps_chat.zip.\n",
      "[nltk_data]    | Downloading package names to /home/jon/nltk_data...\n",
      "[nltk_data]    |   Unzipping corpora/names.zip.\n",
      "[nltk_data]    | Downloading package ppattach to\n",
      "[nltk_data]    |     /home/jon/nltk_data...\n",
      "[nltk_data]    |   Unzipping corpora/ppattach.zip.\n",
      "[nltk_data]    | Downloading package reuters to /home/jon/nltk_data...\n",
      "[nltk_data]    | Downloading package senseval to\n",
      "[nltk_data]    |     /home/jon/nltk_data...\n",
      "[nltk_data]    |   Unzipping corpora/senseval.zip.\n",
      "[nltk_data]    | Downloading package state_union to\n",
      "[nltk_data]    |     /home/jon/nltk_data...\n",
      "[nltk_data]    |   Unzipping corpora/state_union.zip.\n",
      "[nltk_data]    | Downloading package stopwords to\n",
      "[nltk_data]    |     /home/jon/nltk_data...\n",
      "[nltk_data]    |   Unzipping corpora/stopwords.zip.\n",
      "[nltk_data]    | Downloading package swadesh to /home/jon/nltk_data...\n",
      "[nltk_data]    |   Unzipping corpora/swadesh.zip.\n",
      "[nltk_data]    | Downloading package timit to /home/jon/nltk_data...\n",
      "[nltk_data]    |   Unzipping corpora/timit.zip.\n",
      "[nltk_data]    | Downloading package treebank to\n",
      "[nltk_data]    |     /home/jon/nltk_data...\n",
      "[nltk_data]    |   Unzipping corpora/treebank.zip.\n",
      "[nltk_data]    | Downloading package toolbox to /home/jon/nltk_data...\n",
      "[nltk_data]    |   Unzipping corpora/toolbox.zip.\n",
      "[nltk_data]    | Downloading package udhr to /home/jon/nltk_data...\n",
      "[nltk_data]    |   Unzipping corpora/udhr.zip.\n",
      "[nltk_data]    | Downloading package udhr2 to /home/jon/nltk_data...\n",
      "[nltk_data]    |   Unzipping corpora/udhr2.zip.\n",
      "[nltk_data]    | Downloading package unicode_samples to\n",
      "[nltk_data]    |     /home/jon/nltk_data...\n",
      "[nltk_data]    |   Unzipping corpora/unicode_samples.zip.\n",
      "[nltk_data]    | Downloading package webtext to /home/jon/nltk_data...\n",
      "[nltk_data]    |   Unzipping corpora/webtext.zip.\n",
      "[nltk_data]    | Downloading package wordnet to /home/jon/nltk_data...\n",
      "[nltk_data]    |   Package wordnet is already up-to-date!\n",
      "[nltk_data]    | Downloading package wordnet_ic to\n",
      "[nltk_data]    |     /home/jon/nltk_data...\n",
      "[nltk_data]    |   Unzipping corpora/wordnet_ic.zip.\n",
      "[nltk_data]    | Downloading package words to /home/jon/nltk_data...\n",
      "[nltk_data]    |   Unzipping corpora/words.zip.\n",
      "[nltk_data]    | Downloading package maxent_treebank_pos_tagger to\n",
      "[nltk_data]    |     /home/jon/nltk_data...\n",
      "[nltk_data]    |   Unzipping taggers/maxent_treebank_pos_tagger.zip.\n",
      "[nltk_data]    | Downloading package maxent_ne_chunker to\n",
      "[nltk_data]    |     /home/jon/nltk_data...\n",
      "[nltk_data]    |   Unzipping chunkers/maxent_ne_chunker.zip.\n",
      "[nltk_data]    | Downloading package universal_tagset to\n",
      "[nltk_data]    |     /home/jon/nltk_data...\n",
      "[nltk_data]    |   Unzipping taggers/universal_tagset.zip.\n",
      "[nltk_data]    | Downloading package punkt to /home/jon/nltk_data...\n",
      "[nltk_data]    |   Unzipping tokenizers/punkt.zip.\n",
      "[nltk_data]    | Downloading package book_grammars to\n",
      "[nltk_data]    |     /home/jon/nltk_data...\n",
      "[nltk_data]    |   Unzipping grammars/book_grammars.zip.\n",
      "[nltk_data]    | Downloading package city_database to\n",
      "[nltk_data]    |     /home/jon/nltk_data...\n",
      "[nltk_data]    |   Unzipping corpora/city_database.zip.\n",
      "[nltk_data]    | Downloading package tagsets to /home/jon/nltk_data...\n",
      "[nltk_data]    |   Unzipping help/tagsets.zip.\n",
      "[nltk_data]    | Downloading package panlex_swadesh to\n",
      "[nltk_data]    |     /home/jon/nltk_data...\n",
      "[nltk_data]    | Downloading package averaged_perceptron_tagger to\n",
      "[nltk_data]    |     /home/jon/nltk_data...\n",
      "[nltk_data]    |   Package averaged_perceptron_tagger is already up-\n",
      "[nltk_data]    |       to-date!\n",
      "[nltk_data]    | \n",
      "[nltk_data]  Done downloading collection book\n"
     ]
    },
    {
     "data": {
      "text/plain": [
       "True"
      ]
     },
     "execution_count": 2,
     "metadata": {},
     "output_type": "execute_result"
    }
   ],
   "source": [
    "nltk.download('book')"
   ]
  },
  {
   "cell_type": "code",
   "execution_count": 7,
   "metadata": {},
   "outputs": [],
   "source": [
    "clackSentence = \"In that happy bygone time, I was taught to keep my hair tidy at all hours of the day.\""
   ]
  },
  {
   "cell_type": "code",
   "execution_count": 9,
   "metadata": {},
   "outputs": [
    {
     "data": {
      "text/plain": [
       "['In',\n",
       " 'that',\n",
       " 'happy',\n",
       " 'bygone',\n",
       " 'time',\n",
       " ',',\n",
       " 'I',\n",
       " 'was',\n",
       " 'taught',\n",
       " 'to',\n",
       " 'keep',\n",
       " 'my',\n",
       " 'hair',\n",
       " 'tidy',\n",
       " 'at',\n",
       " 'all',\n",
       " 'hours',\n",
       " 'of',\n",
       " 'the',\n",
       " 'day',\n",
       " '.']"
      ]
     },
     "execution_count": 9,
     "metadata": {},
     "output_type": "execute_result"
    }
   ],
   "source": [
    "nltk.word_tokenize(clackSentence)"
   ]
  },
  {
   "cell_type": "code",
   "execution_count": 10,
   "metadata": {},
   "outputs": [
    {
     "data": {
      "text/plain": [
       "['I', 'do', \"n't\", 'think', 'so', '!']"
      ]
     },
     "execution_count": 10,
     "metadata": {},
     "output_type": "execute_result"
    }
   ],
   "source": [
    "nltk.word_tokenize(\"I don't think so!\")"
   ]
  },
  {
   "cell_type": "code",
   "execution_count": 12,
   "metadata": {},
   "outputs": [
    {
     "data": {
      "text/plain": [
       "'photograph'"
      ]
     },
     "execution_count": 12,
     "metadata": {},
     "output_type": "execute_result"
    }
   ],
   "source": [
    "stemmer = nltk.stem.LancasterStemmer() \n",
    "stemmer.stem(\"photography\")"
   ]
  },
  {
   "cell_type": "code",
   "execution_count": 13,
   "metadata": {},
   "outputs": [
    {
     "data": {
      "text/plain": [
       "'photograph'"
      ]
     },
     "execution_count": 13,
     "metadata": {},
     "output_type": "execute_result"
    }
   ],
   "source": [
    "stemmer.stem(\"photographer\")"
   ]
  },
  {
   "cell_type": "code",
   "execution_count": 14,
   "metadata": {},
   "outputs": [
    {
     "data": {
      "text/plain": [
       "'inform'"
      ]
     },
     "execution_count": 14,
     "metadata": {},
     "output_type": "execute_result"
    }
   ],
   "source": [
    "stemmer.stem(\"informative\")"
   ]
  },
  {
   "cell_type": "code",
   "execution_count": 15,
   "metadata": {},
   "outputs": [
    {
     "data": {
      "text/plain": [
       "'inform'"
      ]
     },
     "execution_count": 15,
     "metadata": {},
     "output_type": "execute_result"
    }
   ],
   "source": [
    "stemmer.stem(\"informational\")"
   ]
  },
  {
   "cell_type": "code",
   "execution_count": 19,
   "metadata": {},
   "outputs": [
    {
     "data": {
      "text/plain": [
       "'run'"
      ]
     },
     "execution_count": 19,
     "metadata": {},
     "output_type": "execute_result"
    }
   ],
   "source": [
    "lemmatizer = nltk.stem.WordNetLemmatizer()\n",
    "lemmatizer.lemmatize(\"runs\")"
   ]
  },
  {
   "cell_type": "code",
   "execution_count": 20,
   "metadata": {},
   "outputs": [
    {
     "data": {
      "text/plain": [
       "'went'"
      ]
     },
     "execution_count": 20,
     "metadata": {},
     "output_type": "execute_result"
    }
   ],
   "source": [
    "lemmatizer.lemmatize(\"went\")"
   ]
  },
  {
   "cell_type": "code",
   "execution_count": 21,
   "metadata": {},
   "outputs": [
    {
     "data": {
      "text/plain": [
       "'gone'"
      ]
     },
     "execution_count": 21,
     "metadata": {},
     "output_type": "execute_result"
    }
   ],
   "source": [
    "lemmatizer.lemmatize(\"gone\")"
   ]
  },
  {
   "cell_type": "code",
   "execution_count": 22,
   "metadata": {},
   "outputs": [
    {
     "data": {
      "text/plain": [
       "'saying'"
      ]
     },
     "execution_count": 22,
     "metadata": {},
     "output_type": "execute_result"
    }
   ],
   "source": [
    "lemmatizer.lemmatize(\"saying\")"
   ]
  },
  {
   "cell_type": "code",
   "execution_count": 23,
   "metadata": {},
   "outputs": [
    {
     "name": "stdout",
     "output_type": "stream",
     "text": [
      "In\n",
      "that\n",
      "happy\n",
      "bygone\n",
      "time\n",
      ",\n",
      "I\n",
      "wa\n",
      "taught\n",
      "to\n",
      "keep\n",
      "my\n",
      "hair\n",
      "tidy\n",
      "at\n",
      "all\n",
      "hour\n",
      "of\n",
      "the\n",
      "day\n",
      ".\n"
     ]
    }
   ],
   "source": [
    "for token in nltk.word_tokenize(clackSentence):\n",
    "    print(lemmatizer.lemmatize(token))"
   ]
  },
  {
   "cell_type": "code",
   "execution_count": 24,
   "metadata": {},
   "outputs": [
    {
     "name": "stdout",
     "output_type": "stream",
     "text": [
      "in\n",
      "that\n",
      "happy\n",
      "bygon\n",
      "tim\n",
      ",\n",
      "i\n",
      "was\n",
      "taught\n",
      "to\n",
      "keep\n",
      "my\n",
      "hair\n",
      "tidy\n",
      "at\n",
      "al\n",
      "hour\n",
      "of\n",
      "the\n",
      "day\n",
      ".\n"
     ]
    }
   ],
   "source": [
    "for token in nltk.word_tokenize(clackSentence):\n",
    "    print(stemmer.stem(token))"
   ]
  },
  {
   "cell_type": "code",
   "execution_count": 26,
   "metadata": {},
   "outputs": [
    {
     "data": {
      "text/plain": [
       "'/home/jon/Code/course-computational-literary-analysis/Notes'"
      ]
     },
     "execution_count": 26,
     "metadata": {},
     "output_type": "execute_result"
    }
   ],
   "source": [
    "%pwd"
   ]
  },
  {
   "cell_type": "code",
   "execution_count": 27,
   "metadata": {},
   "outputs": [
    {
     "name": "stdout",
     "output_type": "stream",
     "text": [
      "moonstone.md\n"
     ]
    }
   ],
   "source": [
    "%ls ../Texts"
   ]
  },
  {
   "cell_type": "code",
   "execution_count": 28,
   "metadata": {},
   "outputs": [],
   "source": [
    "moonstone = open('../Texts/moonstone.md').read()"
   ]
  },
  {
   "cell_type": "code",
   "execution_count": 29,
   "metadata": {},
   "outputs": [
    {
     "data": {
      "text/plain": [
       "' Prologue\\n\\nThe Storming of Seringapatam (1799)\\n\\nEx'"
      ]
     },
     "execution_count": 29,
     "metadata": {},
     "output_type": "execute_result"
    }
   ],
   "source": [
    "moonstone[300:350]"
   ]
  },
  {
   "cell_type": "code",
   "execution_count": 30,
   "metadata": {},
   "outputs": [],
   "source": [
    "url = \"https://raw.githubusercontent.com/JonathanReeve/course-computational-literary-analysis/master/Texts/moonstone.md\"\n",
    "import requests\n",
    "moonstone = requests.get(url).text"
   ]
  },
  {
   "cell_type": "code",
   "execution_count": 31,
   "metadata": {},
   "outputs": [
    {
     "data": {
      "text/plain": [
       "' Prologue\\n\\nThe Storming of Seringapatam (1799)\\n\\nEx'"
      ]
     },
     "execution_count": 31,
     "metadata": {},
     "output_type": "execute_result"
    }
   ],
   "source": [
    "moonstone[300:350]"
   ]
  },
  {
   "cell_type": "code",
   "execution_count": 32,
   "metadata": {},
   "outputs": [],
   "source": [
    "secondLevels = moonstone.split('\\n## ')"
   ]
  },
  {
   "cell_type": "code",
   "execution_count": 42,
   "metadata": {},
   "outputs": [],
   "source": [
    "firstPeriod = secondLevels[2]\n",
    "secondPeriod = secondLevels[4]"
   ]
  },
  {
   "cell_type": "code",
   "execution_count": 43,
   "metadata": {},
   "outputs": [
    {
     "data": {
      "text/plain": [
       "'First Period\\n\\nTHE LOSS OF THE DIAMOND (1848)\\n\\nThe events related by GABRIEL BETTEREDGE, house-steward in the service\\nof JULIA, LADY VERINDER.\\n\\n### Chapter I\\n\\nIn the first part of ROBINSON CRUSOE, at p'"
      ]
     },
     "execution_count": 43,
     "metadata": {},
     "output_type": "execute_result"
    }
   ],
   "source": [
    "firstPeriod[:200]"
   ]
  },
  {
   "cell_type": "code",
   "execution_count": 44,
   "metadata": {},
   "outputs": [
    {
     "data": {
      "text/plain": [
       "'First Narrative\\n\\nContributed by MISS CLACK; niece of the late SIR JOHN VERINDER\\n\\n### Chapter I\\n\\nI am indebted to my dear parents (both now in heaven) for having had\\nhabits of order and regularity inst'"
      ]
     },
     "execution_count": 44,
     "metadata": {},
     "output_type": "execute_result"
    }
   ],
   "source": [
    "secondPeriod[:200]"
   ]
  },
  {
   "cell_type": "code",
   "execution_count": 45,
   "metadata": {},
   "outputs": [
    {
     "data": {
      "text/plain": [
       "'erience on the desert island–namely, “something to\\ncomfort yourselves from, and to set in the Description of Good and Evil,\\non the Credit Side of the Account.”–Farewell.\\n\\nTHE END OF THE FIRST PERIOD.\\n'"
      ]
     },
     "execution_count": 45,
     "metadata": {},
     "output_type": "execute_result"
    }
   ],
   "source": [
    "firstPeriod[-200:]"
   ]
  },
  {
   "cell_type": "code",
   "execution_count": 46,
   "metadata": {},
   "outputs": [
    {
     "data": {
      "text/plain": [
       "'yerful\\ngood wishes ever since. And when I die–to complete the return on my part\\nof good for evil–she will have the LIFE, LETTERS, AND LABOURS OF MISS\\nJANE ANN STAMPER left her as a legacy by my will.\\n'"
      ]
     },
     "execution_count": 46,
     "metadata": {},
     "output_type": "execute_result"
    }
   ],
   "source": [
    "secondPeriod[-200:]"
   ]
  },
  {
   "cell_type": "code",
   "execution_count": 48,
   "metadata": {},
   "outputs": [],
   "source": [
    "betteredge = firstPeriod\n",
    "clack = secondPeriod"
   ]
  },
  {
   "cell_type": "code",
   "execution_count": 53,
   "metadata": {},
   "outputs": [
    {
     "data": {
      "text/plain": [
       "'yerful\\ngood wishes ever since. And when I die–to complete the return on my part\\nof good for evil–she will have the LIFE, LETTERS, AND LABOURS OF MISS\\nJANE ANN STAMPER left her as a legacy by my will.\\n'"
      ]
     },
     "execution_count": 53,
     "metadata": {},
     "output_type": "execute_result"
    }
   ],
   "source": [
    "clack[-200:]"
   ]
  },
  {
   "cell_type": "code",
   "execution_count": 54,
   "metadata": {},
   "outputs": [
    {
     "data": {
      "text/plain": [
       "430922"
      ]
     },
     "execution_count": 54,
     "metadata": {},
     "output_type": "execute_result"
    }
   ],
   "source": [
    "open('../Texts/betteredge.md', 'w').write(betteredge)"
   ]
  },
  {
   "cell_type": "code",
   "execution_count": 55,
   "metadata": {},
   "outputs": [
    {
     "data": {
      "text/plain": [
       "169403"
      ]
     },
     "execution_count": 55,
     "metadata": {},
     "output_type": "execute_result"
    }
   ],
   "source": [
    "open('../Texts/clack.md', 'w').write(clack)"
   ]
  },
  {
   "cell_type": "code",
   "execution_count": 58,
   "metadata": {},
   "outputs": [],
   "source": [
    "bruff = secondLevels[5]"
   ]
  },
  {
   "cell_type": "code",
   "execution_count": 59,
   "metadata": {},
   "outputs": [
    {
     "name": "stdout",
     "output_type": "stream",
     "text": [
      "430922\n",
      "169403\n",
      "57285\n"
     ]
    }
   ],
   "source": [
    "for text in [betteredge, clack, bruff]:\n",
    "    print(len(text))"
   ]
  },
  {
   "cell_type": "code",
   "execution_count": 60,
   "metadata": {},
   "outputs": [],
   "source": [
    "betteregdeTokens = nltk.word_tokenize(betteredge)\n",
    "clackTokens = nltk.word_tokenize(clack)"
   ]
  },
  {
   "cell_type": "code",
   "execution_count": 61,
   "metadata": {},
   "outputs": [],
   "source": [
    "tokensList = []\n",
    "for narr in [betteredge, clack, bruff]:\n",
    "    tokens = nltk.word_tokenize(narr)\n",
    "    tokensList.append(tokens)"
   ]
  },
  {
   "cell_type": "code",
   "execution_count": 62,
   "metadata": {},
   "outputs": [
    {
     "data": {
      "text/plain": [
       "3"
      ]
     },
     "execution_count": 62,
     "metadata": {},
     "output_type": "execute_result"
    }
   ],
   "source": [
    "len(tokensList)"
   ]
  },
  {
   "cell_type": "code",
   "execution_count": 63,
   "metadata": {},
   "outputs": [],
   "source": [
    "betteredgeTokens, clackTokens, bruffTokens = tokensList"
   ]
  },
  {
   "cell_type": "code",
   "execution_count": 64,
   "metadata": {},
   "outputs": [
    {
     "name": "stdout",
     "output_type": "stream",
     "text": [
      "94933\n",
      "36261\n",
      "12132\n"
     ]
    }
   ],
   "source": [
    "for narr in tokensList:\n",
    "    print(len(narr))"
   ]
  },
  {
   "cell_type": "code",
   "execution_count": 68,
   "metadata": {},
   "outputs": [
    {
     "name": "stdout",
     "output_type": "stream",
     "text": [
      "3472\n",
      "1391\n",
      "411\n"
     ]
    }
   ],
   "source": [
    "for narr in tokensList: \n",
    "    print(narr.count(\".\"))"
   ]
  },
  {
   "cell_type": "code",
   "execution_count": 69,
   "metadata": {},
   "outputs": [],
   "source": [
    "from collections import Counter"
   ]
  },
  {
   "cell_type": "code",
   "execution_count": 72,
   "metadata": {},
   "outputs": [
    {
     "name": "stdout",
     "output_type": "stream",
     "text": [
      "[(',', 6283), ('the', 4455), ('.', 3472), ('to', 2646), ('of', 2129), ('I', 2044), ('and', 1855), ('in', 1579), ('a', 1453), ('“', 1212)]\n",
      "[(',', 2107), ('the', 1478), ('.', 1391), ('to', 1054), ('I', 943), ('of', 854), ('and', 595), ('in', 577), ('a', 534), ('“', 481)]\n",
      "[(',', 709), ('the', 604), ('.', 411), ('of', 394), ('to', 387), ('I', 326), ('in', 213), ('and', 183), ('a', 161), ('that', 159)]\n"
     ]
    }
   ],
   "source": [
    "for narr in tokensList:\n",
    "    print(Counter(narr).most_common(10))"
   ]
  },
  {
   "cell_type": "markdown",
   "metadata": {},
   "source": [
    "## Exploring the NLTK using Text Objects"
   ]
  },
  {
   "cell_type": "code",
   "execution_count": 73,
   "metadata": {},
   "outputs": [],
   "source": [
    "betText = nltk.Text(betteredgeTokens)"
   ]
  },
  {
   "cell_type": "code",
   "execution_count": 74,
   "metadata": {},
   "outputs": [
    {
     "data": {
      "text/plain": [
       "nltk.text.Text"
      ]
     },
     "execution_count": 74,
     "metadata": {},
     "output_type": "execute_result"
    }
   ],
   "source": [
    "type(betText)"
   ]
  },
  {
   "cell_type": "code",
   "execution_count": 75,
   "metadata": {},
   "outputs": [
    {
     "data": {
      "text/plain": [
       "['_CONTEXT_RE',\n",
       " '_COPY_TOKENS',\n",
       " '__class__',\n",
       " '__delattr__',\n",
       " '__dict__',\n",
       " '__dir__',\n",
       " '__doc__',\n",
       " '__eq__',\n",
       " '__format__',\n",
       " '__ge__',\n",
       " '__getattribute__',\n",
       " '__getitem__',\n",
       " '__gt__',\n",
       " '__hash__',\n",
       " '__init__',\n",
       " '__init_subclass__',\n",
       " '__le__',\n",
       " '__len__',\n",
       " '__lt__',\n",
       " '__module__',\n",
       " '__ne__',\n",
       " '__new__',\n",
       " '__reduce__',\n",
       " '__reduce_ex__',\n",
       " '__repr__',\n",
       " '__setattr__',\n",
       " '__sizeof__',\n",
       " '__str__',\n",
       " '__subclasshook__',\n",
       " '__unicode__',\n",
       " '__weakref__',\n",
       " '_context',\n",
       " '_train_default_ngram_lm',\n",
       " 'collocation_list',\n",
       " 'collocations',\n",
       " 'common_contexts',\n",
       " 'concordance',\n",
       " 'concordance_list',\n",
       " 'count',\n",
       " 'dispersion_plot',\n",
       " 'findall',\n",
       " 'generate',\n",
       " 'index',\n",
       " 'name',\n",
       " 'plot',\n",
       " 'readability',\n",
       " 'similar',\n",
       " 'tokens',\n",
       " 'unicode_repr',\n",
       " 'vocab']"
      ]
     },
     "execution_count": 75,
     "metadata": {},
     "output_type": "execute_result"
    }
   ],
   "source": [
    "dir(betText)"
   ]
  },
  {
   "cell_type": "markdown",
   "metadata": {},
   "source": [
    "## Concordances"
   ]
  },
  {
   "cell_type": "code",
   "execution_count": 77,
   "metadata": {},
   "outputs": [
    {
     "name": "stdout",
     "output_type": "stream",
     "text": [
      "Displaying 22 of 22 matches:\n",
      "# # Chapter I In the first part of ROBINSON CRUSOE , at page one hundred and t\n",
      "it. ” Only yesterday , I opened my ROBINSON CRUSOE at that place . Only this m\n",
      "ilities ) ever since ; seeing what Robinson Crusoe saw , as quoted above–namel\n",
      "ess my opinion that such a book as ROBINSON CRUSOE never was written , and nev\n",
      "CRUSOE . I have worn out six stout ROBINSON CRUSOES with hard work in my servi\n",
      "o much on the strength of it ; and ROBINSON CRUSOE put me right again . Price \n",
      "the afternoon , and my pipe and my ROBINSON CRUSOE in the evening–what more co\n",
      "I smoked a pipe and took a turn at ROBINSON CRUSOE . Before I had occupied mys\n",
      " ; to-morrow , on the authority of ROBINSON CRUSOE , I should be all the other\n",
      "uite comfortable , and all through ROBINSON CRUSOE ! My daughter Penelope has \n",
      "a whiff of my pipe , and a turn at ROBINSON CRUSOE . # # # Chapter VI Keeping \n",
      "I lit my pipe , and took a turn at ROBINSON CRUSOE . Before I had been at it f\n",
      "” The man who doesn ’ t believe in ROBINSON CRUSOE , after THAT , is a man wit\n",
      " and even the comforting effect of ROBINSON CRUSOE wore off , after Penelope l\n",
      "n ’ t even heart enough to open my ROBINSON CRUSOE . I went out into the yard \n",
      "which was even beyond the reach of ROBINSON CRUSOE . Being restless and misera\n",
      "you. ” I said nothing on my side . ROBINSON CRUSOE–God knows how–had got into \n",
      " wholesome application of a bit of ROBINSON CRUSOE . I hobbled out to my own r\n",
      "ith the needful reply , I produced ROBINSON CRUSOE , in which I am firmly pers\n",
      "ough for it . Mr. Franklin shut up ROBINSON CRUSOE , and floundered into his G\n",
      "by sticking fast to my pipe and my ROBINSON CRUSOE . The women ( excepting Pen\n",
      " these leaves of my writing , what ROBINSON CRUSOE found in his experience on \n"
     ]
    }
   ],
   "source": [
    "betText.concordance('Robinson') # KWIC: Key Words in Context"
   ]
  },
  {
   "cell_type": "code",
   "execution_count": 78,
   "metadata": {},
   "outputs": [],
   "source": [
    "clackText = nltk.Text(clackTokens)"
   ]
  },
  {
   "cell_type": "code",
   "execution_count": 79,
   "metadata": {},
   "outputs": [
    {
     "name": "stdout",
     "output_type": "stream",
     "text": [
      "Displaying 25 of 26 matches:\n",
      "t cost me a hard struggle , before Christian humility conquered sinful pride , \n",
      "staway ; and I said , in a tone of Christian interest , “ Will you favour me by\n",
      "he convenience of a stranger . The Christian Hero never hesitates where good is\n",
      "nded the stairs . Mr. Godfrey felt Christian fingers unfastening his bandage , \n",
      "entangled in its meshes . When the Christian hero of a hundred charitable victo\n",
      " ” I thought to myself . “ In this Christian country , what heathen advice ! ” \n",
      "ss of his daily life that the true Christian appears . This dear man was very c\n",
      "ed ! We must not judge others . My Christian friends , indeed , indeed , indeed\n",
      "t , oh , don ’ t let us judge ! My Christian friends , don ’ t let us judge ! S\n",
      ". ” Never had I seen and heard our Christian Hero to less advantage than on thi\n",
      "have not already mentioned that my Christian name is Drusilla , permit me to me\n",
      "at Pagan emotions to expect from a Christian Englishwoman anchored firmly on he\n",
      "t oh , what of that ? It is a poor Christian that is afraid of being insulted .\n",
      "it mean ? Alas ! it meant that our Christian Hero was to reveal himself to me i\n",
      " of manifest usefulness , the true Christian never yields . Neither public nor \n",
      "m , with the spirit of a primitive Christian . “ Don ’ t sit on the ottoman , ”\n",
      "s Mr. Franklin Blake that she is a Christian , and that it is , therefore , qui\n",
      " ) “ Miss Clack feels it an act of Christian duty ( before the correspondence c\n",
      "said sadly . “ Is THIS worthy of a Christian Englishwoman ? Is the passage from\n",
      "dged was simply shocking . Here in Christian England was a young woman in a sta\n",
      " . But ah , my friends ! a working Christian of my experience ( with an evangel\n",
      "lothes , the grateful heart of our Christian Hero overflowed . He pressed my ha\n",
      " fluctuations in my opinion of our Christian Hero , exactly as I find them reco\n",
      "sible results , very unworthy of a Christian Englishwoman who looks , not to wh\n",
      "t , that my heart yearns to make a Christian of you ? Has no inner voice told y\n"
     ]
    }
   ],
   "source": [
    "clackText.concordance('Christian')"
   ]
  },
  {
   "cell_type": "code",
   "execution_count": 80,
   "metadata": {},
   "outputs": [
    {
     "name": "stdout",
     "output_type": "stream",
     "text": [
      "Displaying 5 of 5 matches:\n",
      " s next Birthday after my death–the yellow Diamond belonging to me , and known\n",
      " into the stone , you looked into a yellow deep that drew your eyes into it so\n",
      "hatchet , and the skin of it was as yellow and dry and withered as an autumn l\n",
      "rs–very nicely dressed in some soft yellow stuff , that set off her dark compl\n",
      "ers like a flying garment , and the yellow wilderness of the beach with one so\n"
     ]
    }
   ],
   "source": [
    "betText.concordance('yellow')"
   ]
  },
  {
   "cell_type": "code",
   "execution_count": 85,
   "metadata": {},
   "outputs": [
    {
     "name": "stdout",
     "output_type": "stream",
     "text": [
      "\n",
      "Concordance for word:  red\n",
      "Displaying 6 of 6 matches:\n",
      "e observes , with a fierce look and a red face , that her journal is for her ow\n",
      " Her complexion turned of a beautiful red , which I had never seen in it before\n",
      "rl too . She was blushing of a deeper red than ever , seemingly at having caugh\n",
      "er six feet high ; he had a beautiful red and white colour ; a smooth round fac\n",
      " looked in the glass . My head was as red as a lobster ; but , in other respect\n",
      "ght across the passage–there , with a red handkerchief tied round his grizzled \n",
      "\n",
      "Concordance for word:  yellow\n",
      "Displaying 5 of 5 matches:\n",
      " s next Birthday after my death–the yellow Diamond belonging to me , and known\n",
      " into the stone , you looked into a yellow deep that drew your eyes into it so\n",
      "hatchet , and the skin of it was as yellow and dry and withered as an autumn l\n",
      "rs–very nicely dressed in some soft yellow stuff , that set off her dark compl\n",
      "ers like a flying garment , and the yellow wilderness of the beach with one so\n",
      "\n",
      "Concordance for word:  green\n",
      "no matches\n",
      "\n",
      "Concordance for word:  blue\n",
      "Displaying 1 of 1 matches:\n",
      "ur shillings and sixpence , bound in blue , with a picture into the bargain . \n"
     ]
    }
   ],
   "source": [
    "for word in [\"red\", 'yellow', 'green', 'blue']:\n",
    "    print(\"\\nConcordance for word: \", word)\n",
    "    betText.concordance(word)"
   ]
  },
  {
   "cell_type": "code",
   "execution_count": 91,
   "metadata": {},
   "outputs": [
    {
     "data": {
      "text/plain": [
       "['Mr. Godfrey',\n",
       " 'Mr. Bruff',\n",
       " 'Miss Clack',\n",
       " 'Lady Verinder',\n",
       " 'Mr. Luker',\n",
       " 'Mr. Ablewhite',\n",
       " 'Franklin Blake',\n",
       " 'Montagu Square',\n",
       " 'Aunt Ablewhite',\n",
       " 'Northumberland Street',\n",
       " 'Miss Verinder',\n",
       " 'Jane Ann',\n",
       " 'Ann Stamper',\n",
       " 'Godfrey Ablewhite',\n",
       " 'precious publications',\n",
       " 'Miss Jane',\n",
       " 'fallen nature',\n",
       " 'Christian Hero',\n",
       " 'young lady',\n",
       " 'Mr. Franklin']"
      ]
     },
     "execution_count": 91,
     "metadata": {},
     "output_type": "execute_result"
    }
   ],
   "source": [
    "clackText.collocation_list() # OR .collocations()"
   ]
  },
  {
   "cell_type": "code",
   "execution_count": 92,
   "metadata": {},
   "outputs": [
    {
     "data": {
      "text/plain": [
       "['Mr. Franklin',\n",
       " 'Miss Rachel',\n",
       " 'Sergeant Cuff',\n",
       " 'Rosanna Spearman',\n",
       " 'Miss Verinder',\n",
       " 'Superintendent Seegrave',\n",
       " 'Mr. Godfrey',\n",
       " 'Shivering Sand',\n",
       " 'Mr. Betteredge',\n",
       " 'young lady',\n",
       " 'Mrs. Yolland',\n",
       " 'Franklin Blake',\n",
       " 'ROBINSON CRUSOE',\n",
       " 'says Mr.',\n",
       " 'Mr. Murthwaite',\n",
       " 'Limping Lucy',\n",
       " 'Lady Verinder',\n",
       " 'Mr. Candy',\n",
       " 'Sir John',\n",
       " 'came back']"
      ]
     },
     "execution_count": 92,
     "metadata": {},
     "output_type": "execute_result"
    }
   ],
   "source": [
    "betText.collocation_list()"
   ]
  },
  {
   "cell_type": "code",
   "execution_count": 95,
   "metadata": {},
   "outputs": [
    {
     "name": "stdout",
     "output_type": "stream",
     "text": [
      "the_( indian_, the_, the_first the_found the_. the_could the_; the_and\n",
      "the_takes the_touches s_? his_as s_left his_, the_is s_the s_to his_in\n",
      "a_.\n"
     ]
    }
   ],
   "source": [
    "betText.common_contexts(['diamond'])"
   ]
  },
  {
   "cell_type": "code",
   "execution_count": 96,
   "metadata": {},
   "outputs": [
    {
     "name": "stdout",
     "output_type": "stream",
     "text": [
      "the_in the_. the_was the_as the_secretly the_survive the_, the_:\n",
      "the_to the_? the_became the_a the_out rest–the_. the_on the_scot\n",
      "cursed_had the_would the_had the_than\n"
     ]
    }
   ],
   "source": [
    "betText.common_contexts(['moonstone'])"
   ]
  },
  {
   "cell_type": "code",
   "execution_count": 98,
   "metadata": {},
   "outputs": [
    {
     "name": "stdout",
     "output_type": "stream",
     "text": [
      "before_humility of_interest the_hero felt_fingers this_country\n",
      "true_appears my_friends our_hero my_name a_englishwoman poor_that\n",
      "true_never primitive_. a_, of_duty in_england working_of a_of\n",
      "a_persecuted\n"
     ]
    }
   ],
   "source": [
    "clackText.common_contexts(['Christian'])"
   ]
  },
  {
   "cell_type": "code",
   "execution_count": 100,
   "metadata": {},
   "outputs": [
    {
     "name": "stderr",
     "output_type": "stream",
     "text": [
      "Building ngram index...\n"
     ]
    },
    {
     "name": "stdout",
     "output_type": "stream",
     "text": [
      "loves and honours you ; a home whose peaceful claims and happy duties\n",
      "win gently on you day by day as it is . , sir , that one must hold\n",
      "something . and my sacred regard for truth forbids me to mention this\n",
      ", that he showed no signs of remorse when he asked Mrs. Ablewhite , ”\n",
      "I observed dear Mr. Godfrey Ablewhite , I noiselessly arranged the\n",
      "curtains so that I didn ’ t object to assist him he had found what he\n",
      "had been confidentially made known to me which I had anticipated ) ,\n",
      "she\n",
      "loves and honours you ; a home whose peaceful claims and happy duties\n",
      "win gently on you day by day as it is . , sir , that one must hold\n",
      "something . and my sacred regard for truth forbids me to mention this\n",
      ", that he showed no signs of remorse when he asked Mrs. Ablewhite , ”\n",
      "I observed dear Mr. Godfrey Ablewhite , I noiselessly arranged the\n",
      "curtains so that I didn ’ t object to assist him he had found what he\n",
      "had been confidentially made known to me which I had anticipated ) ,\n",
      "she\n"
     ]
    }
   ],
   "source": [
    "clackText.generate()"
   ]
  },
  {
   "cell_type": "code",
   "execution_count": 101,
   "metadata": {},
   "outputs": [
    {
     "name": "stderr",
     "output_type": "stream",
     "text": [
      "Building ngram index...\n"
     ]
    },
    {
     "name": "stdout",
     "output_type": "stream",
     "text": [
      "means , Penelope having informed him that I have about me , I dare say\n",
      "I did. , that I have of girding at each other ; it ’ s reserved\n",
      "character too well to cool down , drifting in great triumph , what I\n",
      "call them Rosanna ’ s letter , which my native institutions , ” says\n",
      "the Sergeant . as long as I did , after I had left us at a loss to\n",
      "discover , search where you are . Candy . to him before anything else\n",
      "was done with a bottle from his walk as\n"
     ]
    },
    {
     "data": {
      "text/plain": [
       "'means , Penelope having informed him that I have about me , I dare say\\nI did. , that I have of girding at each other ; it ’ s reserved\\ncharacter too well to cool down , drifting in great triumph , what I\\ncall them Rosanna ’ s letter , which my native institutions , ” says\\nthe Sergeant . as long as I did , after I had left us at a loss to\\ndiscover , search where you are . Candy . to him before anything else\\nwas done with a bottle from his walk as'"
      ]
     },
     "execution_count": 101,
     "metadata": {},
     "output_type": "execute_result"
    }
   ],
   "source": [
    "betText.generate()"
   ]
  },
  {
   "cell_type": "code",
   "execution_count": 106,
   "metadata": {},
   "outputs": [
    {
     "name": "stdout",
     "output_type": "stream",
     "text": [
      "*** Introductory Examples for the NLTK Book ***\n",
      "Loading text1, ..., text9 and sent1, ..., sent9\n",
      "Type the name of the text or sentence to view it.\n",
      "Type: 'texts()' or 'sents()' to list the materials.\n",
      "text1: Moby Dick by Herman Melville 1851\n",
      "text2: Sense and Sensibility by Jane Austen 1811\n",
      "text3: The Book of Genesis\n",
      "text4: Inaugural Address Corpus\n",
      "text5: Chat Corpus\n",
      "text6: Monty Python and the Holy Grail\n",
      "text7: Wall Street Journal\n",
      "text8: Personals Corpus\n",
      "text9: The Man Who Was Thursday by G . K . Chesterton 1908\n"
     ]
    }
   ],
   "source": [
    "from nltk.book import *"
   ]
  },
  {
   "cell_type": "code",
   "execution_count": 108,
   "metadata": {},
   "outputs": [
    {
     "data": {
      "text/plain": [
       "<Text: Moby Dick by Herman Melville 1851>"
      ]
     },
     "execution_count": 108,
     "metadata": {},
     "output_type": "execute_result"
    }
   ],
   "source": [
    "text1"
   ]
  },
  {
   "cell_type": "code",
   "execution_count": 111,
   "metadata": {},
   "outputs": [
    {
     "data": {
      "text/plain": [
       "['BLACK KNIGHT',\n",
       " 'clop clop',\n",
       " 'HEAD KNIGHT',\n",
       " 'mumble mumble',\n",
       " 'Holy Grail',\n",
       " 'squeak squeak',\n",
       " 'FRENCH GUARD',\n",
       " 'saw saw',\n",
       " 'Sir Robin',\n",
       " 'Run away',\n",
       " 'CARTOON CHARACTER',\n",
       " 'King Arthur',\n",
       " 'Iesu domine',\n",
       " 'Pie Iesu',\n",
       " 'DEAD PERSON',\n",
       " 'Round Table',\n",
       " 'clap clap',\n",
       " 'OLD MAN',\n",
       " 'dramatic chord',\n",
       " 'dona eis']"
      ]
     },
     "execution_count": 111,
     "metadata": {},
     "output_type": "execute_result"
    }
   ],
   "source": [
    "text6.collocation_list()"
   ]
  },
  {
   "cell_type": "code",
   "execution_count": 112,
   "metadata": {},
   "outputs": [
    {
     "name": "stderr",
     "output_type": "stream",
     "text": [
      "Building ngram index...\n"
     ]
    },
    {
     "name": "stdout",
     "output_type": "stream",
     "text": [
      "laid by her , and said unto Cain , Where art thou , and said , Go to ,\n",
      "I will not do it for ten ' s sons ; we dreamed each man according to\n",
      "their generatio the firstborn said unto Laban , Because I said , Nay ,\n",
      "but Sarah shall her name be . , duke Elah , duke Shobal , and Akan .\n",
      "and looked upon my affliction . Bashemath Ishmael ' s blood , but Isra\n",
      "for as a prince hast thou found of all the cattle in the valley , and\n",
      "the wo The\n"
     ]
    },
    {
     "data": {
      "text/plain": [
       "\"laid by her , and said unto Cain , Where art thou , and said , Go to ,\\nI will not do it for ten ' s sons ; we dreamed each man according to\\ntheir generatio the firstborn said unto Laban , Because I said , Nay ,\\nbut Sarah shall her name be . , duke Elah , duke Shobal , and Akan .\\nand looked upon my affliction . Bashemath Ishmael ' s blood , but Isra\\nfor as a prince hast thou found of all the cattle in the valley , and\\nthe wo The\""
      ]
     },
     "execution_count": 112,
     "metadata": {},
     "output_type": "execute_result"
    }
   ],
   "source": [
    "text3.generate()"
   ]
  },
  {
   "cell_type": "code",
   "execution_count": 120,
   "metadata": {},
   "outputs": [
    {
     "data": {
      "image/png": "[encoded data removed]",
      "text/plain": [
       "<Figure size 432x288 with 1 Axes>"
      ]
     },
     "metadata": {
      "needs_background": "light"
     },
     "output_type": "display_data"
    }
   ],
   "source": [
    "%matplotlib inline\n",
    "betText.dispersion_plot(['moonstone', 'Moonstone', 'diamond', 'Diamond', \"Indian\", \"Rachel\", \"Franklin\"])"
   ]
  },
  {
   "cell_type": "code",
   "execution_count": 122,
   "metadata": {},
   "outputs": [
    {
     "ename": "NotImplementedError",
     "evalue": "",
     "output_type": "error",
     "traceback": [
      "\u001b[0;31m---------------------------------------------------------------------------\u001b[0m",
      "\u001b[0;31mNotImplementedError\u001b[0m                       Traceback (most recent call last)",
      "\u001b[0;32m<ipython-input-122-33b188dc2782>\u001b[0m in \u001b[0;36m<module>\u001b[0;34m\u001b[0m\n\u001b[0;32m----> 1\u001b[0;31m \u001b[0mbetText\u001b[0m\u001b[0;34m.\u001b[0m\u001b[0mreadability\u001b[0m\u001b[0;34m(\u001b[0m\u001b[0;34m'kincaid'\u001b[0m\u001b[0;34m)\u001b[0m\u001b[0;34m\u001b[0m\u001b[0;34m\u001b[0m\u001b[0m\n\u001b[0m",
      "\u001b[0;32m/nix/store/jjih3zhknv9qklq7jzw67dzqv4jy9dn4-python3-3.7.3-env/lib/python3.7/site-packages/nltk/text.py\u001b[0m in \u001b[0;36mreadability\u001b[0;34m(self, method)\u001b[0m\n\u001b[1;32m    460\u001b[0m     \u001b[0;32mdef\u001b[0m \u001b[0mreadability\u001b[0m\u001b[0;34m(\u001b[0m\u001b[0mself\u001b[0m\u001b[0;34m,\u001b[0m \u001b[0mmethod\u001b[0m\u001b[0;34m)\u001b[0m\u001b[0;34m:\u001b[0m\u001b[0;34m\u001b[0m\u001b[0;34m\u001b[0m\u001b[0m\n\u001b[1;32m    461\u001b[0m         \u001b[0;31m# code from nltk_contrib.readability\u001b[0m\u001b[0;34m\u001b[0m\u001b[0;34m\u001b[0m\u001b[0;34m\u001b[0m\u001b[0m\n\u001b[0;32m--> 462\u001b[0;31m         \u001b[0;32mraise\u001b[0m \u001b[0mNotImplementedError\u001b[0m\u001b[0;34m\u001b[0m\u001b[0;34m\u001b[0m\u001b[0m\n\u001b[0m\u001b[1;32m    463\u001b[0m \u001b[0;34m\u001b[0m\u001b[0m\n\u001b[1;32m    464\u001b[0m     \u001b[0;32mdef\u001b[0m \u001b[0msimilar\u001b[0m\u001b[0;34m(\u001b[0m\u001b[0mself\u001b[0m\u001b[0;34m,\u001b[0m \u001b[0mword\u001b[0m\u001b[0;34m,\u001b[0m \u001b[0mnum\u001b[0m\u001b[0;34m=\u001b[0m\u001b[0;36m20\u001b[0m\u001b[0;34m)\u001b[0m\u001b[0;34m:\u001b[0m\u001b[0;34m\u001b[0m\u001b[0;34m\u001b[0m\u001b[0m\n",
      "\u001b[0;31mNotImplementedError\u001b[0m: "
     ]
    }
   ],
   "source": [
    "betText.readability('kincaid')"
   ]
  },
  {
   "cell_type": "code",
   "execution_count": 128,
   "metadata": {},
   "outputs": [
    {
     "data": {
      "image/png": "[encoded data removed]",
      "text/plain": [
       "<Figure size 432x288 with 1 Axes>"
      ]
     },
     "metadata": {
      "needs_background": "light"
     },
     "output_type": "display_data"
    }
   ],
   "source": [
    "betText.plot(10)"
   ]
  },
  {
   "cell_type": "code",
   "execution_count": 132,
   "metadata": {},
   "outputs": [
    {
     "data": {
      "text/plain": [
       "['i',\n",
       " 'me',\n",
       " 'my',\n",
       " 'myself',\n",
       " 'we',\n",
       " 'our',\n",
       " 'ours',\n",
       " 'ourselves',\n",
       " 'you',\n",
       " \"you're\",\n",
       " \"you've\",\n",
       " \"you'll\",\n",
       " \"you'd\",\n",
       " 'your',\n",
       " 'yours',\n",
       " 'yourself',\n",
       " 'yourselves',\n",
       " 'he',\n",
       " 'him',\n",
       " 'his',\n",
       " 'himself',\n",
       " 'she',\n",
       " \"she's\",\n",
       " 'her',\n",
       " 'hers',\n",
       " 'herself',\n",
       " 'it',\n",
       " \"it's\",\n",
       " 'its',\n",
       " 'itself',\n",
       " 'they',\n",
       " 'them',\n",
       " 'their',\n",
       " 'theirs',\n",
       " 'themselves',\n",
       " 'what',\n",
       " 'which',\n",
       " 'who',\n",
       " 'whom',\n",
       " 'this',\n",
       " 'that',\n",
       " \"that'll\",\n",
       " 'these',\n",
       " 'those',\n",
       " 'am',\n",
       " 'is',\n",
       " 'are',\n",
       " 'was',\n",
       " 'were',\n",
       " 'be',\n",
       " 'been',\n",
       " 'being',\n",
       " 'have',\n",
       " 'has',\n",
       " 'had',\n",
       " 'having',\n",
       " 'do',\n",
       " 'does',\n",
       " 'did',\n",
       " 'doing',\n",
       " 'a',\n",
       " 'an',\n",
       " 'the',\n",
       " 'and',\n",
       " 'but',\n",
       " 'if',\n",
       " 'or',\n",
       " 'because',\n",
       " 'as',\n",
       " 'until',\n",
       " 'while',\n",
       " 'of',\n",
       " 'at',\n",
       " 'by',\n",
       " 'for',\n",
       " 'with',\n",
       " 'about',\n",
       " 'against',\n",
       " 'between',\n",
       " 'into',\n",
       " 'through',\n",
       " 'during',\n",
       " 'before',\n",
       " 'after',\n",
       " 'above',\n",
       " 'below',\n",
       " 'to',\n",
       " 'from',\n",
       " 'up',\n",
       " 'down',\n",
       " 'in',\n",
       " 'out',\n",
       " 'on',\n",
       " 'off',\n",
       " 'over',\n",
       " 'under',\n",
       " 'again',\n",
       " 'further',\n",
       " 'then',\n",
       " 'once',\n",
       " 'here',\n",
       " 'there',\n",
       " 'when',\n",
       " 'where',\n",
       " 'why',\n",
       " 'how',\n",
       " 'all',\n",
       " 'any',\n",
       " 'both',\n",
       " 'each',\n",
       " 'few',\n",
       " 'more',\n",
       " 'most',\n",
       " 'other',\n",
       " 'some',\n",
       " 'such',\n",
       " 'no',\n",
       " 'nor',\n",
       " 'not',\n",
       " 'only',\n",
       " 'own',\n",
       " 'same',\n",
       " 'so',\n",
       " 'than',\n",
       " 'too',\n",
       " 'very',\n",
       " 's',\n",
       " 't',\n",
       " 'can',\n",
       " 'will',\n",
       " 'just',\n",
       " 'don',\n",
       " \"don't\",\n",
       " 'should',\n",
       " \"should've\",\n",
       " 'now',\n",
       " 'd',\n",
       " 'll',\n",
       " 'm',\n",
       " 'o',\n",
       " 're',\n",
       " 've',\n",
       " 'y',\n",
       " 'ain',\n",
       " 'aren',\n",
       " \"aren't\",\n",
       " 'couldn',\n",
       " \"couldn't\",\n",
       " 'didn',\n",
       " \"didn't\",\n",
       " 'doesn',\n",
       " \"doesn't\",\n",
       " 'hadn',\n",
       " \"hadn't\",\n",
       " 'hasn',\n",
       " \"hasn't\",\n",
       " 'haven',\n",
       " \"haven't\",\n",
       " 'isn',\n",
       " \"isn't\",\n",
       " 'ma',\n",
       " 'mightn',\n",
       " \"mightn't\",\n",
       " 'mustn',\n",
       " \"mustn't\",\n",
       " 'needn',\n",
       " \"needn't\",\n",
       " 'shan',\n",
       " \"shan't\",\n",
       " 'shouldn',\n",
       " \"shouldn't\",\n",
       " 'wasn',\n",
       " \"wasn't\",\n",
       " 'weren',\n",
       " \"weren't\",\n",
       " 'won',\n",
       " \"won't\",\n",
       " 'wouldn',\n",
       " \"wouldn't\"]"
      ]
     },
     "execution_count": 132,
     "metadata": {},
     "output_type": "execute_result"
    }
   ],
   "source": [
    "nltk.corpus.stopwords.words('english')"
   ]
  },
  {
   "cell_type": "code",
   "execution_count": null,
   "metadata": {},
   "outputs": [],
   "source": []
  }
 ],
 "metadata": {
  "kernelspec": {
   "display_name": "Python 3",
   "language": "python",
   "name": "python3"
  },
  "language_info": {
   "codemirror_mode": {
    "name": "ipython",
    "version": 3
   },
   "file_extension": ".py",
   "mimetype": "text/x-python",
   "name": "python",
   "nbconvert_exporter": "python",
   "pygments_lexer": "ipython3",
   "version": "3.7.3"
  }
 },
 "nbformat": 4,
 "nbformat_minor": 2
}
