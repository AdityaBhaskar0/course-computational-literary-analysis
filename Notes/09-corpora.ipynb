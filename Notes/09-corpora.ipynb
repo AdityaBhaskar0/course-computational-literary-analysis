{
 "cells": [
  {
   "cell_type": "code",
   "execution_count": 22,
   "metadata": {},
   "outputs": [],
   "source": [
    "import requests\n",
    "import json\n",
    "import nltk"
   ]
  },
  {
   "cell_type": "code",
   "execution_count": 3,
   "metadata": {},
   "outputs": [],
   "source": [
    "sherlockMetaUrl = \"http://corpus-db.org/api/id/1661.0\"\n",
    "sherlockTextUrl = sherlockMetaUrl + '/fulltext'"
   ]
  },
  {
   "cell_type": "code",
   "execution_count": 4,
   "metadata": {},
   "outputs": [],
   "source": [
    "response = requests.get(sherlockMetaUrl)"
   ]
  },
  {
   "cell_type": "code",
   "execution_count": 6,
   "metadata": {},
   "outputs": [
    {
     "data": {
      "text/plain": [
       "True"
      ]
     },
     "execution_count": 6,
     "metadata": {},
     "output_type": "execute_result"
    }
   ],
   "source": [
    "response.ok"
   ]
  },
  {
   "cell_type": "code",
   "execution_count": 9,
   "metadata": {},
   "outputs": [],
   "source": [
    "sherlockMeta = json.loads(response.text)"
   ]
  },
  {
   "cell_type": "code",
   "execution_count": 11,
   "metadata": {},
   "outputs": [
    {
     "data": {
      "text/plain": [
       "dict_keys(['lcsh', 'summary', 'series_note', 'creator', 'production_note', 'downloads', 'rights_url', 'wp_publication_date', 'authoryearofdeath', '_repo', 'wp_subjects', 'language_note', 'tableOfContents', 'gutenberg_issued', 'identifiers', 'formats', 'gutenberg_type', '', 'publication_note', 'url', 'edition_identifiers', 'rights', 'authoryearofbirth', 'wp_info', 'languages', 'LCC', 'publication_date', 'subjects', 'wikipedia', 'author', 'id', 'gutenberg_bookshelf', '_version', 'releaseDate', 'alternative_title', 'title', 'type', 'wp_literary_genres', 'contributor', 'edition_note', 'titlepage_image', 'jmdate', 'publisher', 'covers', 'description', 'filename'])"
      ]
     },
     "execution_count": 11,
     "metadata": {},
     "output_type": "execute_result"
    }
   ],
   "source": [
    "sherlockMeta.keys()"
   ]
  },
  {
   "cell_type": "code",
   "execution_count": 14,
   "metadata": {},
   "outputs": [
    {
     "data": {
      "text/plain": [
       "'1892-10-14'"
      ]
     },
     "execution_count": 14,
     "metadata": {},
     "output_type": "execute_result"
    }
   ],
   "source": [
    "sherlockMeta['wp_publication_date']"
   ]
  },
  {
   "cell_type": "code",
   "execution_count": 15,
   "metadata": {},
   "outputs": [
    {
     "data": {
      "text/plain": [
       "\"A Scandal in Bohemia\\r\\nThe Red-Headed League\\r\\nA Case of Identity\\r\\nThe Boscombe Valley Mystery\\r\\nThe Five Orange Pips\\r\\nThe Man with the Twisted Lip\\r\\nThe Adventure of the Blue Carbuncle\\r\\nThe Adventure of the Speckled Band\\r\\nThe Adventure of the Engineer's Thumb\\r\\nThe Adventure of the Noble Bachelor\\r\\nThe Adventure of the Beryl Coronet\\r\\nThe Adventure of the Copper Beeches\""
      ]
     },
     "execution_count": 15,
     "metadata": {},
     "output_type": "execute_result"
    }
   ],
   "source": [
    "sherlockMeta['tableOfContents']"
   ]
  },
  {
   "cell_type": "code",
   "execution_count": 16,
   "metadata": {},
   "outputs": [],
   "source": [
    "response = requests.get(sherlockTextUrl)\n",
    "if response.ok: \n",
    "    sherlockText = json.loads(response.text)"
   ]
  },
  {
   "cell_type": "code",
   "execution_count": 20,
   "metadata": {},
   "outputs": [],
   "source": [
    "sherlock = sherlockText[0]['text']"
   ]
  },
  {
   "cell_type": "code",
   "execution_count": 21,
   "metadata": {},
   "outputs": [
    {
     "data": {
      "text/plain": [
       "562348"
      ]
     },
     "execution_count": 21,
     "metadata": {},
     "output_type": "execute_result"
    }
   ],
   "source": [
    "len(sherlock)"
   ]
  },
  {
   "cell_type": "code",
   "execution_count": 23,
   "metadata": {},
   "outputs": [],
   "source": [
    "sherlockTokens = nltk.word_tokenize(sherlock)"
   ]
  },
  {
   "cell_type": "code",
   "execution_count": 24,
   "metadata": {},
   "outputs": [],
   "source": [
    "sherlockText = nltk.Text(sherlockTokens)"
   ]
  },
  {
   "cell_type": "code",
   "execution_count": 25,
   "metadata": {},
   "outputs": [
    {
     "data": {
      "text/plain": [
       "['Sherlock Holmes',\n",
       " 'said Holmes',\n",
       " 'St. Simon',\n",
       " 'Mr. Holmes',\n",
       " 'St. Clair',\n",
       " 'Baker Street',\n",
       " 'Lord St.',\n",
       " 'young lady',\n",
       " 'Hosmer Angel',\n",
       " 'Irene Adler',\n",
       " 'Miss Hunter',\n",
       " 'Briony Lodge',\n",
       " 'Neville St.',\n",
       " 'Stoke Moran',\n",
       " 'Miss Stoner',\n",
       " 'Scotland Yard',\n",
       " 'could see',\n",
       " 'Boscombe Pool',\n",
       " 'Mr. Rucastle',\n",
       " 'Copper Beeches']"
      ]
     },
     "execution_count": 25,
     "metadata": {},
     "output_type": "execute_result"
    }
   ],
   "source": [
    "sherlockText.collocation_list()"
   ]
  },
  {
   "cell_type": "code",
   "execution_count": 26,
   "metadata": {},
   "outputs": [
    {
     "name": "stdout",
     "output_type": "stream",
     "text": [
      "Displaying 2 of 2 matches:\n",
      "ughed until he choked , and we got a knife and opened the goose . My heart turn\n",
      " . There was no slit through which a knife could be passed to raise the bar . T\n"
     ]
    }
   ],
   "source": [
    "sherlockText.concordance('knife')"
   ]
  },
  {
   "cell_type": "code",
   "execution_count": 27,
   "metadata": {},
   "outputs": [],
   "source": [
    "def getAndParseTexts(url): \n",
    "    response = requests.get(url)\n",
    "    if response.ok: \n",
    "        text = json.loads(response.text)\n",
    "    return text"
   ]
  },
  {
   "cell_type": "code",
   "execution_count": 28,
   "metadata": {},
   "outputs": [],
   "source": [
    "meta = getAndParseTexts(\"http://corpus-db.org/api/author/Dickens, Charles\")\n"
   ]
  },
  {
   "cell_type": "code",
   "execution_count": 30,
   "metadata": {},
   "outputs": [
    {
     "data": {
      "text/plain": [
       "114"
      ]
     },
     "execution_count": 30,
     "metadata": {},
     "output_type": "execute_result"
    }
   ],
   "source": [
    "len(meta)"
   ]
  },
  {
   "cell_type": "code",
   "execution_count": 31,
   "metadata": {},
   "outputs": [
    {
     "data": {
      "text/plain": [
       "['A Christmas Carol in Prose; Being a Ghost Story of Christmas',\n",
       " 'A Tale of Two Cities',\n",
       " 'The Mystery of Edwin Drood',\n",
       " 'The Pickwick Papers',\n",
       " \"Master Humphrey's Clock\",\n",
       " \"The Haunted Man and the Ghost's Bargain\",\n",
       " 'Pictures from Italy',\n",
       " 'The Chimes: A Goblin Story of Some Bells That Rang an Old Year out and a New Year In',\n",
       " 'American Notes',\n",
       " 'The Battle of Life',\n",
       " 'The Cricket on the Hearth: A Fairy Tale of Home',\n",
       " \"A Child's History of England\",\n",
       " 'The Old Curiosity Shop',\n",
       " 'Oliver Twist',\n",
       " 'David Copperfield',\n",
       " 'Hard Times',\n",
       " 'Hunted Down: The Detective Stories of Charles Dickens',\n",
       " 'Holiday Romance',\n",
       " \"George Silverman's Explanation\",\n",
       " 'Dombey and Son',\n",
       " 'Speeches: Literary and Social',\n",
       " 'Reprinted Pieces',\n",
       " 'Sketches by Boz, Illustrative of Every-Day Life and Every-Day People',\n",
       " 'Our Mutual Friend',\n",
       " 'The Lazy Tour of Two Idle Apprentices',\n",
       " 'Mudfog and Other Sketches',\n",
       " 'The Uncommercial Traveller',\n",
       " 'Sketches of Young Couples',\n",
       " \"Barnaby Rudge: A Tale of the Riots of 'Eighty\",\n",
       " 'Sketches of Young Gentlemen',\n",
       " 'Sunday Under Three Heads',\n",
       " 'To Be Read at Dusk',\n",
       " 'The Lamplighter',\n",
       " 'Little Dorrit',\n",
       " 'Nicholas Nickleby',\n",
       " 'Martin Chuzzlewit',\n",
       " 'Bleak House',\n",
       " 'Three Ghost Stories',\n",
       " 'The Seven Poor Travellers',\n",
       " 'The Holly-Tree',\n",
       " 'Great Expectations',\n",
       " 'The Perils of Certain English Prisoners',\n",
       " 'A Message from the Sea',\n",
       " \"Tom Tiddler's Ground\",\n",
       " \"Somebody's Luggage\",\n",
       " 'Doctor Marigold',\n",
       " \"Mrs. Lirriper's Lodgings\",\n",
       " 'Mugby Junction',\n",
       " \"Mrs. Lirriper's Legacy\",\n",
       " 'Going into Society',\n",
       " 'No Thoroughfare',\n",
       " 'Miscellaneous Papers',\n",
       " 'The Wreck of the Golden Mary',\n",
       " 'Some Christmas Stories',\n",
       " 'A House to Let',\n",
       " 'Aventures de Monsieur Pickwick, Vol. I',\n",
       " 'Aventures de Monsieur Pickwick, Vol. II',\n",
       " 'Mugbyn risteys',\n",
       " 'The Loving Ballad of Lord Bateman',\n",
       " 'Le grillon du foyer',\n",
       " 'Cantique de Noël',\n",
       " 'Les conteurs à la ronde',\n",
       " 'Oliver Twist',\n",
       " 'Les grandes espérances',\n",
       " \"Le magasin d'antiquités, Tome I\",\n",
       " \"Le magasin d'antiquités, Tome II\",\n",
       " 'David Copperfield - Tome I',\n",
       " 'David Copperfield - Tome II',\n",
       " 'Barnabé Rudge, Tome I',\n",
       " 'Barnabé Rudge, Tome II',\n",
       " \"L'abîme\",\n",
       " 'David Copperfield I: David Copperfield nuoremman elämäkertomus ja kokemukset',\n",
       " 'David Copperfield II: David Copperfield nuoremman elämäkerta ja kokemukset',\n",
       " 'A Christmas Carol',\n",
       " 'The Cricket on the Hearth',\n",
       " 'Der Weihnachtsabend: Eine Geistergeschichte',\n",
       " 'The Magic Fishbone: A Holiday Romance from the Pen of Miss Alice Rainbird, Aged 7',\n",
       " 'The Trial of William Tinkling: Written by Himself at the Age of 8 Years',\n",
       " 'Captain Boldheart & the Latin-Grammar Master: A Holiday Romance from the Pen of Lieut-Col. Robin Redforth, aged 9',\n",
       " 'A Christmas Carol',\n",
       " 'Joulun-aatto',\n",
       " \"La Batalo de l' Vivo\",\n",
       " 'The Letters of Charles Dickens: Vol. 1, 1833-1856',\n",
       " 'The Letters of Charles Dickens: Vol. 2, 1857-1870',\n",
       " 'The Letters of Charles Dickens: Vol. 3, 1836-1870',\n",
       " 'Mugby Junction',\n",
       " 'Een Kerstlied in Proza',\n",
       " 'Tales from Dickens',\n",
       " 'A Christmas Carol: The original manuscript',\n",
       " 'Sanoma merellä',\n",
       " \"Dickens' Stories About Children Every Child Can Read\",\n",
       " 'The Poems and Verses of Charles Dickens',\n",
       " 'De avonturen van Oliver Twist',\n",
       " \"Charles Dickens' Children Stories\",\n",
       " 'The Cricket on the Hearth: A Fairy Tale of Home',\n",
       " 'The Battle of Life. A Love Story',\n",
       " \"A Christmas Carol; Or, The Miser's Warning!: (Adapted from Charles Dickens' Celebrated Work.)\",\n",
       " \"A Child's Dream of a Star\",\n",
       " 'The Personal History of David Copperfield',\n",
       " 'Scenes and Characters from the Works of Charles Dickens: Being Eight Hundred and Sixty-six Pictures Printed from the Original Wood Blocks',\n",
       " 'Kotisirkka',\n",
       " \"Oliver Twist; or, The Parish Boy's Progress. Illustrated\",\n",
       " 'Oliver Twist, Vol. 1 (of 3)',\n",
       " 'Oliver Twist, Vol. 2 (of 3)',\n",
       " 'Oliver Twist, Vol. 3 (of 3)',\n",
       " 'The Posthumous Papers of the Pickwick Club, v. 1(of 2)',\n",
       " 'The Posthumous Papers of the Pickwick Club, v. 2(of 2)',\n",
       " 'Schetsen uit Amerika en Tafereelen uit Italië',\n",
       " 'Het leven en de lotgevallen van David Copperfield',\n",
       " 'Kaksi kaupunkia',\n",
       " \"Pearl-Fishing; Choice Stories from Dickens' Household Words; First Series\",\n",
       " 'Elämän taistelu',\n",
       " \"Pearl-Fishing; Choice Stories from Dickens' Household Words; Second Series\",\n",
       " 'Slechte Tijden']"
      ]
     },
     "execution_count": 31,
     "metadata": {},
     "output_type": "execute_result"
    }
   ],
   "source": [
    "[item['title'] for item in meta]"
   ]
  },
  {
   "cell_type": "code",
   "execution_count": null,
   "metadata": {},
   "outputs": [],
   "source": []
  }
 ],
 "metadata": {
  "kernelspec": {
   "display_name": "Python 3",
   "language": "python",
   "name": "python3"
  },
  "language_info": {
   "codemirror_mode": {
    "name": "ipython",
    "version": 3
   },
   "file_extension": ".py",
   "mimetype": "text/x-python",
   "name": "python",
   "nbconvert_exporter": "python",
   "pygments_lexer": "ipython3",
   "version": "3.7.3"
  }
 },
 "nbformat": 4,
 "nbformat_minor": 2
}
