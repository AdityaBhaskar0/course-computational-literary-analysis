{
 "cells": [
  {
   "cell_type": "markdown",
   "metadata": {},
   "source": [
    "# Working with Files\n",
    "\n",
    "For working with your filesystem, you can use some standard UNIX-like commands that work directly on your system. \n",
    "\n",
    "**NB**: These may be different depending on your system. Windows systems tend not to have `ls`, for instance, but instead have `!dir`. \n",
    "\n",
    "Here are some commands that work on Linux and MacOS, at least: "
   ]
  },
  {
   "cell_type": "code",
   "execution_count": 42,
   "metadata": {},
   "outputs": [
    {
     "data": {
      "text/plain": [
       "'/home/jon/Code/course-computational-literary-analysis/Notes'"
      ]
     },
     "execution_count": 42,
     "metadata": {},
     "output_type": "execute_result"
    }
   ],
   "source": [
    "%pwd # Print working directory"
   ]
  },
  {
   "cell_type": "code",
   "execution_count": 63,
   "metadata": {},
   "outputs": [
    {
     "name": "stdout",
     "output_type": "stream",
     "text": [
      "01-intro-python.ipynb  02-files.ipynb\n"
     ]
    }
   ],
   "source": [
    "%ls # List files"
   ]
  },
  {
   "cell_type": "markdown",
   "metadata": {},
   "source": [
    "You can use `wget` to download a copy of _The Moonstone_, if you have `wget` on your computer. On MacOS, this might work with `curl -O` instead. "
   ]
  },
  {
   "cell_type": "code",
   "execution_count": 6,
   "metadata": {},
   "outputs": [
    {
     "name": "stdout",
     "output_type": "stream",
     "text": [
      "--2019-07-15 13:26:40--  https://raw.githubusercontent.com/JonathanReeve/course-computational-literary-analysis/master/Texts/moonstone.md\n",
      "Resolving raw.githubusercontent.com (raw.githubusercontent.com)... 151.101.188.133\n",
      "Connecting to raw.githubusercontent.com (raw.githubusercontent.com)|151.101.188.133|:443... connected.\n",
      "HTTP request sent, awaiting response... 200 OK\n",
      "Length: 1095173 (1.0M) [text/plain]\n",
      "Saving to: ‘moonstone.md’\n",
      "\n",
      "moonstone.md        100%[===================>]   1.04M  --.-KB/s    in 0.05s   \n",
      "\n",
      "2019-07-15 13:26:41 (19.6 MB/s) - ‘moonstone.md’ saved [1095173/1095173]\n",
      "\n"
     ]
    }
   ],
   "source": [
    "!wget \"https://raw.githubusercontent.com/JonathanReeve/course-computational-literary-analysis/master/Texts/moonstone.md\""
   ]
  },
  {
   "cell_type": "markdown",
   "metadata": {},
   "source": [
    "But you can also download it manually, [here on the course repository](https://github.com/JonathanReeve/course-computational-literary-analysis/blob/master/Texts/moonstone.md). You can also download all the course materials by clicking the green \"download\" button from [the course repo homepage](https://github.com/JonathanReeve/course-computational-literary-analysis). Then simply move the file into your working directory, that is, the directory Jupyter is working from. \n",
    "\n",
    "Alternatively, you can use the `requests` library: "
   ]
  },
  {
   "cell_type": "markdown",
   "metadata": {},
   "source": [
    "## Download a file with the Requests library"
   ]
  },
  {
   "cell_type": "code",
   "execution_count": 4,
   "metadata": {},
   "outputs": [],
   "source": [
    "url = \"https://raw.githubusercontent.com/JonathanReeve/course-computational-literary-analysis/master/Texts/moonstone.md\""
   ]
  },
  {
   "cell_type": "code",
   "execution_count": 64,
   "metadata": {},
   "outputs": [],
   "source": [
    "import requests\n",
    "moonstone = requests.get(url).text"
   ]
  },
  {
   "cell_type": "code",
   "execution_count": 65,
   "metadata": {},
   "outputs": [
    {
     "data": {
      "text/plain": [
       "1072272"
      ]
     },
     "execution_count": 65,
     "metadata": {},
     "output_type": "execute_result"
    }
   ],
   "source": [
    "len(moonstone)"
   ]
  },
  {
   "cell_type": "markdown",
   "metadata": {},
   "source": [
    "Or, in Jupyter Lab, on the Files tab of the sidebar, you can press the button \"upload\" and select the file you want to work with."
   ]
  },
  {
   "cell_type": "markdown",
   "metadata": {},
   "source": [
    "# To Open and Read a File\n",
    "\n",
    "First, make sure the file is in your current working directory. `%ls` lists all the files in your current directory. "
   ]
  },
  {
   "cell_type": "code",
   "execution_count": 66,
   "metadata": {},
   "outputs": [
    {
     "name": "stdout",
     "output_type": "stream",
     "text": [
      "01-intro-python.ipynb  02-files.ipynb\n"
     ]
    }
   ],
   "source": [
    "%ls"
   ]
  },
  {
   "cell_type": "markdown",
   "metadata": {},
   "source": [
    "Note: you could try `!dir` on Windows, if the above command doesn't work. "
   ]
  },
  {
   "cell_type": "code",
   "execution_count": 44,
   "metadata": {},
   "outputs": [],
   "source": [
    "# Using the full path to your file: \n",
    "fullPath = '/home/jon/Code/course-computational-literary-analysis/Texts/moonstone.md'\n",
    "moonstone = open(fullPath).read()\n",
    "\n",
    "# Or use a relative path: \n",
    "moonstone = open('moonstone.md').read()\n",
    "\n",
    "# On windows, sometimes you have to do this. \n",
    "moonstone = open('moonstone.md', encoding='utf-8').read()\n",
    "\n",
    "# Or this, if you get read errors: \n",
    "moonstone = open('moonstone.md', encoding='utf-8', errors=\"ignore\").read()"
   ]
  },
  {
   "cell_type": "code",
   "execution_count": 15,
   "metadata": {},
   "outputs": [
    {
     "data": {
      "text/plain": [
       "1072272"
      ]
     },
     "execution_count": 15,
     "metadata": {},
     "output_type": "execute_result"
    }
   ],
   "source": [
    "len(moonstone)"
   ]
  },
  {
   "cell_type": "markdown",
   "metadata": {},
   "source": [
    "Let's peek inside it, looking at characters 200-500: "
   ]
  },
  {
   "cell_type": "code",
   "execution_count": 24,
   "metadata": {},
   "outputs": [
    {
     "data": {
      "text/plain": [
       "'XV\\n- Second Period\\n- Second Narrative\\n- Third Narrative\\n- Fourth Narrative\\n- Sixth Narrative\\n---\\n\\n## Prologue\\n\\nThe Storming of Seringapatam (1799)\\n\\nExtracted from a Family Paper\\n\\nI address these lines–written in India–to my relatives in England.\\n\\nMy object is to explain the motive which has induced '"
      ]
     },
     "execution_count": 24,
     "metadata": {},
     "output_type": "execute_result"
    }
   ],
   "source": [
    "moonstone[200:500]"
   ]
  },
  {
   "cell_type": "markdown",
   "metadata": {},
   "source": [
    "The `\\n`s are line breaks. So if we were to print the lines above, they would look more recognizable. Those line breaks, and the chapter headings, will allow us to split the file into parts and chapters: "
   ]
  },
  {
   "cell_type": "code",
   "execution_count": 67,
   "metadata": {},
   "outputs": [],
   "source": [
    "moonstoneParts = moonstone.split('\\n## ')\n",
    "firstPeriod = moonstoneParts[2]\n",
    "firstPeriodParts = firstPeriod.split('\\n### ')"
   ]
  },
  {
   "cell_type": "markdown",
   "metadata": {},
   "source": [
    "## A simple word count comparison"
   ]
  },
  {
   "cell_type": "code",
   "execution_count": 232,
   "metadata": {},
   "outputs": [
    {
     "name": "stdout",
     "output_type": "stream",
     "text": [
      "                sand                               -moonstone                          -diamond                            -\n",
      "First Period                                       -                                   -*                                  -\n",
      "Chapter I                                          -*                                  -******                             -\n",
      "Chapter II                                         -                                   -***                                -\n",
      "Chapter III                                        -*                                  -**                                 -\n",
      "Chapter IV      *************************          -                                   -*                                  -\n",
      "Chapter V       ***                                -**                                 -*************                      -\n",
      "Chapter VI      ****                               -********                           -***********************************-\n",
      "Chapter VII     **                                 -*                                  -***                                -\n",
      "Chapter VIII    *                                  -*                                  -******                             -\n",
      "Chapter IX      **                                 -****                               -*******                            -\n",
      "Chapter X       ***                                -******                             -*************                      -\n",
      "Chapter XI      **                                 -********                           -*****************************      -\n",
      "Chapter XII                                        -*                                  -*******                            -\n",
      "Chapter XIII    *                                  -                                   -****                               -\n",
      "Chapter XIV     ***                                -*                                  -*****                              -\n",
      "Chapter XV      *******************                -**                                 -****                               -\n",
      "Chapter XVI     **                                 -***                                -******                             -\n",
      "Chapter XVII                                       -*                                  -*                                  -\n",
      "Chapter XVIII   **                                 -****                               -**                                 -\n",
      "Chapter XIX     ***********************            -                                   -                                   -\n",
      "Chapter XX                                         -*                                  -**                                 -\n",
      "Chapter XXI                                        -********                           -**********                         -\n",
      "Chapter XXII                                       -********                           -****                               -\n",
      "Chapter XXIII   *****                              -*******                            -****                               -\n"
     ]
    }
   ],
   "source": [
    "wordList = ['sand', \"moonstone\", 'diamond']\n",
    "headings = \"{:15} \" + (\"{:35}-\" * len(wordList))\n",
    "print(headings.format(\"\", *wordList))\n",
    "\n",
    "for part in firstPeriodParts:\n",
    "    firstLineBreakLocation = part.find('\\n')\n",
    "    chapterHeading = part[:firstLineBreakLocation]\n",
    "    print(\"{:15}\".format(chapterHeading), end=' ')\n",
    "    for word in wordList:\n",
    "        wordCount = part.lower().count(word)\n",
    "        print(\"{:35}\".format('*' * wordCount), end='-')\n",
    "    print()"
   ]
  },
  {
   "cell_type": "markdown",
   "metadata": {},
   "source": [
    "## Comparison across narratives"
   ]
  },
  {
   "cell_type": "code",
   "execution_count": 129,
   "metadata": {},
   "outputs": [],
   "source": [
    "clack = moonstoneParts[4]\n",
    "betteredge = firstPeriod"
   ]
  },
  {
   "cell_type": "code",
   "execution_count": 222,
   "metadata": {},
   "outputs": [],
   "source": [
    "def compare(wordList):\n",
    "    print(\"{:11} {:6} {:6}\".format(\"\",\"Bet\",\"Clack\"))\n",
    "    for word in wordList:\n",
    "        print(\"{:10}\".format(word), end=\": \")\n",
    "        for text in [betteredge, clack]: \n",
    "            wordProportion = (text.lower().count(word)/len(text))*1000\n",
    "            print(\"{:.4f}\".format(wordProportion), end= ' ')\n",
    "        print()"
   ]
  },
  {
   "cell_type": "code",
   "execution_count": 223,
   "metadata": {},
   "outputs": [
    {
     "name": "stdout",
     "output_type": "stream",
     "text": [
      "            Bet    Clack \n",
      "diamond   : 0.3899 0.0767 \n",
      "godfrey   : 0.1207 0.7615 \n",
      "!         : 0.7774 1.4640 \n",
      "(         : 0.4943 0.4368 \n",
      "lady      : 0.7588 0.3365 \n",
      "unlady    : 0.0000 0.0118 \n",
      "christian : 0.0255 0.1535 \n"
     ]
    }
   ],
   "source": [
    "compare(['diamond', 'godfrey', '!', '(', 'lady', 'unlady', 'christian'])"
   ]
  },
  {
   "cell_type": "code",
   "execution_count": null,
   "metadata": {},
   "outputs": [],
   "source": [
    "   "
   ]
  }
 ],
 "metadata": {
  "kernelspec": {
   "display_name": "Python 3",
   "language": "python",
   "name": "python3"
  },
  "language_info": {
   "codemirror_mode": {
    "name": "ipython",
    "version": 3
   },
   "file_extension": ".py",
   "mimetype": "text/x-python",
   "name": "python",
   "nbconvert_exporter": "python",
   "pygments_lexer": "ipython3",
   "version": "3.7.3"
  }
 },
 "nbformat": 4,
 "nbformat_minor": 2
}
