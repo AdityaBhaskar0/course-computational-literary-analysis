{
 "cells": [
  {
   "cell_type": "markdown",
   "metadata": {},
   "source": [
    "# WordNet"
   ]
  },
  {
   "cell_type": "code",
   "execution_count": 225,
   "metadata": {},
   "outputs": [],
   "source": [
    "from nltk.corpus import wordnet as wn\n",
    "from nltk.corpus import stopwords\n",
    "from nltk.wsd import lesk\n",
    "import nltk\n",
    "import collections\n",
    "from nltk.tokenize.treebank import TreebankWordDetokenizer\n",
    "from nltk.tokenize import TreebankWordTokenizer\n",
    "from nltk.wsd import lesk"
   ]
  },
  {
   "cell_type": "code",
   "execution_count": 2,
   "metadata": {},
   "outputs": [],
   "source": [
    "dogSyns = wn.synsets('dog')"
   ]
  },
  {
   "cell_type": "code",
   "execution_count": 3,
   "metadata": {},
   "outputs": [
    {
     "data": {
      "text/plain": [
       "[Synset('dog.n.01'),\n",
       " Synset('frump.n.01'),\n",
       " Synset('dog.n.03'),\n",
       " Synset('cad.n.01'),\n",
       " Synset('frank.n.02'),\n",
       " Synset('pawl.n.01'),\n",
       " Synset('andiron.n.01'),\n",
       " Synset('chase.v.01')]"
      ]
     },
     "execution_count": 3,
     "metadata": {},
     "output_type": "execute_result"
    }
   ],
   "source": [
    "dogSyns"
   ]
  },
  {
   "cell_type": "code",
   "execution_count": 4,
   "metadata": {},
   "outputs": [],
   "source": [
    "dog = dogSyns[0]"
   ]
  },
  {
   "cell_type": "code",
   "execution_count": 5,
   "metadata": {},
   "outputs": [
    {
     "data": {
      "text/plain": [
       "'a member of the genus Canis (probably descended from the common wolf) that has been domesticated by man since prehistoric times; occurs in many breeds'"
      ]
     },
     "execution_count": 5,
     "metadata": {},
     "output_type": "execute_result"
    }
   ],
   "source": [
    "dog.definition()"
   ]
  },
  {
   "cell_type": "code",
   "execution_count": 6,
   "metadata": {},
   "outputs": [
    {
     "data": {
      "text/plain": [
       "[Synset('basenji.n.01'),\n",
       " Synset('corgi.n.01'),\n",
       " Synset('cur.n.01'),\n",
       " Synset('dalmatian.n.02'),\n",
       " Synset('great_pyrenees.n.01'),\n",
       " Synset('griffon.n.02'),\n",
       " Synset('hunting_dog.n.01'),\n",
       " Synset('lapdog.n.01'),\n",
       " Synset('leonberg.n.01'),\n",
       " Synset('mexican_hairless.n.01'),\n",
       " Synset('newfoundland.n.01'),\n",
       " Synset('pooch.n.01'),\n",
       " Synset('poodle.n.01'),\n",
       " Synset('pug.n.01'),\n",
       " Synset('puppy.n.01'),\n",
       " Synset('spitz.n.01'),\n",
       " Synset('toy_dog.n.01'),\n",
       " Synset('working_dog.n.01')]"
      ]
     },
     "execution_count": 6,
     "metadata": {},
     "output_type": "execute_result"
    }
   ],
   "source": [
    "dog.hyponyms()"
   ]
  },
  {
   "cell_type": "code",
   "execution_count": 7,
   "metadata": {},
   "outputs": [
    {
     "data": {
      "text/plain": [
       "[Synset('canine.n.02'), Synset('domestic_animal.n.01')]"
      ]
     },
     "execution_count": 7,
     "metadata": {},
     "output_type": "execute_result"
    }
   ],
   "source": [
    "dog.hypernyms()"
   ]
  },
  {
   "cell_type": "code",
   "execution_count": 8,
   "metadata": {},
   "outputs": [
    {
     "data": {
      "text/plain": [
       "[Synset('carnivore.n.01')]"
      ]
     },
     "execution_count": 8,
     "metadata": {},
     "output_type": "execute_result"
    }
   ],
   "source": [
    "dog.hypernyms()[0].hypernyms()"
   ]
  },
  {
   "cell_type": "code",
   "execution_count": 9,
   "metadata": {},
   "outputs": [
    {
     "data": {
      "text/plain": [
       "[Synset('placental.n.01')]"
      ]
     },
     "execution_count": 9,
     "metadata": {},
     "output_type": "execute_result"
    }
   ],
   "source": [
    "dog.hypernyms()[0].hypernyms()[0].hypernyms()"
   ]
  },
  {
   "cell_type": "code",
   "execution_count": 10,
   "metadata": {},
   "outputs": [],
   "source": [
    "mammal = dog.hypernyms()[0].hypernyms()[0].hypernyms()[0].hypernyms()[0]"
   ]
  },
  {
   "cell_type": "code",
   "execution_count": 11,
   "metadata": {},
   "outputs": [
    {
     "data": {
      "text/plain": [
       "(9, 9)"
      ]
     },
     "execution_count": 11,
     "metadata": {},
     "output_type": "execute_result"
    }
   ],
   "source": [
    "mammal.max_depth(), mammal.min_depth()"
   ]
  },
  {
   "cell_type": "code",
   "execution_count": 12,
   "metadata": {},
   "outputs": [
    {
     "data": {
      "text/plain": [
       "(13, 8)"
      ]
     },
     "execution_count": 12,
     "metadata": {},
     "output_type": "execute_result"
    }
   ],
   "source": [
    "dog.max_depth(), dog.min_depth()"
   ]
  },
  {
   "cell_type": "code",
   "execution_count": 13,
   "metadata": {},
   "outputs": [
    {
     "data": {
      "text/plain": [
       "[Synset('vertebrate.n.01')]"
      ]
     },
     "execution_count": 13,
     "metadata": {},
     "output_type": "execute_result"
    }
   ],
   "source": [
    "mammal.hypernyms()"
   ]
  },
  {
   "cell_type": "code",
   "execution_count": 14,
   "metadata": {},
   "outputs": [
    {
     "name": "stdout",
     "output_type": "stream",
     "text": [
      "9\n",
      "8\n",
      "7\n",
      "6\n",
      "5\n",
      "4\n",
      "3\n",
      "2\n",
      "1\n",
      "0\n"
     ]
    },
    {
     "data": {
      "text/plain": [
       "[Synset('mammal.n.01'),\n",
       " [Synset('vertebrate.n.01'),\n",
       "  [Synset('chordate.n.01'),\n",
       "   [Synset('animal.n.01'),\n",
       "    [Synset('organism.n.01'),\n",
       "     [Synset('living_thing.n.01'),\n",
       "      [Synset('whole.n.02'),\n",
       "       [Synset('object.n.01'),\n",
       "        [Synset('physical_entity.n.01'), [Synset('entity.n.01')]]]]]]]]]]"
      ]
     },
     "execution_count": 14,
     "metadata": {},
     "output_type": "execute_result"
    }
   ],
   "source": [
    "def getHypernyms(word):\n",
    "    print(word.max_depth())\n",
    "    return word.hypernyms()\n",
    "mammal.tree(getHypernyms)"
   ]
  },
  {
   "cell_type": "code",
   "execution_count": 226,
   "metadata": {},
   "outputs": [],
   "source": [
    "def getDepthNHypernym(word, n=5): \n",
    "    if word.max_depth() > n: \n",
    "        hypernyms = word.hypernyms()\n",
    "        # Check to make sure it's not an empty list, and that it is a list,\n",
    "        # otherwise indexing with [0] will fail. \n",
    "        if type(word.hypernyms()) is list and len(word.hypernyms())>0:\n",
    "            return getDepthNHypernym(word.hypernyms()[0], n)\n",
    "    return word.hypernyms()"
   ]
  },
  {
   "cell_type": "code",
   "execution_count": 229,
   "metadata": {},
   "outputs": [
    {
     "data": {
      "text/plain": [
       "[Synset('living_thing.n.01')]"
      ]
     },
     "execution_count": 229,
     "metadata": {},
     "output_type": "execute_result"
    }
   ],
   "source": [
    "getDepthNHypernym(mammal, 5)"
   ]
  },
  {
   "cell_type": "code",
   "execution_count": 230,
   "metadata": {},
   "outputs": [
    {
     "data": {
      "text/plain": [
       "[Synset('living_thing.n.01')]"
      ]
     },
     "execution_count": 230,
     "metadata": {},
     "output_type": "execute_result"
    }
   ],
   "source": [
    "getDepthNHypernym(dog)"
   ]
  },
  {
   "cell_type": "code",
   "execution_count": 231,
   "metadata": {},
   "outputs": [],
   "source": [
    "house = wn.synsets('house')[0]"
   ]
  },
  {
   "cell_type": "code",
   "execution_count": 232,
   "metadata": {},
   "outputs": [
    {
     "data": {
      "text/plain": [
       "[Synset('artifact.n.01')]"
      ]
     },
     "execution_count": 232,
     "metadata": {},
     "output_type": "execute_result"
    }
   ],
   "source": [
    "getDepthNHypernym(house)"
   ]
  },
  {
   "cell_type": "code",
   "execution_count": 36,
   "metadata": {},
   "outputs": [],
   "source": [
    "garden = open('/home/jon/Code/course-computational-literary-analysis/Homework/garden.md').read()"
   ]
  },
  {
   "cell_type": "code",
   "execution_count": 233,
   "metadata": {},
   "outputs": [],
   "source": [
    "gardenTokens = nltk.word_tokenize(garden)"
   ]
  },
  {
   "cell_type": "code",
   "execution_count": 234,
   "metadata": {},
   "outputs": [],
   "source": [
    "gardenTags = nltk.pos_tag(gardenTokens)"
   ]
  },
  {
   "cell_type": "code",
   "execution_count": 235,
   "metadata": {},
   "outputs": [],
   "source": [
    "gardenNoStops = [token for token in gardenTags if token[0] not in stopwords.words('english')]"
   ]
  },
  {
   "cell_type": "code",
   "execution_count": 236,
   "metadata": {},
   "outputs": [
    {
     "data": {
      "text/plain": [
       "[(',', ','),\n",
       " ('the', 'DT'),\n",
       " ('sky', 'NN'),\n",
       " ('without', 'IN'),\n",
       " ('a', 'DT'),\n",
       " ('cloud', 'NN'),\n",
       " ('.', '.'),\n",
       " ('Only', 'RB'),\n",
       " ('the', 'DT'),\n",
       " ('blue', 'NN')]"
      ]
     },
     "execution_count": 236,
     "metadata": {},
     "output_type": "execute_result"
    }
   ],
   "source": [
    "gardenTags[40:50]"
   ]
  },
  {
   "cell_type": "code",
   "execution_count": 237,
   "metadata": {},
   "outputs": [
    {
     "data": {
      "text/plain": [
       "'a mild viral infection involving the nose and respiratory passages (but not the lungs)'"
      ]
     },
     "execution_count": 237,
     "metadata": {},
     "output_type": "execute_result"
    }
   ],
   "source": [
    "wn.synsets('cold')[0].definition()"
   ]
  },
  {
   "cell_type": "code",
   "execution_count": 238,
   "metadata": {},
   "outputs": [
    {
     "data": {
      "text/plain": [
       "'having a low or inadequate temperature or feeling a sensation of coldness or having been made cold by e.g. ice or refrigeration'"
      ]
     },
     "execution_count": 238,
     "metadata": {},
     "output_type": "execute_result"
    }
   ],
   "source": [
    "wn.synsets('cold')[3].definition()"
   ]
  },
  {
   "cell_type": "code",
   "execution_count": 239,
   "metadata": {},
   "outputs": [
    {
     "data": {
      "text/plain": [
       "[Synset('cold.a.01'),\n",
       " Synset('cold.a.02'),\n",
       " Synset('cold.s.03'),\n",
       " Synset('cold.s.04'),\n",
       " Synset('cold.s.05'),\n",
       " Synset('cold.s.06'),\n",
       " Synset('cold.s.07'),\n",
       " Synset('cold.s.08'),\n",
       " Synset('cold.s.09'),\n",
       " Synset('cold.s.10'),\n",
       " Synset('cold.s.11'),\n",
       " Synset('cold.s.12'),\n",
       " Synset('cold.s.13')]"
      ]
     },
     "execution_count": 239,
     "metadata": {},
     "output_type": "execute_result"
    }
   ],
   "source": [
    "wn.synsets('cold', pos='a')"
   ]
  },
  {
   "cell_type": "code",
   "execution_count": 240,
   "metadata": {},
   "outputs": [
    {
     "data": {
      "text/plain": [
       "[Synset('cold.n.01'), Synset('coldness.n.03'), Synset('cold.n.03')]"
      ]
     },
     "execution_count": 240,
     "metadata": {},
     "output_type": "execute_result"
    }
   ],
   "source": [
    "wn.synsets('cold', pos='n')"
   ]
  },
  {
   "cell_type": "code",
   "execution_count": 241,
   "metadata": {},
   "outputs": [],
   "source": [
    "tokenizer = TreebankWordTokenizer()"
   ]
  },
  {
   "cell_type": "code",
   "execution_count": 242,
   "metadata": {},
   "outputs": [],
   "source": [
    "gardenSents = nltk.sent_tokenize(garden)"
   ]
  },
  {
   "cell_type": "code",
   "execution_count": 281,
   "metadata": {},
   "outputs": [],
   "source": [
    "spans = list(tokenizer.span_tokenize(garden))\n",
    "words = [garden[span[0]:span[1]] for span in spans]"
   ]
  },
  {
   "cell_type": "code",
   "execution_count": 282,
   "metadata": {},
   "outputs": [],
   "source": [
    "categories = []\n",
    "for sent in gardenSents: \n",
    "    tokens = nltk.word_tokenize(sent)\n",
    "    wordsAndTags = nltk.pos_tag(tokens)\n",
    "    for wordAndTag in wordsAndTags: \n",
    "        word, tag = wordAndTag\n",
    "        if tag == 'NN' or tag == 'NNS': \n",
    "            # Do Word Sense Disambiguation (WSD)\n",
    "            sense = nltk.wsd.lesk(sent, word, pos='n')\n",
    "            if sense is not None: \n",
    "                cat = getDepthNHypernym(sense, 5)\n",
    "                if type(cat) is list and len(cat)>0: \n",
    "                    categories.append((word, cat[0]))"
   ]
  },
  {
   "cell_type": "code",
   "execution_count": 283,
   "metadata": {},
   "outputs": [
    {
     "data": {
      "text/plain": [
       "[('weather', Synset('natural_phenomenon.n.01')),\n",
       " ('day', Synset('cosmic_time.n.01')),\n",
       " ('sky', Synset('gas.n.02')),\n",
       " ('cloud', Synset('group.n.01')),\n",
       " ('blue', Synset('substance.n.01')),\n",
       " ('haze', Synset('natural_phenomenon.n.01')),\n",
       " ('gold', Synset('substance.n.01')),\n",
       " ('summer', Synset('time_period.n.01')),\n",
       " ('gardener', Synset('physical_entity.n.01')),\n",
       " ('dawn', Synset('time_period.n.01'))]"
      ]
     },
     "execution_count": 283,
     "metadata": {},
     "output_type": "execute_result"
    }
   ],
   "source": [
    "categories[:10]"
   ]
  },
  {
   "cell_type": "markdown",
   "metadata": {},
   "source": [
    "# An HTML/Javascript explorer for these categories"
   ]
  },
  {
   "cell_type": "code",
   "execution_count": 276,
   "metadata": {},
   "outputs": [],
   "source": [
    "replacementDict = {}\n",
    "for wordAndCat in categories: \n",
    "    word, cat = wordAndCat\n",
    "    readableName = cat.name().split('.')[0]\n",
    "    color = colorMap.get(cat, '')\n",
    "    wrappedWord = '<span class=\"{}\">{}</span>'.format(readableName, word)\n",
    "    #print(word, wrappedWord)\n",
    "    replacementDict[word] = wrappedWord"
   ]
  },
  {
   "cell_type": "code",
   "execution_count": 277,
   "metadata": {},
   "outputs": [],
   "source": [
    "replaced = []\n",
    "for token in gardenTokens: \n",
    "    if token in replacementDict: \n",
    "        replaced.append(replacementDict[token])\n",
    "    else: \n",
    "        replaced.append(token)"
   ]
  },
  {
   "cell_type": "code",
   "execution_count": 285,
   "metadata": {},
   "outputs": [
    {
     "data": {
      "text/plain": [
       "61397"
      ]
     },
     "execution_count": 285,
     "metadata": {},
     "output_type": "execute_result"
    }
   ],
   "source": [
    "detokenized = TreebankWordDetokenizer().detokenize(replaced)\n",
    "niceCatList = [cat[0].name().split('.')[0] \n",
    "               for cat in collections.Counter([cat[1] for cat in categories]).most_common(15)]\n",
    "catList = ''.join([\"\"\"<button onClick=\"show('{}')\">{}</button>\"\"\".format(cat, cat) for cat in niceCatList])\n",
    "out = '<div id=\"controls\"><ul>{}</ul></div>'.format(catList)\n",
    "text = '<div id=\"text\">{}</div>'.format(detokenized)\n",
    "text = '<h2>Instructions: click one of the buttons to the right. Reload the page to reset it.</h2>' + text\n",
    "wrapper = '<main style=\"display: flex;\">{}</main>'.format(text + out)\n",
    "scripts = \"\"\"<script>function show(c){document.querySelectorAll('span.' + c).forEach(function(i){i.style.color='red';})}</script>\"\"\"\n",
    "page = '<html><head>{}</head><body>{}</body></html>'.format(scripts, wrapper)\n",
    "open('categorized.html', 'w').write(page)"
   ]
  }
 ],
 "metadata": {
  "kernelspec": {
   "display_name": "Python 3",
   "language": "python",
   "name": "python3"
  },
  "language_info": {
   "codemirror_mode": {
    "name": "ipython",
    "version": 3
   },
   "file_extension": ".py",
   "mimetype": "text/x-python",
   "name": "python",
   "nbconvert_exporter": "python",
   "pygments_lexer": "ipython3",
   "version": "3.7.3"
  }
 },
 "nbformat": 4,
 "nbformat_minor": 2
}
