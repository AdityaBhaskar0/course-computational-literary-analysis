{
 "cells": [
  {
   "cell_type": "markdown",
   "metadata": {},
   "source": [
    "# Flowers and colors in Katherine Mansfield's _The Garden Party and Other Stories_\n",
    "\n",
    "\n",
    "### Notebook outline\n",
    "- Introduction \n",
    "    - Victorian floriography and Mansfield's use of plant symbolism \n",
    "    - Impressionist visual art and Mansfield's use of color \n",
    "    - Driving question \n",
    "- Overview\n",
    "    - WordNet's flaws\n",
    "- Code \n",
    "    - Importing, splitting, cleaning, and organizing \n",
    "    - Tokenizing, stemming, lemmatizing, and POS-tagging\n",
    "    - Flowers and colors from WordNet\n",
    "    - Scraping flowers and their meanings from Wikipedia\n",
    "- Analysis \n",
    "    - Identifying flowers \n",
    "    - Comparing flowers across stories \n",
    "    - Identifying colors \n",
    "    - Comparing colors across stories\n",
    "- Figures and context\n",
    "    - Figure 1. Plant dispersion plots \n",
    "    - Plant concordances\n",
    "    - Figure 2. Color dispersion plots \n",
    "    - Color concordances\n",
    "- Conclusion\n",
    "- Works Cited"
   ]
  },
  {
   "cell_type": "markdown",
   "metadata": {},
   "source": [
    "# Introduction\n",
    "> _...but I tell you, my lord fool, out of this nettle, danger, we pluck this flower, safety._\n",
    "<div style=\"text-align: right\"> William Shakespeare, <em>Henry IV</em>, as engraved on Katherine Mansfield's headstone </div>  \n",
    "  \n",
    "Katherine Mansfield was a literary Modernist born in New Zealand in October of 1888. She emigrated to London in 1907, where she was contemporaries with other prominent Modernists such as Virginia Woolf and D.H. Lawrence. Despite her close connections with her more long-lived and  historically prominent peers, Mansfield has only recently been hailed by scholars as an influential originator of literary Modernism. This recent interest has unearthed a multitude of primary sources on Mansfield’s life and perspectives, including five volumes of her letters and several of her diaries and notebooks (Encyclopedia Britannica, _Katherine Mansfield_ ). These sources have shed new light on Mansfield’s wide-ranging artistic influences, of which this project aims to study two -- Victorian floriography (Saker) and Impressionist visual art.  \n",
    "\n",
    "## Victorian floriography and Mansfield’s use of plant symbolism \n",
    "Meaning has been assigned to flowers for thousands of years, in works from the Old Testament to Shakespeare's plays. Even though the meanings of flowers vary across context -- for example, even among Shakespeare's works, roses have used to represent foreboding in _Hamlet_ , allegiance to rival noble houses in _Henry VI_ , and romantic love or marriage in _A Midsummer's Night Dream_ -- Western authors throughout history have settled in relative agreement on the meanings of many common blooms.  \n",
    "\n",
    "The standardization of flower meanings in everyday life and literature alike began in earnest during the 18th century and reached its height in the Victorian era (1837-1901) due to the popularization of floriography, the communication through the use and arrangement of flowers. Effective floriography required floral dictionaries that were widely published and read and ultimately standardized and codified plant symbolism.  \n",
    "\n",
    "Modernist authors distanced themselves from their Victorian predecessors by representing characters through their shifting thoughts, sensations, and memories. Even so, Mansfield did not entirely reject all Victorian customs -- flower symbolism was commonly referenced in Mansfield's works, many of which grappled with the Victorian feminine ideal: Floriography was especially popular among women, and Mansfield often used the covert and romantic nature of floriographic communication to hint at her characters’ internal turmoil. In a 1917 letter to Lady Ottoline Morrell, Mansfield wrote, \"Who is going to write about a flower garden?  It might be so wonderful -- do you see how I mean? There would be people walking in the garden \\[...\\] a kind of, musically speaking -- conversation set to flowers\" (Saker). \n",
    "\n",
    "## Impressionist visual art and Mansfield’s use of color\n",
    "Although Mansfield’s use of plant symbolism connected her works not only to Western literary canon but also the social mores of the day, her use of color marked a complete departure from existing literary and social movements. In particular, Mansfield (and other Modernists) focused on their characters’ complex internal lives rather than on any detailed account or even interpretation of the world around them.  \n",
    "\n",
    "Mansfield admired Impressionist art; in letters she declared Van Gogh's paintings as \"\\[teaching\\] me something about writing which was queer -- a kind of freedom -- or rather, a shaking free\" (Forward). She understood the central parallels between the two artistic movements -- both aimed to capture reality not in hyperrealistic detail, but rather in spirit and in feeling. (If anything, literary Modernists were extremely selective in sharing details.) This cross-medium influence is visible in her fascination with capturing recurring but fleeting images in her works: Mirrors in \"The Young Girl\", gentlemens' canes in \"Daughters of the Late Colonel\", and most prominently in _The Garden Party and Other Stories_, the flora of both New Zealand and England.  \n",
    "\n",
    "Given Mansfield’s conception of writing as almost a visual medium, I study her use of color, a literary technique that pretty much effortlessly translates from visual art to prose. Much like flowers and plants, Mansfield treated colors not just as concrete descriptors, but also emotional hints that relied on each color’s socially prescribed connotation. \n",
    "\n",
    "## Driving question \n",
    "\n",
    "How did two of Mansfield’s influences -- Victorian floriography and Impressionist visual art --  present themselves in her use of plant symbolism and color imagery? How did she use the connotations behind plants and colors to add meaning to her works? Finally, were there any larger trends regarding the use of plants and colors throughout _The Garden Party and Other Stories_.\n",
    "\n",
    "Note that I focus on the Mansfield stories that we have read in class, and that citations, if not explicitly given, all refer to _The Garden Party and Other Stories_.\n",
    "\n",
    " "
   ]
  },
  {
   "cell_type": "markdown",
   "metadata": {},
   "source": [
    "# Overview \n",
    "\n",
    "In this project, I use computational literary techniques to assist in the location, aggregation, and visualization of Mansfield’s uses of plants and colors in _The Garden Party and Other Stories_.   \n",
    "\n",
    "In summary, I use WordNet to locate all tokens whose lemmas have flower hypernyms in each story. From observation, this method is inadequate for identifying all tokens that refer to plants, so I also locate all tokens that appear in this Wikipedia page on plant symbolism. (I could not find a digitized Victorian flower dictionary -- the first-best situation -- but flower meanings have remained largely constant since they were codified in the Victorian era, and Wikipedia is the most accessible and cleanly digitized source I was able to locate.)  \n",
    "\n",
    "Using NLTK concordances, I investigate all the identified plants in their surrounding contexts and refer to the Wikipedia plants for their commonly-accepted meanings.  \n",
    "\n",
    "Finally, I create dispersion plots in matplotlib to visually track the mentions of these plants throughout texts. \n",
    "\n",
    "For colors, I repeat the same process, except the WordNet color-identification process is much more accurate, and I don’t scrape Wikipedia for color-meanings (there are far fewer colors, and knowledge of their meanings is much more commonly referenced). "
   ]
  },
  {
   "cell_type": "markdown",
   "metadata": {},
   "source": [
    "# Code "
   ]
  },
  {
   "cell_type": "markdown",
   "metadata": {},
   "source": [
    "## Importing, splitting, cleaning, organizing _TGPAOS_\n",
    "\n",
    "Does what the label says. "
   ]
  },
  {
   "cell_type": "code",
   "execution_count": 1,
   "metadata": {},
   "outputs": [],
   "source": [
    "# libraries \n",
    "\n",
    "# data cleaning/analysis\n",
    "import numpy as np \n",
    "import pandas as pd\n",
    "import re \n",
    "from itertools import chain # help unnesting iterables\n",
    "from collections import Counter\n",
    "\n",
    "# scraping/reading input\n",
    "import json\n",
    "import requests\n",
    "from bs4 import BeautifulSoup\n",
    "\n",
    "# nlp\n",
    "import nltk \n",
    "from nltk.corpus import wordnet as wn\n",
    "\n",
    "# graphing\n",
    "import matplotlib.pyplot as plt\n",
    "from matplotlib import colors as mcolors # a list of all possible mpl colors\n",
    "import string # to get a list of  letters for labeling figures"
   ]
  },
  {
   "cell_type": "code",
   "execution_count": 2,
   "metadata": {
    "scrolled": true
   },
   "outputs": [
    {
     "data": {
      "text/plain": [
       "16"
      ]
     },
     "execution_count": 2,
     "metadata": {},
     "output_type": "execute_result"
    }
   ],
   "source": [
    "# importing data from db corpus\n",
    "\n",
    "# grabbing metadata for corpus\n",
    "metadata = \"http://corpus-db.org/api/id/1429.0\"\n",
    "response = requests.get(metadata)\n",
    "\n",
    "data = json.loads(response.text)\n",
    "\n",
    "# grabbing fulltext \n",
    "fulltext = \"http://corpus-db.org/api/id/1429.0/fulltext\"\n",
    "response2 = requests.get(fulltext)\n",
    "\n",
    "# the garden party \n",
    "gp = json.loads(response2.text)\n",
    "\n",
    "# grabbing a raw string out \n",
    "text = gp[0].get(\"text\")\n",
    "\n",
    "# splitting into stories \n",
    "stories = re.split(r\"\\n\\n\\n\\n[0-9]{1,2}\\.\\s(?=[A-Z])\", text)\n",
    "len(stories) # where the first story is the toc "
   ]
  },
  {
   "cell_type": "code",
   "execution_count": 3,
   "metadata": {},
   "outputs": [],
   "source": [
    "# making tgpaos easier to work with \n",
    "\n",
    "# create a dict of stories, where\n",
    "# key is title \n",
    "# value is raw text (one long string)\n",
    "stories_d = {}\n",
    "\n",
    "for story in stories[1:]:\n",
    "    # grab the title to be the key \n",
    "    split = re.split(r\"\\n\\n\", story, maxsplit = 1)\n",
    "    title = split[0][:-1]\n",
    "    title = \" \".join([i.lower() for i in title.split()])\n",
    "    \n",
    "    # keeping story as raw text\n",
    "    story = split[-1]\n",
    "        \n",
    "    stories_d[title] = story"
   ]
  },
  {
   "cell_type": "code",
   "execution_count": 4,
   "metadata": {},
   "outputs": [],
   "source": [
    "# a list of stories we actually read\n",
    "read = [\"the garden party\", \"the daughters of the late colonel\", \"the young girl\", \"marriage a la mode\", \"her first ball\",\n",
    "       \"an ideal family\"]"
   ]
  },
  {
   "cell_type": "code",
   "execution_count": 5,
   "metadata": {},
   "outputs": [],
   "source": [
    "# getting a pretty list of stories\n",
    "toc = stories[0]\n",
    "toc = re.split(r\"\\n\\n[0-9]{1,2}\\.\\s\", toc)\n",
    "toc = toc[1:] # drop the header\n",
    "\n",
    "# turning it into a dict for easier indexing \n",
    "toc_d = {}\n",
    "for t in toc:\n",
    "    lowercase = \" \".join([w.lower() for w in t.split()])\n",
    "    toc_d[lowercase] = t"
   ]
  },
  {
   "cell_type": "code",
   "execution_count": 6,
   "metadata": {},
   "outputs": [],
   "source": [
    "# turning the matplotlib colors into a list of color names as strings\n",
    "colors = dict(mcolors.BASE_COLORS, **mcolors.CSS4_COLORS)\n",
    "\n",
    "# Sort colors by hue, saturation, value and name.\n",
    "by_hsv = sorted((tuple(mcolors.rgb_to_hsv(mcolors.to_rgba(color)[:3])), name)\n",
    "                for name, color in colors.items())\n",
    "mpl_colors = [name for hsv, name in by_hsv]"
   ]
  },
  {
   "cell_type": "markdown",
   "metadata": {},
   "source": [
    "## Tokenizing, stemming, lemmatizing, and POS-tagging _TGPAOS_\n",
    "\n",
    "This project is essentially done through a series of dictionaries (of raw text, of tokens, of lemmas, etc.), each indexed on the lowercased titles of each short story. "
   ]
  },
  {
   "cell_type": "code",
   "execution_count": 7,
   "metadata": {},
   "outputs": [],
   "source": [
    "# init stem/lem\n",
    "lemmatizer = nltk.stem.WordNetLemmatizer()\n",
    "stemmer = nltk.stem.LancasterStemmer()"
   ]
  },
  {
   "cell_type": "code",
   "execution_count": 8,
   "metadata": {},
   "outputs": [],
   "source": [
    "# creating dicts of tokens, lemmas, pos, and nouns for each story \n",
    "tokens_d = {}\n",
    "lemmas_d = {} # all lemmas in a story \n",
    "pos_d = {} # pos-tagged tokens in a story \n",
    "nouns_d = {} # all unique nouns in a story \n",
    "\n",
    "for k,v in stories_d.items(): \n",
    "    # k is the story's title \n",
    "    # v is tokens of story \n",
    "    title = k\n",
    "    text = v\n",
    "    \n",
    "    # removing punctuation from story \n",
    "    translator = text.maketrans(string.punctuation, ' '*len(string.punctuation)) #map punctuation to space\n",
    "    text = text.translate(translator)\n",
    "    tokens = nltk.word_tokenize(text)\n",
    "    tokens_d[title] = tokens\n",
    "    \n",
    "    lemmas_d[title] = [lemmatizer.lemmatize(t) for t in tokens]\n",
    "    \n",
    "    pos = nltk.pos_tag(tokens)\n",
    "    pos_d[title] = pos\n",
    "    \n",
    "    nouns_d[title] = list(set([w for w,p in pos if p == 'NN' or p == \"NNS\"]))\n"
   ]
  },
  {
   "cell_type": "markdown",
   "metadata": {},
   "source": [
    "## Flowers and colors from WordNet\n",
    "I write some functions that make using WordNet with tokens easier. Some functions return easy-to-parse flat lists of all WordNet hypernyms and others identify if a given list of hypernyms includes a plant or color hypernym. \n",
    "\n",
    "\n"
   ]
  },
  {
   "cell_type": "code",
   "execution_count": 9,
   "metadata": {},
   "outputs": [],
   "source": [
    "# creating some helper functions \n",
    "\n",
    "def getHyponym(word): \n",
    "    return word.hyponyms()\n",
    "\n",
    "def getHypernym(word): \n",
    "    return word.hypernyms()\n",
    "\n",
    "def linked_hypernyms(word):\n",
    "    # takes a word \n",
    "    # returns all hypernyms as linked NOT flat list\n",
    "    synsets = wn.synsets(word)\n",
    "    \n",
    "    if len(synsets) > 0: \n",
    "        synset = synsets[0]\n",
    "        linked_list = synset.tree(getHypernym) \n",
    "        if len(linked_list) == 1:\n",
    "            linked_list = [linked_list[0]]\n",
    "            \n",
    "        return(linked_list)\n",
    "\n",
    "def flat_hypernyms(word):\n",
    "    # takes a word \n",
    "    # returns all hypernyms as flat NOT list\n",
    "    nested_list = linked_hypernyms(word)\n",
    "    output = []\n",
    "    def flatten_list(l): \n",
    "        for i in l: \n",
    "            if type(i) == list: \n",
    "                flatten_list(i) \n",
    "            else: \n",
    "                output.append(i)\n",
    "    try:        \n",
    "        flatten_list(nested_list)\n",
    "        return_me = list(set(output))\n",
    "   # return output\n",
    "        return return_me\n",
    "    except TypeError:\n",
    "        return \n",
    " "
   ]
  },
  {
   "cell_type": "code",
   "execution_count": 10,
   "metadata": {},
   "outputs": [],
   "source": [
    "# more helper functions \n",
    "\n",
    "def is_plant(word):\n",
    "    \n",
    "    # takes a word \n",
    "    # checks is its hypernyms to see if that word is a plant \n",
    "    # returns T/F\n",
    "    \n",
    "    list_hypernyms = flat_hypernyms(word) # gets all hypernyms as flat list \n",
    "    is_plant = False\n",
    "    if list_hypernyms is not None:\n",
    "        for hypernym in list_hypernyms: \n",
    "            if hypernym == wn.synset('plant.n.02'):\n",
    "                is_plant = True\n",
    "    return is_plant\n",
    "\n",
    "def is_flower(word):\n",
    "    \n",
    "    # takes a word \n",
    "    # checks is its hypernyms to see if that word is a flower\n",
    "    # returns T/F\n",
    "    \n",
    "    list_hypernyms = flat_hypernyms(word) # gets all hypernyms as flat list \n",
    "    is_flower = False\n",
    "    if list_hypernyms is not None:\n",
    "        for hypernym in list_hypernyms: \n",
    "            if hypernym == wn.synset('flower.n.01'):\n",
    "                is_flower = True\n",
    "    return is_flower\n",
    "\n",
    "\n",
    "def is_color(word):\n",
    "    # takes a word \n",
    "    # checks is its hypernyms to see if that word is a color\n",
    "    # returns T/F\n",
    "    \n",
    "    list_hypernyms = flat_hypernyms(word) # gets all hypernyms as flat list \n",
    "    is_color = False\n",
    "    if list_hypernyms is not None:\n",
    "        for hypernym in list_hypernyms: \n",
    "            if hypernym == wn.synset('color.n.01'):\n",
    "                is_color = True\n",
    "    return is_color "
   ]
  },
  {
   "cell_type": "markdown",
   "metadata": {},
   "source": [
    "### Demonstration of my functions \n",
    "Here are some quick demonstrations of these functions work. Below are function that return all the hypernyms of a certain string. "
   ]
  },
  {
   "cell_type": "code",
   "execution_count": 11,
   "metadata": {},
   "outputs": [
    {
     "data": {
      "text/plain": [
       "[Synset('wife.n.01'),\n",
       " [Synset('spouse.n.01'),\n",
       "  [Synset('domestic_partner.n.01'),\n",
       "   [Synset('person.n.01'),\n",
       "    [Synset('causal_agent.n.01'),\n",
       "     [Synset('physical_entity.n.01'), [Synset('entity.n.01')]]],\n",
       "    [Synset('organism.n.01'),\n",
       "     [Synset('living_thing.n.01'),\n",
       "      [Synset('whole.n.02'),\n",
       "       [Synset('object.n.01'),\n",
       "        [Synset('physical_entity.n.01'), [Synset('entity.n.01')]]]]]]]],\n",
       "  [Synset('relative.n.01'),\n",
       "   [Synset('person.n.01'),\n",
       "    [Synset('causal_agent.n.01'),\n",
       "     [Synset('physical_entity.n.01'), [Synset('entity.n.01')]]],\n",
       "    [Synset('organism.n.01'),\n",
       "     [Synset('living_thing.n.01'),\n",
       "      [Synset('whole.n.02'),\n",
       "       [Synset('object.n.01'),\n",
       "        [Synset('physical_entity.n.01'), [Synset('entity.n.01')]]]]]]]]],\n",
       " [Synset('woman.n.01'),\n",
       "  [Synset('adult.n.01'),\n",
       "   [Synset('person.n.01'),\n",
       "    [Synset('causal_agent.n.01'),\n",
       "     [Synset('physical_entity.n.01'), [Synset('entity.n.01')]]],\n",
       "    [Synset('organism.n.01'),\n",
       "     [Synset('living_thing.n.01'),\n",
       "      [Synset('whole.n.02'),\n",
       "       [Synset('object.n.01'),\n",
       "        [Synset('physical_entity.n.01'), [Synset('entity.n.01')]]]]]]]],\n",
       "  [Synset('female.n.02'),\n",
       "   [Synset('person.n.01'),\n",
       "    [Synset('causal_agent.n.01'),\n",
       "     [Synset('physical_entity.n.01'), [Synset('entity.n.01')]]],\n",
       "    [Synset('organism.n.01'),\n",
       "     [Synset('living_thing.n.01'),\n",
       "      [Synset('whole.n.02'),\n",
       "       [Synset('object.n.01'),\n",
       "        [Synset('physical_entity.n.01'), [Synset('entity.n.01')]]]]]]]]]]"
      ]
     },
     "execution_count": 11,
     "metadata": {},
     "output_type": "execute_result"
    }
   ],
   "source": [
    "linked_hypernyms(\"wife\") \n",
    "# return all hypernyms of wife as a deep list (i.e., how WordNet \"thinks\" of categories)"
   ]
  },
  {
   "cell_type": "code",
   "execution_count": 12,
   "metadata": {},
   "outputs": [
    {
     "data": {
      "text/plain": [
       "[Synset('physical_entity.n.01'),\n",
       " Synset('object.n.01'),\n",
       " Synset('whole.n.02'),\n",
       " Synset('wife.n.01'),\n",
       " Synset('adult.n.01'),\n",
       " Synset('spouse.n.01'),\n",
       " Synset('causal_agent.n.01'),\n",
       " Synset('person.n.01'),\n",
       " Synset('domestic_partner.n.01'),\n",
       " Synset('living_thing.n.01'),\n",
       " Synset('relative.n.01'),\n",
       " Synset('woman.n.01'),\n",
       " Synset('female.n.02'),\n",
       " Synset('entity.n.01'),\n",
       " Synset('organism.n.01')]"
      ]
     },
     "execution_count": 12,
     "metadata": {},
     "output_type": "execute_result"
    }
   ],
   "source": [
    "flat_hypernyms(\"wife\")\n",
    "# return all unique hypernyms of wife as a flat list"
   ]
  },
  {
   "cell_type": "markdown",
   "metadata": {},
   "source": [
    "Below is a demonstration of how my plant- or color-identifier function works."
   ]
  },
  {
   "cell_type": "code",
   "execution_count": 13,
   "metadata": {},
   "outputs": [
    {
     "data": {
      "text/plain": [
       "['black', 'red', 'pink', 'crimson', 'brown', 'blue', 'green', 'yellow']"
      ]
     },
     "execution_count": 13,
     "metadata": {},
     "output_type": "execute_result"
    }
   ],
   "source": [
    "list(set([n for n in tokens_d.get(\"the garden party\") if is_color(n)] ))\n",
    "# return all words in \"the garden party\" if color is a hypernym"
   ]
  },
  {
   "cell_type": "markdown",
   "metadata": {},
   "source": [
    "### Demonstration of WordNet's flaws\n",
    "Here is an illustrative example for why WordNet is not perfect at processing which tokens are plants or colors, and why I found it necessarily to additional consult Wikipedia. "
   ]
  },
  {
   "cell_type": "code",
   "execution_count": 14,
   "metadata": {},
   "outputs": [
    {
     "data": {
      "text/plain": [
       "[Synset('plant.n.02'),\n",
       " Synset('physical_entity.n.01'),\n",
       " Synset('flower.n.01'),\n",
       " Synset('vascular_plant.n.01'),\n",
       " Synset('angiosperm.n.01'),\n",
       " Synset('spermatophyte.n.01'),\n",
       " Synset('whole.n.02'),\n",
       " Synset('object.n.01'),\n",
       " Synset('living_thing.n.01'),\n",
       " Synset('entity.n.01'),\n",
       " Synset('daisy.n.01'),\n",
       " Synset('organism.n.01')]"
      ]
     },
     "execution_count": 14,
     "metadata": {},
     "output_type": "execute_result"
    }
   ],
   "source": [
    "flat_hypernyms(\"daisy\")\n",
    "# where flat_hypernyms is a fn that takes a string word and \n",
    "# returns a flat, not nested list of the input word's hypernyms"
   ]
  },
  {
   "cell_type": "markdown",
   "metadata": {},
   "source": [
    "Note here that for the word \"daisy,\" WordNet works well. It correctly identifies a daisy as being an flower, then an angiosperm, then a spermatophyte, then a vascular plant, then a plant. "
   ]
  },
  {
   "cell_type": "code",
   "execution_count": 15,
   "metadata": {},
   "outputs": [
    {
     "data": {
      "text/plain": [
       "[Synset('plant.n.02'),\n",
       " Synset('physical_entity.n.01'),\n",
       " Synset('vascular_plant.n.01'),\n",
       " Synset('whole.n.02'),\n",
       " Synset('object.n.01'),\n",
       " Synset('lavender.n.01'),\n",
       " Synset('shrub.n.01'),\n",
       " Synset('living_thing.n.01'),\n",
       " Synset('woody_plant.n.01'),\n",
       " Synset('entity.n.01'),\n",
       " Synset('organism.n.01')]"
      ]
     },
     "execution_count": 15,
     "metadata": {},
     "output_type": "execute_result"
    }
   ],
   "source": [
    "flat_hypernyms(\"lavender\")"
   ]
  },
  {
   "cell_type": "markdown",
   "metadata": {},
   "source": [
    "In contrast, WordNet does not identify \"lavender\" as being either a flower or a color. \n",
    "\n",
    "To circumvent the flower identification problem, I choose the key hypernym for \"flower\"-identification to be `\"Synset('plant.n.02')`, which both \"daisy\" and \"lavender\" share. Of course, this overidentifies tokens, since non-specific tokens that Mansfield uses such as \"flower,\" \"tree,\" and \"bush\" are also classified as plants and thus included. These and other mis-identified tokens are removed manually.  \n",
    "\n",
    "As for the color identification problem, a close reading of _The Garden Party_ did not reveal any colors that were not either identified by WordNet or also the names of plants (e.g., \"rose\", \"lavender\"), so I determined the use of WordNet alone to be satisfactory. "
   ]
  },
  {
   "cell_type": "markdown",
   "metadata": {},
   "source": [
    "## Scraping more flowers and their meanings from Wikipedia\n",
    "\n",
    "As mentioned above in the Approach section, WordNet is far from perfect from identifying all tokens that refer to plants. To get a more exhaustive list of plant names and their meanings, I scrape this Wikipedia page (https://en.wikipedia.org/wiki/Plant_symbolism)."
   ]
  },
  {
   "cell_type": "code",
   "execution_count": 16,
   "metadata": {},
   "outputs": [],
   "source": [
    "# scraping flowers table off wikipedia\n",
    "url = \"https://en.wikipedia.org/wiki/Plant_symbolism\"\n",
    "output = requests.get(url)\n",
    "soup = BeautifulSoup(output.text,\"html.parser\")\n",
    "table = soup.find_all('table')\n",
    "table_rows = table[2].find_all('tr')\n",
    "flowers = []\n",
    "flower_meaning = []\n",
    "for tr in table_rows:\n",
    "    td = tr.find_all('td')\n",
    "    row = [i.text for i in td]\n",
    "    flowers.append(row)\n",
    "    flower_meaning.append((tr, row))"
   ]
  },
  {
   "cell_type": "code",
   "execution_count": 17,
   "metadata": {
    "scrolled": true
   },
   "outputs": [
    {
     "data": {
      "text/plain": [
       "[\"baby's breath\",\n",
       " \"bachelor's button\",\n",
       " 'balm',\n",
       " 'balsam',\n",
       " 'balsamine',\n",
       " 'basil',\n",
       " 'bay wreath',\n",
       " 'begonia',\n",
       " 'bellflower',\n",
       " 'bells of ireland']"
      ]
     },
     "execution_count": 17,
     "metadata": {},
     "output_type": "execute_result"
    }
   ],
   "source": [
    "flowers = flowers[2:]\n",
    "flower_names = [f[0].strip().lower() for f in flowers if len(f) >= 1 and re.search(r\"^[A-Z]\", f[0])]\n",
    "flower_names[20:30] # here's a portion of a big big list of flowers in alphabetical order"
   ]
  },
  {
   "cell_type": "code",
   "execution_count": 18,
   "metadata": {},
   "outputs": [],
   "source": [
    "flower_tokens = [lemmatizer.lemmatize(token) for token in flower_names]"
   ]
  },
  {
   "cell_type": "markdown",
   "metadata": {},
   "source": [
    "# Analysis and figures\n",
    "\n",
    "## Identifying flowers\n",
    "\n",
    "Here, I identify all tokens that are plants as identified by WordNet or flowers as matched by flowers on the Wikipedia page. In the Wikipedia case, I check the lemma of the token against the lemma of the flower name on Wikipedia to ensure that all forms of the flower's name in the text are matched (i.e., I want instances of \"daisies\" just as much as I want instances of \"daisy\").\n",
    "\n",
    "There are two issues with this approach:  \n",
    "\n",
    "First, as mentioned above, WordNet over-identifies non-specific plants. Additionally, there are tokens with unavoidably ambiguous meanings. Take, for instance, the word \"hops\", which appears in _The Garden Party and Other Stories_. Reviewing the token in context reveals that \"hops\" refers to jumping up and down, but WordNet's list of hypernyms includes \"hops\" as a plant, since it's also the name of the vine that helps flavor beer. \"Poke\" the verb becomes \"pokeweed\" in WordNet, \"glad\" the adjective becomes \"gladiolus in Wordnet.  \n",
    "\n",
    "Secondly, using Wikipedia flowers raises a new set of issues, especially because the list of flowers from Wikipedia is quite extensive (185 flowers), which leads to a greater chance of ambiguous lemma matches. For instance, \"broom\" flowers are listed on Wikipedia as symbolizing \"humility,\" but Mansfield uses the word to reference the household object. \n",
    "\n",
    "I didn't see any way around these pathological cases other than to manually remove them. "
   ]
  },
  {
   "cell_type": "code",
   "execution_count": 19,
   "metadata": {},
   "outputs": [],
   "source": [
    "# so-called \"plants\"\n",
    "false_plants = [\"box\", \"weed\", \"hop\", \"poke\", \"broom\", \"trumpet\", \"cheat\", \"glad\", \"benny\", \"flower\", \"grass\", \"tree\", \n",
    "                \"sang\", \"simple\", \"bush\", \"straw\"]"
   ]
  },
  {
   "cell_type": "code",
   "execution_count": 20,
   "metadata": {},
   "outputs": [],
   "source": [
    "# grabbing all tokens that are plants from wordnet or flowers from wikipedia\n",
    "plants_d = {}\n",
    "\n",
    "for title in stories_d.keys():\n",
    "    \n",
    "    text = stories_d.get(title)\n",
    "    #print(title)\n",
    "    tokens = nltk.word_tokenize(text.lower())\n",
    "    lemmas = [lemmatizer.lemmatize(token) for token in tokens]\n",
    "\n",
    "    # something is a flower off wikipedia if its lemma is in the wikipedia flower lemma  \n",
    "    flowers_wiki = list(set([tokens[n] for n in np.arange(len(tokens)) if lemmas[n] in flower_tokens]))\n",
    "    # something is a plant if it has plant as a hypernym \n",
    "    plants_wn = list(set([n for n in tokens_d.get(title) if is_plant(n)]))\n",
    "    # all unique instances of wikipedia flowers and plants off wn are plant tokens\n",
    "    plants = list(set(flowers_wiki + plants_wn))\n",
    "    plants = [i.lower() for i in plants]\n",
    "    #print(plants)\n",
    "    \n",
    "    # ordering the plant tokens in order of first appearance \n",
    "    plant_indices = []\n",
    "    # collecting index/location in text of first appearance\n",
    "    for p in plants: \n",
    "        if p in tokens: \n",
    "            index = tokens.index(p)\n",
    "            plant_indices.append([p, index])\n",
    "    # ordering by first first appearance to latest first appearance\n",
    "    plants_ordered = sorted(plant_indices, key = lambda pair: pair[-1])\n",
    "    # storing the ordered arguments \n",
    "    plants_d[title] = [q[0] for q in plants_ordered]\n",
    "    \n",
    "    #print(\"\\n\")\n"
   ]
  },
  {
   "cell_type": "code",
   "execution_count": 21,
   "metadata": {},
   "outputs": [],
   "source": [
    "# removing false plants from plants_dict (has all plant tokens in a story)\n",
    "# and creating a dict of unique plant lemmas in a story\n",
    "plant_lemmas_d = {}\n",
    "    \n",
    "for title,list_of_plants in plants_d.items():\n",
    "    plants = []\n",
    "    plant_lemmas = []\n",
    "    for p in list_of_plants: \n",
    "        p_lemma = lemmatizer.lemmatize(p)\n",
    "        if p_lemma not in false_plants:\n",
    "            plants.append(p)\n",
    "            plant_lemmas.append(p_lemma)\n",
    "    # assigning dict values \n",
    "    plants_d[title] = plants\n",
    "    plant_lemmas_d[title] = plant_lemmas"
   ]
  },
  {
   "cell_type": "code",
   "execution_count": 22,
   "metadata": {},
   "outputs": [],
   "source": [
    "# just double-checking my work \n",
    "all_plants_lemmas = list(set(list(chain.from_iterable(plant_lemmas_d.values()))))\n",
    "all_plants = list(set(list(chain.from_iterable(plants_d.values()))))"
   ]
  },
  {
   "cell_type": "code",
   "execution_count": 23,
   "metadata": {},
   "outputs": [
    {
     "data": {
      "text/plain": [
       "['apricot',\n",
       " 'basil',\n",
       " 'holly',\n",
       " 'lilac',\n",
       " 'maize',\n",
       " 'almond',\n",
       " 'chrysanthemum',\n",
       " 'gooseberry',\n",
       " 'tangerine',\n",
       " 'anemone',\n",
       " 'cabbage',\n",
       " 'hydrangea',\n",
       " 'fuchsia',\n",
       " 'peach',\n",
       " 'convolvulus',\n",
       " 'willow',\n",
       " 'canna',\n",
       " 'hyacinth',\n",
       " 'hollyhock',\n",
       " 'rose',\n",
       " 'carnation',\n",
       " 'pansy',\n",
       " 'daisy',\n",
       " 'arum',\n",
       " 'nasturtium',\n",
       " 'syringa',\n",
       " 'sloe',\n",
       " 'lavender',\n",
       " 'pineapple',\n",
       " 'petunia',\n",
       " 'azalea',\n",
       " 'daffodil',\n",
       " 'tuberose',\n",
       " 'chestnut',\n",
       " 'violet',\n",
       " 'ginger',\n",
       " 'caper',\n",
       " 'fern',\n",
       " 'poppy',\n",
       " 'marigold',\n",
       " 'olive',\n",
       " 'lily',\n",
       " 'briar',\n",
       " 'banana']"
      ]
     },
     "execution_count": 23,
     "metadata": {},
     "output_type": "execute_result"
    }
   ],
   "source": [
    "# here are all the unique plant tokens in tgpaos\n",
    "all_plants_lemmas"
   ]
  },
  {
   "cell_type": "markdown",
   "metadata": {},
   "source": [
    "## Comparing flowers across stories \n",
    "\n",
    "Here I simply create a pandas dataframe with some basic observations about each story and which types and how many of each flower are mentioned"
   ]
  },
  {
   "cell_type": "code",
   "execution_count": 24,
   "metadata": {},
   "outputs": [
    {
     "data": {
      "text/plain": [
       "Counter({'marigold': 2,\n",
       "         'fuchsia': 2,\n",
       "         'nasturtium': 2,\n",
       "         'caper': 1,\n",
       "         'lilac': 1,\n",
       "         'rose': 1,\n",
       "         'ginger': 1,\n",
       "         'convolvulus': 1,\n",
       "         'anemone': 1,\n",
       "         'poppy': 1,\n",
       "         'apricot': 1,\n",
       "         'gooseberry': 1,\n",
       "         'carnation': 1,\n",
       "         'peach': 1})"
      ]
     },
     "execution_count": 24,
     "metadata": {},
     "output_type": "execute_result"
    }
   ],
   "source": [
    "Counter(plant_lemmas_d.get(\"at the bay\"))"
   ]
  },
  {
   "cell_type": "code",
   "execution_count": 25,
   "metadata": {},
   "outputs": [],
   "source": [
    "# initializing a dataframe\n",
    "plants_df = pd.DataFrame(stories_d.keys(), columns = [\"title\"])\n",
    "\n",
    "# init columns \n",
    "for c in [\"n_tokens\", \"n_types\", \"n_plants\", \"n_mentions\" ]:\n",
    "    plants_df[c] = 0\n",
    "\n",
    "# init columns \n",
    "for c in all_plants_lemmas: \n",
    "    plants_df[c] = 0"
   ]
  },
  {
   "cell_type": "code",
   "execution_count": 26,
   "metadata": {},
   "outputs": [],
   "source": [
    "# filling columns: \n",
    "for i in plants_df.index:\n",
    "    title = plants_df.loc[i, \"title\"]\n",
    "    tokens = tokens_d.get(title)\n",
    "    lemmas = lemmas_d.get(title)\n",
    "    \n",
    "    # type and token\n",
    "    plants_df.loc[i, [\"n_tokens\"]] = len(tokens)\n",
    "    plants_df.loc[i, [\"n_types\"]] = len(list(set(list(tokens))))\n",
    "    \n",
    "    # filling the plant columns\n",
    "    plant_lemmas = plant_lemmas_d.get(title)\n",
    "    # how many plants lemmas do you find in a text \n",
    "    plant_mentions = []\n",
    "    for x in np.arange(len(lemmas)):\n",
    "        for y in np.arange(len(plant_lemmas)):\n",
    "            if lemmas[x] == plant_lemmas[y]:\n",
    "                plant_mentions.append(plant_lemmas[y])\n",
    "                #print(plant_lemmas[y])\n",
    "        \n",
    "    \n",
    "    counter = Counter(plant_mentions) \n",
    "    # Counter dict of plant lemmas and how many times they appear in each story\n",
    "    n_plants = 0\n",
    "    # how many types of plants are mentioned\n",
    "    n_mentions = 0\n",
    "    # how many plant mentions there are \n",
    "    for col in all_plants_lemmas:\n",
    "        count = counter.get(col)\n",
    "        if count is not None: \n",
    "            plants_df.loc[i, [col]] = count\n",
    "            n_plants += 1\n",
    "            n_mentions += count\n",
    "    plants_df.loc[i, \"n_plants\"] = n_plants\n",
    "    plants_df.loc[i, \"n_mentions\"] = n_mentions"
   ]
  },
  {
   "cell_type": "code",
   "execution_count": 27,
   "metadata": {},
   "outputs": [
    {
     "data": {
      "text/plain": [
       "['pansies', 'holly', 'lilies', 'daffodils']"
      ]
     },
     "execution_count": 27,
     "metadata": {},
     "output_type": "execute_result"
    }
   ],
   "source": [
    "plants"
   ]
  },
  {
   "cell_type": "code",
   "execution_count": 28,
   "metadata": {
    "scrolled": true
   },
   "outputs": [
    {
     "data": {
      "text/html": [
       "<div>\n",
       "<style scoped>\n",
       "    .dataframe tbody tr th:only-of-type {\n",
       "        vertical-align: middle;\n",
       "    }\n",
       "\n",
       "    .dataframe tbody tr th {\n",
       "        vertical-align: top;\n",
       "    }\n",
       "\n",
       "    .dataframe thead th {\n",
       "        text-align: right;\n",
       "    }\n",
       "</style>\n",
       "<table border=\"1\" class=\"dataframe\">\n",
       "  <thead>\n",
       "    <tr style=\"text-align: right;\">\n",
       "      <th></th>\n",
       "      <th>title</th>\n",
       "      <th>n_tokens</th>\n",
       "      <th>n_types</th>\n",
       "      <th>n_plants</th>\n",
       "      <th>n_mentions</th>\n",
       "      <th>tangerine</th>\n",
       "      <th>cabbage</th>\n",
       "      <th>hydrangea</th>\n",
       "      <th>canna</th>\n",
       "      <th>hyacinth</th>\n",
       "      <th>...</th>\n",
       "      <th>sloe</th>\n",
       "      <th>lavender</th>\n",
       "      <th>pineapple</th>\n",
       "      <th>petunia</th>\n",
       "      <th>azalea</th>\n",
       "      <th>tuberose</th>\n",
       "      <th>chestnut</th>\n",
       "      <th>ginger</th>\n",
       "      <th>olive</th>\n",
       "      <th>lily</th>\n",
       "    </tr>\n",
       "  </thead>\n",
       "  <tbody>\n",
       "    <tr>\n",
       "      <th>1</th>\n",
       "      <td>the garden party</td>\n",
       "      <td>5564</td>\n",
       "      <td>1377</td>\n",
       "      <td>8</td>\n",
       "      <td>25</td>\n",
       "      <td>0</td>\n",
       "      <td>1</td>\n",
       "      <td>0</td>\n",
       "      <td>2</td>\n",
       "      <td>0</td>\n",
       "      <td>...</td>\n",
       "      <td>0</td>\n",
       "      <td>2</td>\n",
       "      <td>0</td>\n",
       "      <td>0</td>\n",
       "      <td>0</td>\n",
       "      <td>0</td>\n",
       "      <td>0</td>\n",
       "      <td>0</td>\n",
       "      <td>2</td>\n",
       "      <td>10</td>\n",
       "    </tr>\n",
       "    <tr>\n",
       "      <th>2</th>\n",
       "      <td>the daughters of the late colonel</td>\n",
       "      <td>7283</td>\n",
       "      <td>1529</td>\n",
       "      <td>0</td>\n",
       "      <td>0</td>\n",
       "      <td>0</td>\n",
       "      <td>0</td>\n",
       "      <td>0</td>\n",
       "      <td>0</td>\n",
       "      <td>0</td>\n",
       "      <td>...</td>\n",
       "      <td>0</td>\n",
       "      <td>0</td>\n",
       "      <td>0</td>\n",
       "      <td>0</td>\n",
       "      <td>0</td>\n",
       "      <td>0</td>\n",
       "      <td>0</td>\n",
       "      <td>0</td>\n",
       "      <td>0</td>\n",
       "      <td>0</td>\n",
       "    </tr>\n",
       "    <tr>\n",
       "      <th>4</th>\n",
       "      <td>the young girl</td>\n",
       "      <td>2275</td>\n",
       "      <td>762</td>\n",
       "      <td>5</td>\n",
       "      <td>9</td>\n",
       "      <td>2</td>\n",
       "      <td>0</td>\n",
       "      <td>0</td>\n",
       "      <td>0</td>\n",
       "      <td>0</td>\n",
       "      <td>...</td>\n",
       "      <td>0</td>\n",
       "      <td>0</td>\n",
       "      <td>1</td>\n",
       "      <td>0</td>\n",
       "      <td>0</td>\n",
       "      <td>0</td>\n",
       "      <td>1</td>\n",
       "      <td>3</td>\n",
       "      <td>0</td>\n",
       "      <td>0</td>\n",
       "    </tr>\n",
       "    <tr>\n",
       "      <th>6</th>\n",
       "      <td>marriage a la mode</td>\n",
       "      <td>3921</td>\n",
       "      <td>1162</td>\n",
       "      <td>5</td>\n",
       "      <td>16</td>\n",
       "      <td>0</td>\n",
       "      <td>0</td>\n",
       "      <td>0</td>\n",
       "      <td>0</td>\n",
       "      <td>0</td>\n",
       "      <td>...</td>\n",
       "      <td>1</td>\n",
       "      <td>0</td>\n",
       "      <td>6</td>\n",
       "      <td>2</td>\n",
       "      <td>0</td>\n",
       "      <td>0</td>\n",
       "      <td>0</td>\n",
       "      <td>0</td>\n",
       "      <td>0</td>\n",
       "      <td>0</td>\n",
       "    </tr>\n",
       "    <tr>\n",
       "      <th>9</th>\n",
       "      <td>her first ball</td>\n",
       "      <td>2631</td>\n",
       "      <td>865</td>\n",
       "      <td>3</td>\n",
       "      <td>5</td>\n",
       "      <td>0</td>\n",
       "      <td>0</td>\n",
       "      <td>0</td>\n",
       "      <td>0</td>\n",
       "      <td>0</td>\n",
       "      <td>...</td>\n",
       "      <td>0</td>\n",
       "      <td>0</td>\n",
       "      <td>0</td>\n",
       "      <td>0</td>\n",
       "      <td>3</td>\n",
       "      <td>1</td>\n",
       "      <td>0</td>\n",
       "      <td>0</td>\n",
       "      <td>0</td>\n",
       "      <td>0</td>\n",
       "    </tr>\n",
       "    <tr>\n",
       "      <th>13</th>\n",
       "      <td>an ideal family</td>\n",
       "      <td>2521</td>\n",
       "      <td>847</td>\n",
       "      <td>3</td>\n",
       "      <td>3</td>\n",
       "      <td>0</td>\n",
       "      <td>1</td>\n",
       "      <td>1</td>\n",
       "      <td>0</td>\n",
       "      <td>1</td>\n",
       "      <td>...</td>\n",
       "      <td>0</td>\n",
       "      <td>0</td>\n",
       "      <td>0</td>\n",
       "      <td>0</td>\n",
       "      <td>0</td>\n",
       "      <td>0</td>\n",
       "      <td>0</td>\n",
       "      <td>0</td>\n",
       "      <td>0</td>\n",
       "      <td>0</td>\n",
       "    </tr>\n",
       "  </tbody>\n",
       "</table>\n",
       "<p>6 rows × 24 columns</p>\n",
       "</div>"
      ],
      "text/plain": [
       "                                title  n_tokens  n_types  n_plants  \\\n",
       "1                    the garden party      5564     1377         8   \n",
       "2   the daughters of the late colonel      7283     1529         0   \n",
       "4                      the young girl      2275      762         5   \n",
       "6                  marriage a la mode      3921     1162         5   \n",
       "9                      her first ball      2631      865         3   \n",
       "13                    an ideal family      2521      847         3   \n",
       "\n",
       "    n_mentions  tangerine  cabbage  hydrangea  canna  hyacinth  ...  sloe  \\\n",
       "1           25          0        1          0      2         0  ...     0   \n",
       "2            0          0        0          0      0         0  ...     0   \n",
       "4            9          2        0          0      0         0  ...     0   \n",
       "6           16          0        0          0      0         0  ...     1   \n",
       "9            5          0        0          0      0         0  ...     0   \n",
       "13           3          0        1          1      0         1  ...     0   \n",
       "\n",
       "    lavender  pineapple  petunia  azalea  tuberose  chestnut  ginger  olive  \\\n",
       "1          2          0        0       0         0         0       0      2   \n",
       "2          0          0        0       0         0         0       0      0   \n",
       "4          0          1        0       0         0         1       3      0   \n",
       "6          0          6        2       0         0         0       0      0   \n",
       "9          0          0        0       3         1         0       0      0   \n",
       "13         0          0        0       0         0         0       0      0   \n",
       "\n",
       "    lily  \n",
       "1     10  \n",
       "2      0  \n",
       "4      0  \n",
       "6      0  \n",
       "9      0  \n",
       "13     0  \n",
       "\n",
       "[6 rows x 24 columns]"
      ]
     },
     "execution_count": 28,
     "metadata": {},
     "output_type": "execute_result"
    }
   ],
   "source": [
    "pdf = plants_df # for simplicity of manipulation\n",
    "pdf_r = pdf.loc[pdf.title.isin(read), ] # only the stories we've read\n",
    "pdf_r.loc[:, (pdf_r != 0).any(axis=0)]\n",
    "# print stories we have read and plant columns that are mentioned at least once in one of those stories"
   ]
  },
  {
   "cell_type": "code",
   "execution_count": 29,
   "metadata": {
    "scrolled": false
   },
   "outputs": [
    {
     "data": {
      "text/plain": [
       "(15, 49)"
      ]
     },
     "execution_count": 29,
     "metadata": {},
     "output_type": "execute_result"
    }
   ],
   "source": [
    "pdf.shape"
   ]
  },
  {
   "cell_type": "code",
   "execution_count": 30,
   "metadata": {},
   "outputs": [
    {
     "data": {
      "text/plain": [
       "(6, 24)"
      ]
     },
     "execution_count": 30,
     "metadata": {},
     "output_type": "execute_result"
    }
   ],
   "source": [
    "pdf_r.loc[:, (pdf_r != 0).any(axis=0)].shape"
   ]
  },
  {
   "cell_type": "markdown",
   "metadata": {},
   "source": [
    "## Identifying colors \n",
    "\n",
    "Same spirit as identifying flowers, except for there's no Wikipedia component. I lemmatize once again, and weirdly enough, \"blackness\" and \"whiteness\" do not lemmatize to their respective colors. "
   ]
  },
  {
   "cell_type": "code",
   "execution_count": 31,
   "metadata": {
    "scrolled": true
   },
   "outputs": [],
   "source": [
    "colors_d = {}\n",
    "color_lemmas_d = {}\n",
    "\n",
    "for s in stories_d.keys():\n",
    "    title = s\n",
    "    story = stories_d.get(s)\n",
    "    tokens = tokens_d.get(s)\n",
    "    tokens = [t.lower() for t in tokens]\n",
    "    lemmas = [lemmatizer.lemmatize(token) for token in tokens]\n",
    "    \n",
    "    # grabbing all tokens that have a plant hypernym \n",
    "    colors = []\n",
    "    for i in np.arange(len(tokens)):\n",
    "        token = tokens[i]\n",
    "        if is_color(token):\n",
    "            colors.append(token)\n",
    "    colors = [t for t in tokens if is_color(t)]\n",
    "    \n",
    "    \n",
    "    # ordering those colors in order of first appearance \n",
    "    color_indices = []\n",
    "    # collecting index/location in text of first appearance, removing tokens that have lemma\n",
    "    for c in colors: \n",
    "        index = tokens.index(c)\n",
    "        color_indices.append([c, index])\n",
    "    # ordering by first first appearance to latest first appearance\n",
    "    colors_ordered = sorted(color_indices, key = lambda pair: pair[-1])\n",
    "    # storing the ordered arguments \n",
    "    \n",
    "    colors_d[title] = [q[0] for q in colors_ordered]\n",
    "    color_lemmas_d[title] = [lemmatizer.lemmatize(i) for i in colors_d.get(title)]\n",
    "    "
   ]
  },
  {
   "cell_type": "code",
   "execution_count": 32,
   "metadata": {},
   "outputs": [
    {
     "data": {
      "text/plain": [
       "['black',\n",
       " 'blackness',\n",
       " 'whiteness',\n",
       " 'red',\n",
       " 'pink',\n",
       " 'pink',\n",
       " 'crimson',\n",
       " 'brown',\n",
       " 'blue',\n",
       " 'purple',\n",
       " 'scarlet',\n",
       " 'amber',\n",
       " 'green',\n",
       " 'coral',\n",
       " 'yellow']"
      ]
     },
     "execution_count": 32,
     "metadata": {},
     "output_type": "execute_result"
    }
   ],
   "source": [
    "# unnesting all unique color-tokens\n",
    "all_colors_tokens = list(set(list(chain.from_iterable(colors_d.values()))))\n",
    "\n",
    "# and getting all unique colors \n",
    "all_colors = []\n",
    "for c in all_colors_tokens:\n",
    "    all_colors.append(lemmatizer.lemmatize(c))\n",
    "    \n",
    "# all colors that appear in TGPAOS\n",
    "all_colors"
   ]
  },
  {
   "cell_type": "code",
   "execution_count": 33,
   "metadata": {},
   "outputs": [
    {
     "data": {
      "text/plain": [
       "15"
      ]
     },
     "execution_count": 33,
     "metadata": {},
     "output_type": "execute_result"
    }
   ],
   "source": [
    "len(all_colors)"
   ]
  },
  {
   "cell_type": "markdown",
   "metadata": {},
   "source": [
    "## Comparing colors across stories \n",
    "Creating a pandas dataframe with the same structure as the resulting dataframe from the section titled \"Comparing flowers across stories.\" "
   ]
  },
  {
   "cell_type": "code",
   "execution_count": 34,
   "metadata": {},
   "outputs": [],
   "source": [
    "# init a dataframe of color statistics\n",
    "colors_df = pd.DataFrame(stories_d.keys(), columns = [\"title\"])\n",
    "\n",
    "# create n_tokens, n_types \n",
    "colors_df[\"n_tokens\"], colors_df[\"n_types\"] = 0,0\n",
    "\n",
    "# init total num_mentions, n_colors\n",
    "colors_df[\"n_mentions\"], colors_df[\"n_colors\"] = 0,0\n",
    "\n",
    "# init count columns\n",
    "for c in all_colors:\n",
    "    colors_df[c] = 0"
   ]
  },
  {
   "cell_type": "code",
   "execution_count": 35,
   "metadata": {},
   "outputs": [],
   "source": [
    "# filling the count columns \n",
    "for i in colors_df.index:\n",
    "    title = colors_df.loc[i, \"title\"]\n",
    "    colors = colors_d.get(title)\n",
    "    \n",
    "    # finding type, tokens \n",
    "    colors_df.loc[i, \"n_tokens\"] = len(tokens_d.get(title))\n",
    "    colors_df.loc[i, \"n_types\"] =len(list(set(list(tokens_d.get(title)))))\n",
    "    \n",
    "    # finding counts, mentions, colors\n",
    "    counter = Counter(colors)\n",
    "    n_mentions = 0\n",
    "    n_colors = 0\n",
    "    for j in all_colors: \n",
    "        count = counter.get(j)\n",
    "        if count is None:\n",
    "            count = 0\n",
    "        colors_df.loc[i, j] = count\n",
    "    colors_df.loc[i, \"n_mentions\"] = len(colors)\n",
    "    colors_df.loc[i, \"n_colors\"] = len(list(set(colors)))"
   ]
  },
  {
   "cell_type": "code",
   "execution_count": 36,
   "metadata": {
    "scrolled": true
   },
   "outputs": [
    {
     "data": {
      "text/html": [
       "<div>\n",
       "<style scoped>\n",
       "    .dataframe tbody tr th:only-of-type {\n",
       "        vertical-align: middle;\n",
       "    }\n",
       "\n",
       "    .dataframe tbody tr th {\n",
       "        vertical-align: top;\n",
       "    }\n",
       "\n",
       "    .dataframe thead th {\n",
       "        text-align: right;\n",
       "    }\n",
       "</style>\n",
       "<table border=\"1\" class=\"dataframe\">\n",
       "  <thead>\n",
       "    <tr style=\"text-align: right;\">\n",
       "      <th></th>\n",
       "      <th>title</th>\n",
       "      <th>n_tokens</th>\n",
       "      <th>n_types</th>\n",
       "      <th>n_mentions</th>\n",
       "      <th>n_colors</th>\n",
       "      <th>black</th>\n",
       "      <th>blackness</th>\n",
       "      <th>whiteness</th>\n",
       "      <th>red</th>\n",
       "      <th>pink</th>\n",
       "      <th>crimson</th>\n",
       "      <th>brown</th>\n",
       "      <th>blue</th>\n",
       "      <th>purple</th>\n",
       "      <th>scarlet</th>\n",
       "      <th>amber</th>\n",
       "      <th>green</th>\n",
       "      <th>yellow</th>\n",
       "    </tr>\n",
       "  </thead>\n",
       "  <tbody>\n",
       "    <tr>\n",
       "      <th>1</th>\n",
       "      <td>the garden party</td>\n",
       "      <td>5564</td>\n",
       "      <td>1377</td>\n",
       "      <td>16</td>\n",
       "      <td>8</td>\n",
       "      <td>3</td>\n",
       "      <td>0</td>\n",
       "      <td>0</td>\n",
       "      <td>1</td>\n",
       "      <td>2</td>\n",
       "      <td>1</td>\n",
       "      <td>1</td>\n",
       "      <td>2</td>\n",
       "      <td>0</td>\n",
       "      <td>0</td>\n",
       "      <td>0</td>\n",
       "      <td>5</td>\n",
       "      <td>1</td>\n",
       "    </tr>\n",
       "    <tr>\n",
       "      <th>2</th>\n",
       "      <td>the daughters of the late colonel</td>\n",
       "      <td>7283</td>\n",
       "      <td>1529</td>\n",
       "      <td>24</td>\n",
       "      <td>10</td>\n",
       "      <td>10</td>\n",
       "      <td>1</td>\n",
       "      <td>1</td>\n",
       "      <td>4</td>\n",
       "      <td>0</td>\n",
       "      <td>0</td>\n",
       "      <td>1</td>\n",
       "      <td>1</td>\n",
       "      <td>3</td>\n",
       "      <td>1</td>\n",
       "      <td>0</td>\n",
       "      <td>1</td>\n",
       "      <td>1</td>\n",
       "    </tr>\n",
       "    <tr>\n",
       "      <th>4</th>\n",
       "      <td>the young girl</td>\n",
       "      <td>2275</td>\n",
       "      <td>762</td>\n",
       "      <td>15</td>\n",
       "      <td>6</td>\n",
       "      <td>4</td>\n",
       "      <td>0</td>\n",
       "      <td>0</td>\n",
       "      <td>0</td>\n",
       "      <td>3</td>\n",
       "      <td>1</td>\n",
       "      <td>0</td>\n",
       "      <td>5</td>\n",
       "      <td>1</td>\n",
       "      <td>0</td>\n",
       "      <td>0</td>\n",
       "      <td>1</td>\n",
       "      <td>0</td>\n",
       "    </tr>\n",
       "    <tr>\n",
       "      <th>6</th>\n",
       "      <td>marriage a la mode</td>\n",
       "      <td>3921</td>\n",
       "      <td>1162</td>\n",
       "      <td>15</td>\n",
       "      <td>6</td>\n",
       "      <td>3</td>\n",
       "      <td>0</td>\n",
       "      <td>0</td>\n",
       "      <td>3</td>\n",
       "      <td>2</td>\n",
       "      <td>0</td>\n",
       "      <td>0</td>\n",
       "      <td>2</td>\n",
       "      <td>0</td>\n",
       "      <td>0</td>\n",
       "      <td>0</td>\n",
       "      <td>2</td>\n",
       "      <td>3</td>\n",
       "    </tr>\n",
       "    <tr>\n",
       "      <th>9</th>\n",
       "      <td>her first ball</td>\n",
       "      <td>2631</td>\n",
       "      <td>865</td>\n",
       "      <td>12</td>\n",
       "      <td>5</td>\n",
       "      <td>3</td>\n",
       "      <td>0</td>\n",
       "      <td>0</td>\n",
       "      <td>1</td>\n",
       "      <td>6</td>\n",
       "      <td>0</td>\n",
       "      <td>1</td>\n",
       "      <td>0</td>\n",
       "      <td>0</td>\n",
       "      <td>0</td>\n",
       "      <td>1</td>\n",
       "      <td>0</td>\n",
       "      <td>0</td>\n",
       "    </tr>\n",
       "    <tr>\n",
       "      <th>13</th>\n",
       "      <td>an ideal family</td>\n",
       "      <td>2521</td>\n",
       "      <td>847</td>\n",
       "      <td>4</td>\n",
       "      <td>4</td>\n",
       "      <td>0</td>\n",
       "      <td>0</td>\n",
       "      <td>0</td>\n",
       "      <td>1</td>\n",
       "      <td>0</td>\n",
       "      <td>1</td>\n",
       "      <td>0</td>\n",
       "      <td>1</td>\n",
       "      <td>0</td>\n",
       "      <td>0</td>\n",
       "      <td>0</td>\n",
       "      <td>0</td>\n",
       "      <td>1</td>\n",
       "    </tr>\n",
       "  </tbody>\n",
       "</table>\n",
       "</div>"
      ],
      "text/plain": [
       "                                title  n_tokens  n_types  n_mentions  \\\n",
       "1                    the garden party      5564     1377          16   \n",
       "2   the daughters of the late colonel      7283     1529          24   \n",
       "4                      the young girl      2275      762          15   \n",
       "6                  marriage a la mode      3921     1162          15   \n",
       "9                      her first ball      2631      865          12   \n",
       "13                    an ideal family      2521      847           4   \n",
       "\n",
       "    n_colors  black  blackness  whiteness  red  pink  crimson  brown  blue  \\\n",
       "1          8      3          0          0    1     2        1      1     2   \n",
       "2         10     10          1          1    4     0        0      1     1   \n",
       "4          6      4          0          0    0     3        1      0     5   \n",
       "6          6      3          0          0    3     2        0      0     2   \n",
       "9          5      3          0          0    1     6        0      1     0   \n",
       "13         4      0          0          0    1     0        1      0     1   \n",
       "\n",
       "    purple  scarlet  amber  green  yellow  \n",
       "1        0        0      0      5       1  \n",
       "2        3        1      0      1       1  \n",
       "4        1        0      0      1       0  \n",
       "6        0        0      0      2       3  \n",
       "9        0        0      1      0       0  \n",
       "13       0        0      0      0       1  "
      ]
     },
     "execution_count": 36,
     "metadata": {},
     "output_type": "execute_result"
    }
   ],
   "source": [
    "cdf = colors_df # for simplicity of manipulation\n",
    "cdf_r = cdf.loc[cdf.title.isin(read)] # stories we've read \n",
    "cdf_r.loc[:, (cdf_r != 0).any(axis=0)] # show nonzero columns only"
   ]
  },
  {
   "cell_type": "code",
   "execution_count": 37,
   "metadata": {},
   "outputs": [
    {
     "data": {
      "text/plain": [
       "(15, 19)"
      ]
     },
     "execution_count": 37,
     "metadata": {},
     "output_type": "execute_result"
    }
   ],
   "source": [
    "cdf.shape"
   ]
  },
  {
   "cell_type": "code",
   "execution_count": 38,
   "metadata": {},
   "outputs": [
    {
     "data": {
      "text/plain": [
       "(6, 18)"
      ]
     },
     "execution_count": 38,
     "metadata": {},
     "output_type": "execute_result"
    }
   ],
   "source": [
    "cdf_r.loc[:, (cdf_r != 0).any(axis=0)].shape"
   ]
  },
  {
   "cell_type": "markdown",
   "metadata": {},
   "source": [
    "# Figures and context\n",
    "I build dispersion plots to track the mentions of plants and colors through texts. Here, I use matplotlib instead of NLTK's built-in plotter for additional customizability.  \n",
    "\n",
    "Additionally, I use NLTK concordances to find the text surrounding each plant- or color-mention. \n",
    "\n",
    "\n",
    "\n",
    "## Figure 1. Plant dispersion plots"
   ]
  },
  {
   "cell_type": "code",
   "execution_count": 39,
   "metadata": {},
   "outputs": [],
   "source": [
    "# A FUNCTION THAT GRAPHS DISPERSION PLOTS FOR COLORS \n",
    "def plant_dispersion_plot(title, fig_num):\n",
    "    # title is the sthort story to graph \n",
    "    # returns a dispersion plot of colors\n",
    "    \n",
    "    %matplotlib inline\n",
    "    \n",
    "    story = stories_d.get(title)\n",
    "    tokens = tokens_d.get(title)\n",
    "    lemmas = lemmas_d.get(title)\n",
    "    lemmas = [l.lower() for l in lemmas]\n",
    "    text = nltk.Text(lemmas)\n",
    "    \n",
    "    \n",
    "    # unique color-tokens that appear in story \n",
    "    plants_t = list(set(list(plants_d.get(title))))\n",
    "    #print(plants_t)\n",
    "    # unique plant-lemmas that appear in story \n",
    "    plants_l = []\n",
    "    for p in plants_t:\n",
    "        plants_l.append(lemmatizer.lemmatize(p))\n",
    "    # remove all plant-tokens that we don't want bc they aren't specific enough or lemmatized wrong\n",
    "    plants_l = list(set(list([p for p in plants_l if p not in false_plants])))\n",
    "    #print(plants_l)\n",
    "    \n",
    "    # creating graph \n",
    "    # creating points to mark \n",
    "    points = [(x,y) for x in np.arange(len(lemmas)) \n",
    "              for y in np.arange(len(plants_l)) if lemmas[x] == plants_l[y]]\n",
    "    if points:\n",
    "        x,y = zip(*points)\n",
    "    else: \n",
    "        x = y= ()\n",
    "    \n",
    "#     for i in np.arange(len(x)):\n",
    "#         plt.scatter([x[i]], [y[i]], \"|\", c = \"blue\")\n",
    "    plt.plot(x, y, \"|\", scalex=.1, color = \"blue\")\n",
    "    plt.yticks(range(len(plants_l)), plants_l, color=\"black\")\n",
    "    plt.ylim(-1, len(plants_l))\n",
    "    plt.xlim(0, len(tokens))\n",
    "    \n",
    "    #title \n",
    "    print_title = toc_d.get(title) # so it's not all boring and lowercase, but correctly formatted\n",
    "    letter = string.ascii_lowercase[fig_num]\n",
    "    plt.title(f\"Figure 1{letter}. '{print_title}' Plant Dispersion Plot\", loc = \"left\")\n",
    "    plt.xlabel(\"token position\")\n",
    "    \n",
    "    plt.show()\n",
    "    "
   ]
  },
  {
   "cell_type": "code",
   "execution_count": 40,
   "metadata": {
    "scrolled": false
   },
   "outputs": [
    {
     "data": {
      "image/png": "[encoded data removed]",
      "text/plain": [
       "<Figure size 432x288 with 1 Axes>"
      ]
     },
     "metadata": {
      "needs_background": "light"
     },
     "output_type": "display_data"
    },
    {
     "data": {
      "image/png": "[encoded data removed]",
      "text/plain": [
       "<Figure size 432x288 with 1 Axes>"
      ]
     },
     "metadata": {
      "needs_background": "light"
     },
     "output_type": "display_data"
    },
    {
     "data": {
      "image/png": "[encoded data removed]",
      "text/plain": [
       "<Figure size 432x288 with 1 Axes>"
      ]
     },
     "metadata": {
      "needs_background": "light"
     },
     "output_type": "display_data"
    },
    {
     "data": {
      "image/png": "[encoded data removed]",
      "text/plain": [
       "<Figure size 432x288 with 1 Axes>"
      ]
     },
     "metadata": {
      "needs_background": "light"
     },
     "output_type": "display_data"
    },
    {
     "data": {
      "image/png": "[encoded data removed]",
      "text/plain": [
       "<Figure size 432x288 with 1 Axes>"
      ]
     },
     "metadata": {
      "needs_background": "light"
     },
     "output_type": "display_data"
    },
    {
     "data": {
      "image/png": "[encoded data removed]",
      "text/plain": [
       "<Figure size 432x288 with 1 Axes>"
      ]
     },
     "metadata": {
      "needs_background": "light"
     },
     "output_type": "display_data"
    }
   ],
   "source": [
    "for i in np.arange(len(read)): \n",
    "    title = read[i]\n",
    "    plant_dispersion_plot(title, i)"
   ]
  },
  {
   "cell_type": "code",
   "execution_count": 41,
   "metadata": {},
   "outputs": [
    {
     "data": {
      "text/html": [
       "<div>\n",
       "<style scoped>\n",
       "    .dataframe tbody tr th:only-of-type {\n",
       "        vertical-align: middle;\n",
       "    }\n",
       "\n",
       "    .dataframe tbody tr th {\n",
       "        vertical-align: top;\n",
       "    }\n",
       "\n",
       "    .dataframe thead th {\n",
       "        text-align: right;\n",
       "    }\n",
       "</style>\n",
       "<table border=\"1\" class=\"dataframe\">\n",
       "  <thead>\n",
       "    <tr style=\"text-align: right;\">\n",
       "      <th></th>\n",
       "      <th>title</th>\n",
       "      <th>n_tokens</th>\n",
       "      <th>n_types</th>\n",
       "      <th>n_plants</th>\n",
       "      <th>n_mentions</th>\n",
       "      <th>tangerine</th>\n",
       "      <th>cabbage</th>\n",
       "      <th>hydrangea</th>\n",
       "      <th>canna</th>\n",
       "      <th>hyacinth</th>\n",
       "      <th>...</th>\n",
       "      <th>sloe</th>\n",
       "      <th>lavender</th>\n",
       "      <th>pineapple</th>\n",
       "      <th>petunia</th>\n",
       "      <th>azalea</th>\n",
       "      <th>tuberose</th>\n",
       "      <th>chestnut</th>\n",
       "      <th>ginger</th>\n",
       "      <th>olive</th>\n",
       "      <th>lily</th>\n",
       "    </tr>\n",
       "  </thead>\n",
       "  <tbody>\n",
       "    <tr>\n",
       "      <th>1</th>\n",
       "      <td>the garden party</td>\n",
       "      <td>5564</td>\n",
       "      <td>1377</td>\n",
       "      <td>8</td>\n",
       "      <td>25</td>\n",
       "      <td>0</td>\n",
       "      <td>1</td>\n",
       "      <td>0</td>\n",
       "      <td>2</td>\n",
       "      <td>0</td>\n",
       "      <td>...</td>\n",
       "      <td>0</td>\n",
       "      <td>2</td>\n",
       "      <td>0</td>\n",
       "      <td>0</td>\n",
       "      <td>0</td>\n",
       "      <td>0</td>\n",
       "      <td>0</td>\n",
       "      <td>0</td>\n",
       "      <td>2</td>\n",
       "      <td>10</td>\n",
       "    </tr>\n",
       "    <tr>\n",
       "      <th>2</th>\n",
       "      <td>the daughters of the late colonel</td>\n",
       "      <td>7283</td>\n",
       "      <td>1529</td>\n",
       "      <td>0</td>\n",
       "      <td>0</td>\n",
       "      <td>0</td>\n",
       "      <td>0</td>\n",
       "      <td>0</td>\n",
       "      <td>0</td>\n",
       "      <td>0</td>\n",
       "      <td>...</td>\n",
       "      <td>0</td>\n",
       "      <td>0</td>\n",
       "      <td>0</td>\n",
       "      <td>0</td>\n",
       "      <td>0</td>\n",
       "      <td>0</td>\n",
       "      <td>0</td>\n",
       "      <td>0</td>\n",
       "      <td>0</td>\n",
       "      <td>0</td>\n",
       "    </tr>\n",
       "    <tr>\n",
       "      <th>4</th>\n",
       "      <td>the young girl</td>\n",
       "      <td>2275</td>\n",
       "      <td>762</td>\n",
       "      <td>5</td>\n",
       "      <td>9</td>\n",
       "      <td>2</td>\n",
       "      <td>0</td>\n",
       "      <td>0</td>\n",
       "      <td>0</td>\n",
       "      <td>0</td>\n",
       "      <td>...</td>\n",
       "      <td>0</td>\n",
       "      <td>0</td>\n",
       "      <td>1</td>\n",
       "      <td>0</td>\n",
       "      <td>0</td>\n",
       "      <td>0</td>\n",
       "      <td>1</td>\n",
       "      <td>3</td>\n",
       "      <td>0</td>\n",
       "      <td>0</td>\n",
       "    </tr>\n",
       "    <tr>\n",
       "      <th>6</th>\n",
       "      <td>marriage a la mode</td>\n",
       "      <td>3921</td>\n",
       "      <td>1162</td>\n",
       "      <td>5</td>\n",
       "      <td>16</td>\n",
       "      <td>0</td>\n",
       "      <td>0</td>\n",
       "      <td>0</td>\n",
       "      <td>0</td>\n",
       "      <td>0</td>\n",
       "      <td>...</td>\n",
       "      <td>1</td>\n",
       "      <td>0</td>\n",
       "      <td>6</td>\n",
       "      <td>2</td>\n",
       "      <td>0</td>\n",
       "      <td>0</td>\n",
       "      <td>0</td>\n",
       "      <td>0</td>\n",
       "      <td>0</td>\n",
       "      <td>0</td>\n",
       "    </tr>\n",
       "    <tr>\n",
       "      <th>9</th>\n",
       "      <td>her first ball</td>\n",
       "      <td>2631</td>\n",
       "      <td>865</td>\n",
       "      <td>3</td>\n",
       "      <td>5</td>\n",
       "      <td>0</td>\n",
       "      <td>0</td>\n",
       "      <td>0</td>\n",
       "      <td>0</td>\n",
       "      <td>0</td>\n",
       "      <td>...</td>\n",
       "      <td>0</td>\n",
       "      <td>0</td>\n",
       "      <td>0</td>\n",
       "      <td>0</td>\n",
       "      <td>3</td>\n",
       "      <td>1</td>\n",
       "      <td>0</td>\n",
       "      <td>0</td>\n",
       "      <td>0</td>\n",
       "      <td>0</td>\n",
       "    </tr>\n",
       "    <tr>\n",
       "      <th>13</th>\n",
       "      <td>an ideal family</td>\n",
       "      <td>2521</td>\n",
       "      <td>847</td>\n",
       "      <td>3</td>\n",
       "      <td>3</td>\n",
       "      <td>0</td>\n",
       "      <td>1</td>\n",
       "      <td>1</td>\n",
       "      <td>0</td>\n",
       "      <td>1</td>\n",
       "      <td>...</td>\n",
       "      <td>0</td>\n",
       "      <td>0</td>\n",
       "      <td>0</td>\n",
       "      <td>0</td>\n",
       "      <td>0</td>\n",
       "      <td>0</td>\n",
       "      <td>0</td>\n",
       "      <td>0</td>\n",
       "      <td>0</td>\n",
       "      <td>0</td>\n",
       "    </tr>\n",
       "  </tbody>\n",
       "</table>\n",
       "<p>6 rows × 24 columns</p>\n",
       "</div>"
      ],
      "text/plain": [
       "                                title  n_tokens  n_types  n_plants  \\\n",
       "1                    the garden party      5564     1377         8   \n",
       "2   the daughters of the late colonel      7283     1529         0   \n",
       "4                      the young girl      2275      762         5   \n",
       "6                  marriage a la mode      3921     1162         5   \n",
       "9                      her first ball      2631      865         3   \n",
       "13                    an ideal family      2521      847         3   \n",
       "\n",
       "    n_mentions  tangerine  cabbage  hydrangea  canna  hyacinth  ...  sloe  \\\n",
       "1           25          0        1          0      2         0  ...     0   \n",
       "2            0          0        0          0      0         0  ...     0   \n",
       "4            9          2        0          0      0         0  ...     0   \n",
       "6           16          0        0          0      0         0  ...     1   \n",
       "9            5          0        0          0      0         0  ...     0   \n",
       "13           3          0        1          1      0         1  ...     0   \n",
       "\n",
       "    lavender  pineapple  petunia  azalea  tuberose  chestnut  ginger  olive  \\\n",
       "1          2          0        0       0         0         0       0      2   \n",
       "2          0          0        0       0         0         0       0      0   \n",
       "4          0          1        0       0         0         1       3      0   \n",
       "6          0          6        2       0         0         0       0      0   \n",
       "9          0          0        0       3         1         0       0      0   \n",
       "13         0          0        0       0         0         0       0      0   \n",
       "\n",
       "    lily  \n",
       "1     10  \n",
       "2      0  \n",
       "4      0  \n",
       "6      0  \n",
       "9      0  \n",
       "13     0  \n",
       "\n",
       "[6 rows x 24 columns]"
      ]
     },
     "execution_count": 41,
     "metadata": {},
     "output_type": "execute_result"
    }
   ],
   "source": [
    "pdf_r.loc[:, (pdf_r != 0).any(axis=0)]"
   ]
  },
  {
   "cell_type": "markdown",
   "metadata": {},
   "source": [
    "## Plant concordances "
   ]
  },
  {
   "cell_type": "code",
   "execution_count": 42,
   "metadata": {
    "scrolled": true
   },
   "outputs": [],
   "source": [
    "# columns of plant dataframe that are actually plants \n",
    "flower_cols = [c for c in pdf_r.columns if not re.findall(r\"n(?=\\_)\", c) and c != \"title\"]"
   ]
  },
  {
   "cell_type": "code",
   "execution_count": 43,
   "metadata": {},
   "outputs": [],
   "source": [
    "def plant_concordance(title):\n",
    "    t = title\n",
    "    tokens = tokens_d.get(t)\n",
    "    text = nltk.Text(tokens)\n",
    "    index = pdf_r.loc[pdf_r.title.isin([t])].index[0]\n",
    "    \n",
    "#     print(f\"Concordances for '{toc_d.get(t)}': \")\n",
    "#     print(\"\\n\")\n",
    "    \n",
    "    concordances = plants_d.get(t)\n",
    "    #print(concordances)\n",
    "    for c in concordances:\n",
    "        caps = \"\".join([l.upper() for l in c])\n",
    "        print(f\"Where the (plant) word '{caps}' appears in '{toc_d.get(t)}': \")\n",
    "        text.concordance(c)\n",
    "        print(\"\\n\")"
   ]
  },
  {
   "cell_type": "code",
   "execution_count": 44,
   "metadata": {},
   "outputs": [
    {
     "name": "stdout",
     "output_type": "stream",
     "text": [
      "Where the (plant) word 'CABBAGE' appears in 'An Ideal Family': \n",
      "Displaying 1 of 1 matches:\n",
      "opped dead under a group of ancient cabbage palms outside the Government buildi\n",
      "\n",
      "\n",
      "Where the (plant) word 'HYACINTHS' appears in 'An Ideal Family': \n",
      "Displaying 1 of 1 matches:\n",
      "floating outwards its blue jars of hyacinths on the broad sills On either side \n",
      "\n",
      "\n",
      "Where the (plant) word 'HYDRANGEAS' appears in 'An Ideal Family': \n",
      "Displaying 1 of 1 matches:\n",
      " side of the carriage porch their hydrangeas famous in the town were coming in\n",
      "\n",
      "\n"
     ]
    }
   ],
   "source": [
    "# demo \n",
    "plant_concordance(\"an ideal family\")"
   ]
  },
  {
   "cell_type": "markdown",
   "metadata": {},
   "source": [
    "At a glance, these plant dispersion plots are surprisingly sparse. In fact, there are no mentions of plants at all in \"The Daughters of the Late Colonel.\" Of the remaining stories, \"An Ideal Family\" was most reserved with only 3 types of plants, each mentioned one time each. On the other hand, \"The Garden Party\" had the most types of plants and the most mentions of plants, clocking in 8 and 25, respectively.  \n",
    " \n",
    "It’s interesting to observe graphically exactly how rare mentions of plants are. In a way, the execution of these plant mentions is quite Modernist -- the few details that are underlined by authors emerge quite distinctly not only in the mind of the characters, but also of the reader’s. This effect is particularly visible in “An Ideal Family:” The three plant mentions are of hyacinths, hydrangeas, and cabbages. By looking at the concordances, I identify several important details: Firstly, “cabbage” actually refers to the “ancient cabbage palms outside the Government buildings” Mr. Neave stops under while musing about the absurdity of “Enjoying himself!”. My WordNet-Wikipedia approach correctly identified this token as a plant but somewhat incorrectly identified which token exactly was the plant of interest. Secondly, there are hints to what color the hyacinths are: The full quote is “\\[Mr. Neave\\] faced the big white-painted house, with its wide-open windows, its tulle curtains floating outwards, its blue jars of hyacinths on the broad sills.” This particular detail is important because Victorian floriography often assigned different means to the same flower based on shade. For example, the Greeks and consequently, the Victorians took red roses to symbolize romantic love because of the myth that all roses were white until Aphrodite’s mortal lover Adonis’ bled to death on them, staining them red forever. White roses, however, maintained their symbolism as signifiers of purity and innocence.  \n",
    " \n",
    "Investigating the floriographic meanings behind palms, hyacinths, and hydrangeas yield additional insight into Mr. Neave. The appearance of palms, although not exactly a bouquet mainstay and therefore unlikely to be found in any flower dictionary, likely alludes to Palm Sunday, the day that marks Jesus’ triumphant return to Jerusalem and the beginning of Holy Week. According to Biblical myth, as Jesus approaches Jerusalem, he looks over the city and weeps (Luke 19:41), which foretells the coming Passion and the suffering caused by the eventual destruction of Herod’s Temple. These events directly parallel Mr. Neave’s internal turmoil: He is, by all appearances, a successful and victorious man returning to his home after a fulfilling and moral life. However, his journey home, though outwardly triumphant, forebodes unhappiness and upheaval.  \n",
    " \n",
    "Mr. Neave then walks home and considers his home as it appears to his viewpoint on the street. The blue hyacinths he sees while gazing at his own home as an outsider represent constancy. In Greek mythology, the hyacinth first bloomed from the spilled blood of Hyacinthus (Encyclopedia Britannica, _Hyacinthus_ ), who was Apollo’s lover and accidentally killed. Apollo vowed to always remember Hyacinthus in his lyre music, and blue hyacinths thus represented his unwavering love and loyalty. In the same way, Mr. Neave has built his home up through constancy -- the invariable repetition of going to work every day, walking past the palms and up the hill to his house. Constancy has served Mr. Neave well and is what Mr. Neave craves, but it’s also precisely what he’ll be denied as he ages and his children demand he stop the routines that have sustained the family.  \n",
    " \n",
    "Alongside the blue hyacinths in the windowsill of the Neave house are hydrangeas planted in the front garden. In Victorian times, hydrangea symbolized vanity and heartlessness because of the plant’s tendency to produce many flowers but very few seeds. Men accused women who rejected their romantic advances of frigidity by sending hydrangeas, and it was believed that women who grew hydrangeas would remain unmarried. This floriographic meaning is uncannily clear in “An Ideal Family”: Mr. Neave’s daughter “could have married anybody. But they had too good a time at home.” In fact, the whole Neave family embodies the vanity symbolized by hydrangeas: All superficial evidence points to their appearance as the eponymous ideal family, but underneath that veneer lay few seeds of true satisfaction.   \n",
    " \n",
    "Finally, a plant that was not successfully identified by my WordNet-Wikipedia approach is the passion-vine. It droops “sorrowful, mournful, as though it understood” around Mr. Neave’s neck as he imagines the face of his wife as a young girl. The passion-vine was named for the Passion of Christ in the 16th century by Roman Catholic priests after its transport from the New World because of its flowers’ unusual shape (Stokes). The passion-vine’s flower has five petals and five petal-like sepals, which represented the ten apostles who remained faithful to Jesus throughout the Passion, and the circle formed by the flower’s hairlike rays represented the crown of thorns Jesus wore on the cross. In fact, the etymological origin of the word “passion” is the Latin verb “patior,” which means to suffer, bear, and endure -- exactly what Mr. Neave is going to have to do. Additionally, the Biblical Passion of Christ begins with his triumphal entry into Jerusalem, or the exact event to which the first plant mention in “An Ideal Family” alluded.   \n",
    "\n",
    "Use computationally-aided close reading of the plants mentioned \"An Ideal Family\" reveals an interpretation of the story as a floriographically-concealed Christ narrative.  Instead of the conventional Christ figures, who perform miracles, fight for justice, or otherwise display divine qualities, Mr. Neave is a henpecked man past the prime of his life. Mansfield, in choosing to highlight palms, hyacinths, hydrangeas, and passionflower vines, paints the picture of a man who anticipates having to endure great resentment until his death. Hardly ideal, if you ask me."
   ]
  },
  {
   "cell_type": "markdown",
   "metadata": {},
   "source": [
    "## Figure 2. Color dispersion plots"
   ]
  },
  {
   "cell_type": "code",
   "execution_count": 45,
   "metadata": {},
   "outputs": [],
   "source": [
    "# A FUNCTION THAT GRAPHS DISPERSION PLOTS FOR COLORS \n",
    "def color_dispersion_plot(title, fig_num):\n",
    "    # title is the sthort story to graph \n",
    "    # returns a dispersion plot of colors\n",
    "    \n",
    "    %matplotlib inline\n",
    "    \n",
    "    story = stories_d.get(title)\n",
    "    tokens = tokens_d.get(title)\n",
    "    lemmas = lemmas_d.get(title)\n",
    "    lemmas = [l.lower() for l in lemmas]\n",
    "    text = nltk.Text(lemmas)\n",
    "    \n",
    "    \n",
    "    # unique color-tokens that appear in story \n",
    "    colors_t = list(set(list(colors_d.get(title))))\n",
    "    # unique color-lemmas that appear in story \n",
    "    colors_l = []\n",
    "    for c in colors_t:\n",
    "        colors_l.append(lemmatizer.lemmatize(c))\n",
    "    colors_l = list(set(list(colors_l)))\n",
    "    #print(colors_l)\n",
    "    \n",
    "    # find the corresponding mpl color to plot with according to the color lemma named \n",
    "    graph_colors = {}\n",
    "    for l in colors_l:\n",
    "        if l == \"blackness\": # account for failure to lemmatize\n",
    "            graph_colors[l] = \"black\"\n",
    "        elif l == \"whiteness\": # account for failure to lemmatize\n",
    "            graph_colors[l] = \"gray\" # so you can still see a dot lol\n",
    "        elif l == \"yellow\": # readability\n",
    "            graph_colors[l] = \"gold\" \n",
    "        elif l == \"amber\": # mpl does not have an amber color\n",
    "            graph_colors[l] = \"darkgoldenrod\"\n",
    "        elif l == \"scarlet\": # mpl does not have an scarlet color\n",
    "            graph_colors[l] = \"firebrick\"\n",
    "        elif l in mpl_colors: \n",
    "            graph_colors[l] = l\n",
    "    #print(graph_colors)\n",
    "    \n",
    "    # creating graph \n",
    "    # creating points to mark \n",
    "    points = [(x,y,graph_colors.get(colors_l[y])) for x in np.arange(len(lemmas)) \n",
    "              for y in np.arange(len(colors_l)) if lemmas[x] == colors_l[y]]\n",
    "    if points:\n",
    "        x,y,c = zip(*points)\n",
    "    else: \n",
    "        x = y= ()\n",
    "    \n",
    "    for i in np.arange(len(x)):\n",
    "        plt.plot([x[i]], [y[i]], marker = \"o\", c = c[i], linewidth = 3)\n",
    "    #plt.plot(x, y, \"rx\", scalex=.1, color = \"blue\", c = \"g\")\n",
    "    plt.yticks(range(len(colors_l)), colors_l, color=\"black\")\n",
    "    plt.ylim(-1, len(colors_l))\n",
    "    plt.xlim(-5, len(tokens))\n",
    "    \n",
    "    #title \n",
    "    print_title = toc_d.get(title) # so it's not all boring and lowercase, but correctly formatted\n",
    "    letter = string.ascii_lowercase[fig_num]\n",
    "    \n",
    "    plt.title(f\"Figure 2{letter}. '{print_title}' Color Dispersion Plot\", loc = \"left\")\n",
    "    plt.xlabel(\"token position\")\n",
    "    plt.show()\n",
    "    "
   ]
  },
  {
   "cell_type": "code",
   "execution_count": 46,
   "metadata": {
    "scrolled": false
   },
   "outputs": [
    {
     "data": {
      "image/png": "[encoded data removed]",
      "text/plain": [
       "<Figure size 432x288 with 1 Axes>"
      ]
     },
     "metadata": {
      "needs_background": "light"
     },
     "output_type": "display_data"
    },
    {
     "data": {
      "image/png": "[encoded data removed]",
      "text/plain": [
       "<Figure size 432x288 with 1 Axes>"
      ]
     },
     "metadata": {
      "needs_background": "light"
     },
     "output_type": "display_data"
    },
    {
     "data": {
      "image/png": "[encoded data removed]",
      "text/plain": [
       "<Figure size 432x288 with 1 Axes>"
      ]
     },
     "metadata": {
      "needs_background": "light"
     },
     "output_type": "display_data"
    },
    {
     "data": {
      "image/png": "[encoded data removed]",
      "text/plain": [
       "<Figure size 432x288 with 1 Axes>"
      ]
     },
     "metadata": {
      "needs_background": "light"
     },
     "output_type": "display_data"
    },
    {
     "data": {
      "image/png": "[encoded data removed]",
      "text/plain": [
       "<Figure size 432x288 with 1 Axes>"
      ]
     },
     "metadata": {
      "needs_background": "light"
     },
     "output_type": "display_data"
    },
    {
     "data": {
      "image/png": "[encoded data removed]",
      "text/plain": [
       "<Figure size 432x288 with 1 Axes>"
      ]
     },
     "metadata": {
      "needs_background": "light"
     },
     "output_type": "display_data"
    }
   ],
   "source": [
    "for i in np.arange(len(read)):\n",
    "    t = read[i]\n",
    "    color_dispersion_plot(t, i)"
   ]
  },
  {
   "cell_type": "markdown",
   "metadata": {},
   "source": [
    "## Color concordances "
   ]
  },
  {
   "cell_type": "code",
   "execution_count": 47,
   "metadata": {
    "scrolled": true
   },
   "outputs": [],
   "source": [
    "# columns of plant dataframe that are actually plants \n",
    "color_cols = [c for c in cdf_r.columns if not re.findall(r\"n(?=\\_)\", c) and c != \"title\"]"
   ]
  },
  {
   "cell_type": "code",
   "execution_count": 48,
   "metadata": {},
   "outputs": [],
   "source": [
    "def color_concordance(title):\n",
    "    t = title\n",
    "    tokens = tokens_d.get(t)\n",
    "    text = nltk.Text(tokens)\n",
    "    index = cdf_r.loc[cdf_r.title.isin([t])].index[0]\n",
    "    \n",
    "#     print(f\"Concordances for '{toc_d.get(t)}': \")\n",
    "#     print(\"\\n\")\n",
    "    \n",
    "    concordances = list(set(colors_d.get(t)))\n",
    "    #print(concordances)\n",
    "    for c in concordances:\n",
    "        caps = \"\".join([l.upper() for l in c])\n",
    "        print(f\"Where the (color) word '{caps}' appears in '{toc_d.get(t)}': \")\n",
    "        text.concordance(c)\n",
    "        print(\"\\n\")"
   ]
  },
  {
   "cell_type": "code",
   "execution_count": 49,
   "metadata": {
    "scrolled": false
   },
   "outputs": [
    {
     "name": "stdout",
     "output_type": "stream",
     "text": [
      "Where the (color) word 'BLACK' appears in 'The Daughters of the Late Colonel': \n",
      "Displaying 10 of 10 matches:\n",
      "have our dressing gowns dyed as well Black almost shrieked Josephine Well what \n",
      " seem quite sincere in a way to wear black out of doors and when we re fully dr\n",
      "nite green ones which went with hers Black Two black dressing gowns and two pai\n",
      " ones which went with hers Black Two black dressing gowns and two pairs of blac\n",
      "lack dressing gowns and two pairs of black woolly slippers creeping off to the \n",
      "rs creeping off to the bathroom like black cats I don t think it s absolutely n\n",
      "said Mr Farolles got up and took his black straw hat from the round table And a\n",
      " Only runners Both paused to watch a black man in white linen drawers running t\n",
      "aper parcel in his hands Josephine s black man was tiny he scurried along glist\n",
      "rings shaped like tiny pagodas and a black feather boa Why did the photographs \n",
      "\n",
      "\n",
      "Where the (color) word 'BLACKNESS' appears in 'The Daughters of the Late Colonel': \n",
      "Displaying 1 of 1 matches:\n",
      "tantia pale as a lemon in all that blackness said in a frightened whisper Done \n",
      "\n",
      "\n",
      "Where the (color) word 'WHITENESS' appears in 'The Daughters of the Late Colonel': \n",
      "Displaying 1 of 1 matches:\n",
      "ness which made it so awful Or the whiteness which Everything was covered The b\n",
      "\n",
      "\n",
      "Where the (color) word 'RED' appears in 'The Daughters of the Late Colonel': \n",
      "Displaying 4 of 4 matches:\n",
      "l might Josephine thought of her dark red slippers which matched her dressing g\n",
      "ng another helping Josephine got very red when this happened and she fastened h\n",
      "nish brims Josephine curved her small red hands round the cup Constantia sat up\n",
      " there fell a square of sunlight pale red it came and went and came and stayed \n",
      "\n",
      "\n",
      "Where the (color) word 'BROWN' appears in 'The Daughters of the Late Colonel': \n",
      "Displaying 1 of 1 matches:\n",
      "le fields for dear life with a large brown paper parcel in his hands Josephine \n",
      "\n",
      "\n",
      "Where the (color) word 'PURPLE' appears in 'The Daughters of the Late Colonel': \n",
      "Displaying 3 of 3 matches:\n",
      " he had Oh far from it He lay there purple a dark angry purple in the face and\n",
      "it He lay there purple a dark angry purple in the face and never even looked a\n",
      "ther Pinner curving his hand like a purple meringue shell over one ear Josephi\n",
      "\n",
      "\n",
      "Where the (color) word 'BLUE' appears in 'The Daughters of the Late Colonel': \n",
      "Displaying 1 of 1 matches:\n",
      "of them even to soak up a very light blue tear with an edge of blotting paper \n",
      "\n",
      "\n",
      "Where the (color) word 'SCARLET' appears in 'The Daughters of the Late Colonel': \n",
      "Displaying 1 of 1 matches:\n",
      "idn t only beam Aunt Josephine went scarlet with pleasure Auntie Con gave a dee\n",
      "\n",
      "\n",
      "Where the (color) word 'GREEN' appears in 'The Daughters of the Late Colonel': \n",
      "Displaying 1 of 1 matches:\n",
      "of Constantia s favourite indefinite green ones which went with hers Black Two \n",
      "\n",
      "\n",
      "Where the (color) word 'YELLOW' appears in 'The Daughters of the Late Colonel': \n",
      "Displaying 1 of 1 matches:\n",
      " his lap there lay a beautiful pale yellow silk handkerchief It s Cyril father\n",
      "\n",
      "\n"
     ]
    }
   ],
   "source": [
    "color_concordance(\"the daughters of the late colonel\")"
   ]
  },
  {
   "cell_type": "markdown",
   "metadata": {},
   "source": [
    "From observation of the color dispersion plots, Mansfield uses distinct color palettes between each story. For instance, “The Garden Party” and “The Daughters of the Late Colonel” both use color generously -- they name 8 and 10 distinct colors and mention colors 15 and 21 times, respectively. Although there are numerous colors mentioned in both stories, the composition of each works' color palettes is quite distinct: “The Garden Party” is relatively riotous in its use of the complete visual spectrum, whereas “The Daughters of the Late Colonel,” is a much more muted story.  \n",
    "\n",
    "There are 11 mentions of black or blackness to “The Garden Party’s” 3 mentions, even though death informs both stories. There is only one mention of blue and green each in “The Daughters of the Late Colonel,” which characterize the story as taking place firmly indoors. In fact, the hues of “The Daughters of the Late Colonel” is not joyful but unsettling: Four instances of red or scarlet refer to embarrassment, chapped skin, “a square of sunlight” on Indian carpet (which could represent how restricted Jug and Con’s lives have become, given that even the sun is confined to its square), and Cyril’s observation that his “Aunt Josephine went scarlet with pleasure.” The three instances of purple all refer to anger and ill health -- the late Colonel lays on his deathbed “purple, a dark angry purple in the face,” and his father, Grandfather Pinner, has a hand like a “purple meringue-shell.” The remaining instances, one each of blue, red, green, and yellow refer to sorrow or items beyond Jug and Con’s reach. Jug cries “light-blue tear\\[s\\]” writing thank-you letters to people who have written with condolences, while Jug’s red slippers, Con’s green slippers, and Grandfather Pinner’s “beautiful pale yellow silk handkerchief” are all status items prohibited to the girls because of their social status as grieving and unmarried women.   \n",
    "\n",
    "Black grief and mourning, red emotional volatility, and purple anger speckled with colorful hints of the life Jug and Con cannot have form the visual backdrop of the lives of the daughter of the late Colonel.  \n"
   ]
  },
  {
   "cell_type": "markdown",
   "metadata": {},
   "source": [
    "# Conclusion \n",
    "\n",
    "Katherine Mansfield incorporated Victorian floriography and Impressionist visual art into her work to add meaning. Mentions of certain plants and colors allowed Mansfield to allude to literary tradition or more thoroughly illustrate her characters' emotional landscapes. \n",
    "\n",
    "In \"An Ideal Family,\" Mansfield conceals an end-of-life Christ allegory through her use of Biblical and Victorian flora. She draws parallels between the aging Mr. Neave and Jesus Christ in the week before his crucifixion. In \"The Daughters of the Late Colonel,\" Mansfield uses color to demonstrate how deprived and restricted Josephine and Constantia are. The story is dominated by muted, dark shades such as black, red, and purple that connote strong negative emotions, and the brief glimpses of color that do emerge are associated with experiences the daughters, as mourning spinsters, are barred from. \n"
   ]
  },
  {
   "cell_type": "markdown",
   "metadata": {},
   "source": [
    "# Works Cited \n",
    "NOTE that all quotes that are not explicitly cited are from Katherine Mansfield's _The Garden Party and Other Stories._ There are no page numbers because I never bought a paper copy. \n",
    "\n",
    "\n",
    "Forward, Stephanie. \"An Introduction to Katherine Mansfield's Short Stories.\" _British Library._ May 25, 2016. https://www.bl.uk/20th-century-literature/articles/an-introduction-to-katherine-mansfields-short-stories\n",
    "\n",
    "\"Hyacinthus.\" _Encyclopedia Britannica_., November 08, 2007. https://www.britannica.com/topic/Hyacinthus  \n",
    "\n",
    "\n",
    "\n",
    "\"Katherine Mansfield.\" _Encyclopedia Britannica_., January 05, 2020. https://www.britannica.com/biography/Katherine-Mansfield  \n",
    "\n",
    "\"Plant Symbolism.\" _Wikipedia._ https://en.wikipedia.org/wiki/Plant_symbolism  \n",
    "\n",
    "Saker, Nicola. \"A Bouquet for Katherine Mansfield.\" _Katherine Mansfield House and Garden._ September 21, 2015. https://www.katherinemansfield.com/article/a-bouquet-for-mansfield  \n",
    "\n",
    "Stokes, Jr., John. \"The Passion Flower.\" _University of Dayton._ 1996. https://udayton.edu/imri/mary/p/passion-flower.php#:~:text=The%20Passion%20Flower%20with%20its,crowning%20with%20thorns%20and%20crucifixion."
   ]
  }
 ],
 "metadata": {
  "kernelspec": {
   "display_name": "Python 3",
   "language": "python",
   "name": "python3"
  },
  "language_info": {
   "codemirror_mode": {
    "name": "ipython",
    "version": 3
   },
   "file_extension": ".py",
   "mimetype": "text/x-python",
   "name": "python",
   "nbconvert_exporter": "python",
   "pygments_lexer": "ipython3",
   "version": "3.7.6"
  }
 },
 "nbformat": 4,
 "nbformat_minor": 4
}
