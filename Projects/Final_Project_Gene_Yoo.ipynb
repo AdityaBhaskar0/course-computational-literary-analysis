{
 "cells": [
  {
   "cell_type": "markdown",
   "metadata": {},
   "source": [
    "# Exploring Guilt in The Moonstone\n",
    "\n",
    "Gene Yoo\n",
    "\n",
    "Aug 15, 2020\n",
    "\n",
    "Introduction to Computational Literary Analysis\n",
    "\n",
    "University of California, Berkeley\n",
    "\n",
    "Instructor: Jonathan Reeve"
   ]
  },
  {
   "cell_type": "markdown",
   "metadata": {},
   "source": [
    "# Introduction\n",
    "Wilkie Collins' *The Moonstone* <sup id=\"a1\">[1](#f1)</sup> is a character-dense mystery novel, featuring several narrators throughout the text. While there are many characters introduced in the novel, only 7 narrate: Gabriel Betteredge, Drusilla Clack, Mr. Bruff, Franklin Blake, Ezra Jennings, Sergeant Cuff and Dr. Candy.\n",
    "\n",
    "Because these characters narrate, we have access to both their dialogues and monologues. For the purpose of this analysis, we will be focusing on the monologues. These monologues can provide us insight to the internal thoughts and feelings for the respective narrators. With this, we have access to a sizeable sample of the thoughts of these key characters.\n",
    "\n",
    "We use a computational approach using Sentence Comparison in order to analyze one emotion in particular -- Guilt -- as this is one of the common themes throughout uncovering the mystery of The Moonstone. We derive scores from Sentence Comparison as a proxy to Guilt, and compare the scores among each of the narrators. Finally, we use these scores to describe the behavior and thoughtprocess of the characters in the text."
   ]
  },
  {
   "cell_type": "code",
   "execution_count": 1,
   "metadata": {},
   "outputs": [],
   "source": [
    "import pprint\n",
    "import json\n",
    "from operator import itemgetter\n",
    "import os\n",
    "import re\n",
    "import string\n",
    "\n",
    "import matplotlib.pyplot as plt\n",
    "\n",
    "import nltk\n",
    "from nltk.corpus import stopwords\n",
    "\n",
    "import numpy as np\n",
    "import pandas as pd \n",
    "\n",
    "from scipy import spatial\n",
    "\n",
    "from sklearn.decomposition import LatentDirichletAllocation\n",
    "from sklearn.feature_extraction.text import CountVectorizer\n",
    "\n",
    "import spacy\n",
    "import statistics"
   ]
  },
  {
   "cell_type": "code",
   "execution_count": 2,
   "metadata": {},
   "outputs": [],
   "source": [
    "pp = pprint.PrettyPrinter(indent=4, depth=20)\n",
    "nlp = spacy.load('en_core_web_lg')"
   ]
  },
  {
   "cell_type": "markdown",
   "metadata": {},
   "source": [
    "# Approach\n",
    "\n",
    "In order to obtain viable candiates for Sentence Comparison, we will have to do the following steps:\n",
    "1. Extract the text from *The Moonstone*\n",
    "2. Separate the text into the sections corresponding to each of the narrators to get:\n",
    "   ```\n",
    "   {$narrator : [sentence1, ..., sentenceMax]}\n",
    "   ```\n",
    "\n",
    "3. Filter out each section for monologues (i.e. sentences without quotation marks) to get:\n",
    "   ```\n",
    "   {$narrator : [monologueSentence1, ..., monologueSentenceMax]}\n",
    "   ```\n",
    "\n",
    "4. Implement a strategy for Sentence Comparison\n",
    "\n",
    "5. Compare the monologue sentences against seed sentences related to Guilt, to get:\n",
    "    ```\n",
    "    {$narrator : [guiltScore1, ... , guiltScoreMax]}\n",
    "    ```\n",
    "\n",
    "This leaves us with a framework to extract any emotion for the characters."
   ]
  },
  {
   "cell_type": "markdown",
   "metadata": {},
   "source": [
    "### 1 - Extracting the Text"
   ]
  },
  {
   "cell_type": "code",
   "execution_count": 3,
   "metadata": {},
   "outputs": [],
   "source": [
    "moonstone = open('../Readings/content/texts/moonstone.md', encoding=\"utf8\").read()\n",
    "moonstoneParts = moonstone.split('\\n## ')\n",
    "keys_expanded = ['clack', 'bruff', 'blake', 'jennings', 'blake2', 'cuff', 'candy', 'betteredge2']\n",
    "keys = ['betteredge', 'clack', 'bruff', 'blake', 'jennings', 'cuff', 'candy']"
   ]
  },
  {
   "cell_type": "markdown",
   "metadata": {},
   "source": [
    "### 2 - Sectioning for each Narrator"
   ]
  },
  {
   "cell_type": "code",
   "execution_count": 4,
   "metadata": {},
   "outputs": [],
   "source": [
    "def getNarrator(narrator):\n",
    "    if 'betteredge' in narrator:\n",
    "        return 'betteredge'\n",
    "    elif 'blake' in narrator:\n",
    "        return 'blake'\n",
    "    return narrator\n",
    "\n",
    "marker = 'Chapter I'\n",
    "loc = moonstoneParts[1].find(marker)\n",
    "\n",
    "betteredge = moonstoneParts[1][loc + len(marker):]\n",
    "betteredge = re.sub(r'Chapter \\w', '', betteredge)\n",
    "betteredgeSents = nltk.sent_tokenize(betteredge)\n",
    "\n",
    "def constructDict():\n",
    "    narratorDict = {'betteredge' : betteredgeSents}\n",
    "    fileName = \"narratorDict.json\"\n",
    "    if os.path.exists(fileName):\n",
    "        with open(fileName, \"r\") as read_file:\n",
    "            narratorDict = json.load(read_file)\n",
    "            return narratorDict\n",
    "\n",
    "    for narrator, text in zip(keys_expanded, moonstoneParts[3:]):\n",
    "        loc = text.find(marker)\n",
    "        part = text[len(marker) + loc:] if loc > 0 else text\n",
    "        part = re.sub(r'Chapter \\w', '', part)\n",
    "        sents = narratorDict.get(getNarrator(narrator), [])\n",
    "        narratorDict[getNarrator(narrator)] = sents + nltk.sent_tokenize(part)\n",
    "    json.dump(narratorDict, open( \"narratorDict.json\", 'w' ))\n",
    "    return narratorDict\n",
    "\n",
    "narratorDict = constructDict()"
   ]
  },
  {
   "cell_type": "markdown",
   "metadata": {},
   "source": [
    "### 3 - Filtering for Monologue Sentences\n",
    "\n",
    "As expected, Betteredge has the most monologue sentences, followed by Blake. This is intuitive as they have the most number of lines, and both narrate twice.\n",
    "Next, is Clack, followed by the rest who have relatively smaller number of monologue lines. Not surprisingly, the number of monologue sentences is proportional to the number of lines the characters' section had. We will remember to account for this by normalizing on the number of lines.\n",
    "\n",
    "This step is a work in progress, as it is not completely accurate. It relies on a naive assumption, which we will speak to more in the Results section. A more accurate approach would be to scan for a prior sentence with a right quote on the left side, and vice versa, but we use the naive approach for this examination.\n"
   ]
  },
  {
   "cell_type": "code",
   "execution_count": 5,
   "metadata": {},
   "outputs": [
    {
     "name": "stdout",
     "output_type": "stream",
     "text": [
      "[   'franklin went on',\n",
      "    'the memories of innocent people may suffer hereafter for want of a record '\n",
      "    'of the facts to which those who come after us can appeal',\n",
      "    'there can be no doubt that this strange family story of ours ought to be '\n",
      "    'told',\n",
      "    'but i failed to see what i myself had to do with it so far',\n",
      "    'starting from these plain facts the idea is that we should all write the '\n",
      "    'story of the moonstone in far as our own personal experience extends and '\n",
      "    'no farther',\n",
      "    'we must begin by showing how the diamond first fell into the hands of my '\n",
      "    'uncle herncastle when he was serving in india fifty years since',\n",
      "    'this prefatory narrative i have already got by me in the form of an old '\n",
      "    'family paper which relates the necessary particulars on the authority of '\n",
      "    'an',\n",
      "    'the next thing to do is to tell how the diamond found its way into my '\n",
      "    'aunt s house in yorkshire two years ago and how it came to be lost in '\n",
      "    'little more than twelve hours afterwards',\n",
      "    'nobody knows as much as you do betteredge about what went on in the house '\n",
      "    'at that time',\n",
      "    'if you are curious to know what course i took under the circumstances i '\n",
      "    'beg to inform you that i did what you would probably have done in my '\n",
      "    'place']\n"
     ]
    }
   ],
   "source": [
    "def isMonologue(text):\n",
    "    leftQuote = u'\\u201c'\n",
    "    rightQuote = u'\\u201d'\n",
    "    isDialogue = (leftQuote in text or rightQuote in text)\n",
    "    return not isDialogue\n",
    "\n",
    "monologueDict = {}\n",
    "def isClean(word):\n",
    "    return word not in stopwords.words() and word.isalpha()    \n",
    "\n",
    "def constructMonologueDict():\n",
    "     # very computationally intensive since it goes word by word, so saving locally\n",
    "    fileName = \"monologueDict.json\"\n",
    "    if os.path.exists(fileName):\n",
    "        with open(fileName, \"r\") as read_file:\n",
    "            data = json.load(read_file)\n",
    "            return data\n",
    "    # doesn't exist locally, create a new clean monologue dict with no stop words\n",
    "    newData = {}\n",
    "    for (narrator, sentences) in narratorDict.items():\n",
    "        cleanedSents = []\n",
    "        for sent in sentences:\n",
    "            if isMonologue(sent):\n",
    "                cleanedSent = ' '.join([word.lower() for word in nltk.word_tokenize(sent) if word.isalpha()])\n",
    "                cleanedSents.append(cleanedSent)\n",
    "        newData[narrator] = cleanedSents\n",
    "    json.dump(newData, open(fileName, 'w'))\n",
    "    return newData\n",
    "\n",
    "monologueDict = constructMonologueDict()\n",
    "pp.pprint(monologueDict['betteredge'][:10])"
   ]
  },
  {
   "cell_type": "code",
   "execution_count": 6,
   "metadata": {},
   "outputs": [
    {
     "name": "stdout",
     "output_type": "stream",
     "text": [
      "betteredge: 2785 monologue sentences\n",
      "clack: 1234 monologue sentences\n",
      "bruff: 344 monologue sentences\n",
      "blake: 1805 monologue sentences\n",
      "jennings: 634 monologue sentences\n",
      "cuff: 192 monologue sentences\n",
      "candy: 49 monologue sentences\n"
     ]
    },
    {
     "data": {
      "text/plain": [
       "[None, None, None, None, None, None, None]"
      ]
     },
     "execution_count": 6,
     "metadata": {},
     "output_type": "execute_result"
    }
   ],
   "source": [
    "[print(key + \": \" + str(len(monologueDict[key])) + \" monologue sentences\") for key in keys]"
   ]
  },
  {
   "cell_type": "markdown",
   "metadata": {},
   "source": [
    "We are left with a skewed mapping, where we see much higher counts of sentences for a few characters, with the opposite for others."
   ]
  },
  {
   "cell_type": "markdown",
   "metadata": {},
   "source": [
    "### 4 - Sentence Comparison \n",
    "\n",
    "We can compare sentences via Semantic Similarity derived from word embeddings. More specifically, we can extract and compare the feature vectors of each word and calculate the Cosine Similarity <sup id=\"a2\">[2](#f2)</sup> to approximate distance. For the purpose of this paper, we rely on spaCy <sup id=\"a3\">[3](#f3)</sup> and it's built in word embeddings in the 'en_core_web_lg' model. Alterative models can be trained, or downloaded via libraries such as Gensim <sup id=\"a4\">[4](#f4)</sup> implementing word2vec <sup id=\"a5\">[5](#f5)</sup>, however, after implementing this manually, we found that it was unnecessary for this proof-of-concept. A good exploration, however, would be to compare using different models as they have different feature vectors for each word.\n",
    "\n",
    "An important call out is that we filter for Stop Words, as they provide little to no semantic value. As a result of repeated non-trivial computations, we persist the derived dictionaries as JSON objects in order to speed up iterations. \n",
    "\n",
    "Ultimately, we are left with a method to compare 2 sentences against each other, and give it a \n",
    "```\n",
    "score ∈ [0.0, 1.0]\n",
    "```\n",
    "and when repeating this process for each of the sentences, we can get a list of scores."
   ]
  },
  {
   "cell_type": "code",
   "execution_count": 7,
   "metadata": {},
   "outputs": [],
   "source": [
    "def docStrippedStopWords(text):\n",
    "    return nlp(' '.join([str(t) for t in nlp(text) if not t.is_stop]))\n",
    "\n",
    "def getMostSimilarSentence(baseSentence, narratorKey, maxSents):\n",
    "    baseDoc = docStrippedStopWords(baseSentence)\n",
    "    monologueSents = monologueDict[narratorKey]\n",
    "    if len(monologueSents) > maxSents:\n",
    "        monologueSents = monologueSents[:maxSents]\n",
    "    mostSimilarSentence = monologueSents[0]\n",
    "    highestSimilarity = baseDoc.similarity(docStrippedStopWords(mostSimilarSentence))\n",
    "    for monologueSent in monologueSents:\n",
    "        similarity = baseDoc.similarity(docStrippedStopWords(monologueSent))\n",
    "        if similarity > highestSimilarity:\n",
    "            mostSimilarSentence = monologueSent\n",
    "            highestSimilarity = similarity\n",
    "    return (mostSimilarSentence, highestSimilarity)\n",
    "\n",
    "# returns list of (score, sentence) tuples for the narrator\n",
    "def scoreSimilarSentence(baseSentence, narratorKey, maxSents, shouldSort):\n",
    "    scoredSents = []\n",
    "    baseDoc = docStrippedStopWords(baseSentence)\n",
    "    sents = monologueDict[narratorKey]\n",
    "    if len(sents) > maxSents:\n",
    "        sents = sents[:maxSents]\n",
    "    for monologueSent in sents:\n",
    "        similarityScore = baseDoc.similarity(docStrippedStopWords(monologueSent))\n",
    "        scoredSents.append((monologueSent, similarityScore))\n",
    "    if shouldSort:\n",
    "        scoredSents.sort(key=itemgetter(1), reverse=True)\n",
    "    return scoredSents"
   ]
  },
  {
   "cell_type": "markdown",
   "metadata": {},
   "source": [
    "### 5 - Computing Guilt Scores\n",
    "\n",
    "We feed in sentences such as\n",
    "> i feel guilty about stealing\n",
    "\n",
    "and compare it against each of the monologue sentences. We can then compute the similarity score and assign each sentence with this score. The seed sentences we input are arbitrary --it could be worth exploring a better way to compare against the emotion (maybe just the word \"guilt\" itself, or related synoyms)."
   ]
  },
  {
   "cell_type": "code",
   "execution_count": 11,
   "metadata": {},
   "outputs": [
    {
     "name": "stderr",
     "output_type": "stream",
     "text": [
      "<ipython-input-7-063c37ebd959>:26: UserWarning: [W008] Evaluating Doc.similarity based on empty vectors.\n",
      "  similarityScore = baseDoc.similarity(docStrippedStopWords(monologueSent))\n"
     ]
    }
   ],
   "source": [
    "def saveSimilarityTupleDict(sentence, fileName):\n",
    "    similarityPairs = {}\n",
    "    if os.path.exists(fileName):\n",
    "        with open(fileName, \"rb\") as read_file:\n",
    "            return\n",
    "    for key in keys:\n",
    "        similarityPairs[key] = scoreSimilarSentence(sentence, narratorKey=key, maxSents=3000, shouldSort=True)\n",
    "    json.dump(similarityPairs, open(fileName, 'w'))\n",
    "\n",
    "def constructGuiltDicts(guiltSents): # Very computationally heavy, returns fileNames of saved guilt dicts\n",
    "    fileNames = [\"guilty\" + str(count) + \".json\" for count in range(1,len(guiltSents)+1)]\n",
    "    for sent, fileName  in zip(guiltySents, fileNames):\n",
    "        saveSimilarityTupleDict(sent, fileName)\n",
    "    return fileNames\n",
    "\n",
    "guiltySents = [\n",
    "    \"i feel guilty about stealing\",\n",
    "]\n",
    "fileNames = constructGuiltDicts(guiltySents)"
   ]
  },
  {
   "cell_type": "markdown",
   "metadata": {},
   "source": [
    "# Results\n",
    "\n",
    "With the aforementioned approach, we can see the guilt scores for each of the internal thoughts expressed by the narrators. In general, we see the Betteredge, Bruff, and Blake all have the most \"guilty\" sentences, as they all have average scores of >= 0.51. Not surprisingly, Candy seems to be on the opposite end.\n",
    "\n",
    "However, it is important to note that there are some inaccuracies, as simply assuming every sentence without quotes could not be part of a dialogue is a naive, incorrect assumption.\n",
    "An example of such accuracy is the sentence\n",
    "> If there is an article missing, there will be at least a presumption that it has got the paint-stain on it, and that it has been purposely made away with, yesterday or to-day, by the person owning it. (Sergeant)\n",
    "\n",
    "Because of this, at its current state, it might not be accurate to claim that these exclusively show the internal emotions (i.e. guilt) for the narrators, but rather their association with guilt, and interactions with other guilty characters. We can hope to come up with a more effective way to detect monologues, but in the meantime these can serve as a proxy for guilt."
   ]
  },
  {
   "cell_type": "code",
   "execution_count": 12,
   "metadata": {},
   "outputs": [
    {
     "data": {
      "text/html": [
       "<div>\n",
       "<style scoped>\n",
       "    .dataframe tbody tr th:only-of-type {\n",
       "        vertical-align: middle;\n",
       "    }\n",
       "\n",
       "    .dataframe tbody tr th {\n",
       "        vertical-align: top;\n",
       "    }\n",
       "\n",
       "    .dataframe thead th {\n",
       "        text-align: right;\n",
       "    }\n",
       "</style>\n",
       "<table border=\"1\" class=\"dataframe\">\n",
       "  <thead>\n",
       "    <tr style=\"text-align: right;\">\n",
       "      <th></th>\n",
       "      <th>sentence</th>\n",
       "      <th>guilt</th>\n",
       "      <th>bucket</th>\n",
       "      <th>narrator</th>\n",
       "    </tr>\n",
       "  </thead>\n",
       "  <tbody>\n",
       "    <tr>\n",
       "      <th>0</th>\n",
       "      <td>she had some guilty reason for going to the to...</td>\n",
       "      <td>0.833225</td>\n",
       "      <td>&lt;100%</td>\n",
       "      <td>betteredge</td>\n",
       "    </tr>\n",
       "    <tr>\n",
       "      <th>1</th>\n",
       "      <td>her stealing on me in that way was so strange ...</td>\n",
       "      <td>0.791348</td>\n",
       "      <td>&lt;80%</td>\n",
       "      <td>betteredge</td>\n",
       "    </tr>\n",
       "    <tr>\n",
       "      <th>2</th>\n",
       "      <td>nobody ever knew her to confess to it when the...</td>\n",
       "      <td>0.783085</td>\n",
       "      <td>&lt;80%</td>\n",
       "      <td>betteredge</td>\n",
       "    </tr>\n",
       "    <tr>\n",
       "      <th>3</th>\n",
       "      <td>if robbery for the purpose of gain was at the ...</td>\n",
       "      <td>0.751785</td>\n",
       "      <td>&lt;80%</td>\n",
       "      <td>betteredge</td>\n",
       "    </tr>\n",
       "    <tr>\n",
       "      <th>4</th>\n",
       "      <td>if there is an article missing there will be a...</td>\n",
       "      <td>0.748278</td>\n",
       "      <td>&lt;80%</td>\n",
       "      <td>betteredge</td>\n",
       "    </tr>\n",
       "    <tr>\n",
       "      <th>...</th>\n",
       "      <td>...</td>\n",
       "      <td>...</td>\n",
       "      <td>...</td>\n",
       "      <td>...</td>\n",
       "    </tr>\n",
       "    <tr>\n",
       "      <th>44</th>\n",
       "      <td>and the promise has been performed</td>\n",
       "      <td>0.364852</td>\n",
       "      <td>&lt;40%</td>\n",
       "      <td>candy</td>\n",
       "    </tr>\n",
       "    <tr>\n",
       "      <th>45</th>\n",
       "      <td>perhaps i have never been quite myself since m...</td>\n",
       "      <td>0.345340</td>\n",
       "      <td>&lt;40%</td>\n",
       "      <td>candy</td>\n",
       "    </tr>\n",
       "    <tr>\n",
       "      <th>46</th>\n",
       "      <td>there was his many locked volumes</td>\n",
       "      <td>0.312440</td>\n",
       "      <td>&lt;40%</td>\n",
       "      <td>candy</td>\n",
       "    </tr>\n",
       "    <tr>\n",
       "      <th>47</th>\n",
       "      <td>there was his unfinished book</td>\n",
       "      <td>0.291197</td>\n",
       "      <td>&lt;40%</td>\n",
       "      <td>candy</td>\n",
       "    </tr>\n",
       "    <tr>\n",
       "      <th>48</th>\n",
       "      <td>he maintained that resolution to the last</td>\n",
       "      <td>0.207886</td>\n",
       "      <td>&lt;40%</td>\n",
       "      <td>candy</td>\n",
       "    </tr>\n",
       "  </tbody>\n",
       "</table>\n",
       "<p>7043 rows × 4 columns</p>\n",
       "</div>"
      ],
      "text/plain": [
       "                                             sentence     guilt bucket  \\\n",
       "0   she had some guilty reason for going to the to...  0.833225  <100%   \n",
       "1   her stealing on me in that way was so strange ...  0.791348   <80%   \n",
       "2   nobody ever knew her to confess to it when the...  0.783085   <80%   \n",
       "3   if robbery for the purpose of gain was at the ...  0.751785   <80%   \n",
       "4   if there is an article missing there will be a...  0.748278   <80%   \n",
       "..                                                ...       ...    ...   \n",
       "44                 and the promise has been performed  0.364852   <40%   \n",
       "45  perhaps i have never been quite myself since m...  0.345340   <40%   \n",
       "46                  there was his many locked volumes  0.312440   <40%   \n",
       "47                      there was his unfinished book  0.291197   <40%   \n",
       "48          he maintained that resolution to the last  0.207886   <40%   \n",
       "\n",
       "      narrator  \n",
       "0   betteredge  \n",
       "1   betteredge  \n",
       "2   betteredge  \n",
       "3   betteredge  \n",
       "4   betteredge  \n",
       "..         ...  \n",
       "44       candy  \n",
       "45       candy  \n",
       "46       candy  \n",
       "47       candy  \n",
       "48       candy  \n",
       "\n",
       "[7043 rows x 4 columns]"
      ]
     },
     "execution_count": 12,
     "metadata": {},
     "output_type": "execute_result"
    }
   ],
   "source": [
    "def getGuiltDF(guiltyDict, key):    \n",
    "    scores = guiltyDict[key]\n",
    "    df = pd.DataFrame(data=scores, columns=[\"sentence\", \"guilt\"])\n",
    "    bins = np.array([0.0,0.2,0.4,0.6,0.8,1.0])\n",
    "    df[\"bucket\"] = pd.cut(df.guilt, bins, labels=[\"<20%\", \"<40%\", \"<60%\", \"<80%\", \"<100%\"])\n",
    "    df[\"narrator\"] = key\n",
    "    return df\n",
    "\n",
    "guiltyDict = {}\n",
    "with open(fileNames[0], \"r\") as read_file:\n",
    "    guiltyDict = json.load(read_file)\n",
    "\n",
    "guiltDF = [getGuiltDF(guiltyDict, key) for key in keys]\n",
    "guiltDF = pd.concat(guiltDF)\n",
    "guiltDF"
   ]
  },
  {
   "cell_type": "markdown",
   "metadata": {},
   "source": [
    "Some of the top sentences are intriguing. These tend to be related to Franklin Blake\n",
    "\n",
    "> Being well used to producing this effect on strangers, I did not hesitate a moment in saying what I wanted to say, before the lawyer found his way into Mr. Blake’s room.\n",
    "\n",
    ">  I left nothing unsaid that I could say–short of actually telling you that I knew you had committed the theft.\n",
    "\n",
    "\n",
    "\n"
   ]
  },
  {
   "cell_type": "markdown",
   "metadata": {},
   "source": [
    "### Buckets\n",
    "\n",
    "We created symmetric buckets to categorize each of the sentences, with respect to how \"guilty\" they were. Of the the 7000+ lines extracted from the text, we see that most of these fall in the < 60% bucket. There is only one instance of a <100% similarity -- which came from Betteredge's narration. But if you cross reference with the novel, you will actually see that this was part of a dialogue spoken by Franklin Blake; this is amusing as we find out that Franklin Blake was indeed the thief.\n",
    "\n",
    "Many of the <80% sentences came from Betteredge and Bruff's sections; this makes sense as they were more involved with the other characters in solving for the Mystery."
   ]
  },
  {
   "cell_type": "code",
   "execution_count": 13,
   "metadata": {},
   "outputs": [
    {
     "data": {
      "text/html": [
       "<div>\n",
       "<style scoped>\n",
       "    .dataframe tbody tr th:only-of-type {\n",
       "        vertical-align: middle;\n",
       "    }\n",
       "\n",
       "    .dataframe tbody tr th {\n",
       "        vertical-align: top;\n",
       "    }\n",
       "\n",
       "    .dataframe thead th {\n",
       "        text-align: right;\n",
       "    }\n",
       "</style>\n",
       "<table border=\"1\" class=\"dataframe\">\n",
       "  <thead>\n",
       "    <tr style=\"text-align: right;\">\n",
       "      <th></th>\n",
       "      <th>&lt;20%</th>\n",
       "      <th>&lt;40%</th>\n",
       "      <th>&lt;60%</th>\n",
       "      <th>&lt;80%</th>\n",
       "      <th>&lt;100%</th>\n",
       "    </tr>\n",
       "  </thead>\n",
       "  <tbody>\n",
       "    <tr>\n",
       "      <th>betteredge</th>\n",
       "      <td>0.007636</td>\n",
       "      <td>0.092727</td>\n",
       "      <td>0.623273</td>\n",
       "      <td>0.276000</td>\n",
       "      <td>0.000364</td>\n",
       "    </tr>\n",
       "    <tr>\n",
       "      <th>clack</th>\n",
       "      <td>0.015715</td>\n",
       "      <td>0.102564</td>\n",
       "      <td>0.669148</td>\n",
       "      <td>0.212572</td>\n",
       "      <td>0.000000</td>\n",
       "    </tr>\n",
       "    <tr>\n",
       "      <th>bruff</th>\n",
       "      <td>0.008876</td>\n",
       "      <td>0.071006</td>\n",
       "      <td>0.653846</td>\n",
       "      <td>0.266272</td>\n",
       "      <td>0.000000</td>\n",
       "    </tr>\n",
       "    <tr>\n",
       "      <th>blake</th>\n",
       "      <td>0.006204</td>\n",
       "      <td>0.099831</td>\n",
       "      <td>0.653694</td>\n",
       "      <td>0.240271</td>\n",
       "      <td>0.000000</td>\n",
       "    </tr>\n",
       "    <tr>\n",
       "      <th>jennings</th>\n",
       "      <td>0.014331</td>\n",
       "      <td>0.151274</td>\n",
       "      <td>0.681529</td>\n",
       "      <td>0.152866</td>\n",
       "      <td>0.000000</td>\n",
       "    </tr>\n",
       "    <tr>\n",
       "      <th>cuff</th>\n",
       "      <td>0.020942</td>\n",
       "      <td>0.115183</td>\n",
       "      <td>0.685864</td>\n",
       "      <td>0.178010</td>\n",
       "      <td>0.000000</td>\n",
       "    </tr>\n",
       "    <tr>\n",
       "      <th>candy</th>\n",
       "      <td>0.000000</td>\n",
       "      <td>0.204082</td>\n",
       "      <td>0.612245</td>\n",
       "      <td>0.183673</td>\n",
       "      <td>0.000000</td>\n",
       "    </tr>\n",
       "  </tbody>\n",
       "</table>\n",
       "</div>"
      ],
      "text/plain": [
       "                <20%      <40%      <60%      <80%     <100%\n",
       "betteredge  0.007636  0.092727  0.623273  0.276000  0.000364\n",
       "clack       0.015715  0.102564  0.669148  0.212572  0.000000\n",
       "bruff       0.008876  0.071006  0.653846  0.266272  0.000000\n",
       "blake       0.006204  0.099831  0.653694  0.240271  0.000000\n",
       "jennings    0.014331  0.151274  0.681529  0.152866  0.000000\n",
       "cuff        0.020942  0.115183  0.685864  0.178010  0.000000\n",
       "candy       0.000000  0.204082  0.612245  0.183673  0.000000"
      ]
     },
     "execution_count": 13,
     "metadata": {},
     "output_type": "execute_result"
    },
    {
     "data": {
      "image/png": "[encoded data removed]",
      "text/plain": [
       "<Figure size 432x288 with 1 Axes>"
      ]
     },
     "metadata": {
      "needs_background": "light"
     },
     "output_type": "display_data"
    }
   ],
   "source": [
    "def constructBuckets(guiltyDict, key):\n",
    "    scoresDict = {}\n",
    "    scores = [pair[1] for pair in guiltyDict[key]]\n",
    "    scoresDict[key] = scores\n",
    "    df = pd.DataFrame(data=scoresDict)\n",
    "    bins = np.array([0.0,0.2,0.4,0.6,0.8,1.0])\n",
    "    return pd.cut(df[key], bins, labels=[\"<20%\", \"<40%\", \"<60%\", \"<80%\", \"<100%\"]).value_counts(sort=False, normalize=True)\n",
    "\n",
    "bucketDF = [pd.DataFrame(data=constructBuckets(guiltyDict, key)).transpose() for key in keys]\n",
    "bucketDF = pd.concat(bucketDF)\n",
    "bucketDF.plot.bar()\n",
    "bucketDF"
   ]
  },
  {
   "cell_type": "code",
   "execution_count": 14,
   "metadata": {},
   "outputs": [
    {
     "data": {
      "text/html": [
       "<div>\n",
       "<style scoped>\n",
       "    .dataframe tbody tr th:only-of-type {\n",
       "        vertical-align: middle;\n",
       "    }\n",
       "\n",
       "    .dataframe tbody tr th {\n",
       "        vertical-align: top;\n",
       "    }\n",
       "\n",
       "    .dataframe thead th {\n",
       "        text-align: right;\n",
       "    }\n",
       "</style>\n",
       "<table border=\"1\" class=\"dataframe\">\n",
       "  <thead>\n",
       "    <tr style=\"text-align: right;\">\n",
       "      <th></th>\n",
       "      <th>betteredge</th>\n",
       "      <th>clack</th>\n",
       "      <th>bruff</th>\n",
       "      <th>blake</th>\n",
       "      <th>jennings</th>\n",
       "      <th>cuff</th>\n",
       "      <th>candy</th>\n",
       "    </tr>\n",
       "  </thead>\n",
       "  <tbody>\n",
       "    <tr>\n",
       "      <th>Guilty Score</th>\n",
       "      <td>0.525948</td>\n",
       "      <td>0.506312</td>\n",
       "      <td>0.52705</td>\n",
       "      <td>0.516672</td>\n",
       "      <td>0.491819</td>\n",
       "      <td>0.50554</td>\n",
       "      <td>0.488268</td>\n",
       "    </tr>\n",
       "  </tbody>\n",
       "</table>\n",
       "</div>"
      ],
      "text/plain": [
       "              betteredge     clack    bruff     blake  jennings     cuff  \\\n",
       "Guilty Score    0.525948  0.506312  0.52705  0.516672  0.491819  0.50554   \n",
       "\n",
       "                 candy  \n",
       "Guilty Score  0.488268  "
      ]
     },
     "execution_count": 14,
     "metadata": {},
     "output_type": "execute_result"
    }
   ],
   "source": [
    "def getAverageGuilt(guiltyDict):\n",
    "    guiltMeans = {}\n",
    "    for key in keys:\n",
    "        scores = [pair[1] for pair in guiltyDict[key]]\n",
    "        guiltMeans[key] = statistics.mean(scores)\n",
    "    return pd.DataFrame(data=guiltMeans, index=[\"Guilty Score\"])\n",
    "\n",
    "avgGuiltDF = getAverageGuilt(guiltyDict)\n",
    "avgGuiltDF"
   ]
  },
  {
   "cell_type": "markdown",
   "metadata": {},
   "source": [
    "The diagram above demonstrates how each of the characters may be associated with guilt, on average, supplementing the distribution shown earlier."
   ]
  },
  {
   "cell_type": "markdown",
   "metadata": {},
   "source": [
    "### Guilt Topics with LDA\n",
    "\n",
    "We can cross reference our sentence similarity score-based approach to approximate guilt by using latent Dirichlet allocation (LDA).\n",
    "Instead of using the entire novel, we can use the sentences we obtained earlier, and filter them for a 'guilty' threshold of >= 0.6.\n",
    "This reduces the previous 7000+ lines to 1672, across the different narrators.\n",
    "\n",
    "\n",
    "We see that LDA yields topics such as\n",
    "\n",
    "> Crime, Committed, Murder, Persons\n",
    "\n",
    "and\n",
    "\n",
    "> Time, Mind, Know, Felt\n",
    "\n",
    "and \n",
    "\n",
    "> Time, Diamond, Mind, Think\n",
    "\n",
    "which is consistent with our expectations. In The Moonstone, guilt is mainly associated with the potential to commit a crime (involving the loss of a diamond), and \n",
    "even related to the death of Rosanna Spearman and Lady Verinder. It is sufficient to say that the topics extracted with a guilty score of >=0 are that\n",
    "of guiltiness."
   ]
  },
  {
   "cell_type": "code",
   "execution_count": 78,
   "metadata": {},
   "outputs": [
    {
     "data": {
      "text/plain": [
       "<matplotlib.axes._subplots.AxesSubplot at 0x7fb2616e6640>"
      ]
     },
     "execution_count": 78,
     "metadata": {},
     "output_type": "execute_result"
    },
    {
     "data": {
      "image/png": "[encoded data removed]",
      "text/plain": [
       "<Figure size 720x288 with 1 Axes>"
      ]
     },
     "metadata": {
      "needs_background": "light"
     },
     "output_type": "display_data"
    }
   ],
   "source": [
    "def getFilteredSents(guiltDF, minScore, narrator):\n",
    "    filteredDF = guiltDF.loc[(guiltDF['guilt'] >= minScore) & (guiltDF['narrator'] == narrator)]\n",
    "    return ' '.join(filteredDF.sentence.tolist())\n",
    "textList = [getFilteredSents(guiltDF, 0.6, key) for key in keys]\n",
    "\n",
    "def isRelevant(word):\n",
    "    irrelevantWords = ['said', 'mr', 'ablewhite', 'rachel', 'godfrey', 'betteredge', 'clack', \n",
    "                       'bruff', 'blake', 'jennings', 'blake2', 'cuff', 'candy', 'gabriel', 'verinder',\n",
    "                       'franklin', 'miss', 'lady', 'man', 'sergeant', 'rosanna', 'aunt', 'men', 'say',\n",
    "                       'way',\n",
    "                      ]\n",
    "    return word not in irrelevantWords\n",
    "\n",
    "moonstoneLabels = keys\n",
    "countVectorizer = CountVectorizer(stop_words='english')\n",
    "moonstoneCounts = countVectorizer.fit_transform(textList)\n",
    "wordLabels = countVectorizer.get_feature_names() \n",
    "wordLabels = [word for word in set(wordLabels) if isRelevant(word)]\n",
    "countVectorizer = CountVectorizer(stop_words='english', min_df=1, max_df=0.9, vocabulary=wordLabels) \n",
    "moonstoneCounts = countVectorizer.fit_transform(textList)\n",
    "\n",
    "moonstoneDF = pd.DataFrame(moonstoneCounts.todense(), index=moonstoneLabels, columns=wordLabels)\n",
    "numTopics = 4\n",
    "lda = LatentDirichletAllocation(n_components=numTopics)\n",
    "ldaOut = lda.fit_transform(moonstoneCounts)\n",
    "lda.components_.shape\n",
    "topics = ['Topic ' + str(x) for x in range(numTopics)]\n",
    "topicWordMatrix = pd.DataFrame(lda.components_, index=topics, columns=wordLabels) \n",
    "\n",
    "\n",
    "labels = list(map(lambda x : ' '.join(list(topicWordMatrix.loc[x].sort_values(ascending=False).head(numTopics).index)), topics))\n",
    "pd.DataFrame(ldaOut, columns=labels).plot(figsize=(10,4)) "
   ]
  },
  {
   "cell_type": "code",
   "execution_count": 15,
   "metadata": {},
   "outputs": [
    {
     "data": {
      "text/plain": [
       "1672"
      ]
     },
     "execution_count": 15,
     "metadata": {},
     "output_type": "execute_result"
    }
   ],
   "source": [
    "def getFilteredSentsCount(guiltDF, minScore):\n",
    "    filteredDF = guiltDF.loc[(guiltDF['guilt'] >= minScore)]\n",
    "    return len(filteredDF.index)\n",
    "\n",
    "getFilteredSentsCount(guiltDF, 0.6)"
   ]
  },
  {
   "cell_type": "markdown",
   "metadata": {},
   "source": [
    "# Next Steps\n",
    "\n",
    "We have a potential framework set up to derive insight into a character's emotions. However, we are far from finished and there are several improvements we can make.\n",
    "\n",
    "One direction is to improve the classification of a monologue sentence, because it's currently inaccurate and diluting associated scores for the narrators. Otherwise, we could potentially drop the notion of filtering on monologues altogether, and look at the complete text -- in order to solve for general association.\n",
    "\n",
    "Furthermore, we could look into different key-words or sentences pertaining Guilt, to see if we can extract more meaningful analysis. An idea would be to just simply look at \"guilt\".\n",
    "\n",
    "Another direction could be to try different embeddings, either pre-trained or trained on a more relevant corpus. This would be time and computationally expensive but may provide interesting results."
   ]
  },
  {
   "cell_type": "markdown",
   "metadata": {},
   "source": [
    "# Conclusion\n",
    "\n",
    "We explored the prevalence of Guilt in *The Moonstone*. By using some computational techniques, namely via Sentence Comparison and LDA, we can detect feelings of guilt for each of the narrators in the text.\n",
    "We established a rudimentary framework for extracting emotion from a character, to help analyze the behavior and actions of each of the characters in a novel."
   ]
  },
  {
   "cell_type": "markdown",
   "metadata": {},
   "source": [
    "# Works Cited\n",
    "\n",
    "<b id=\"f1\">1</b> Collins, Wilkie. The Moonstone. Steve Farmer, ed. New York: Broadview Press Ltd., 1999. [↩](#a1)\n",
    "\n",
    "<b id=\"f2\">2</b> Cosine Similarity https://en.wikipedia.org/wiki/Cosine_similarity [↩](#a2)\n",
    "\n",
    "<b id=\"f3\">3</b> M. Honnibal, I. Montani, et al. Explosion AI. spaCy (2015). [Online]. Available:  https://spacy.io/usage/vectors-similarity\n",
    " [↩](#a3)\n",
    "\n",
    "<b id=\"f4\">4</b> Radim Řehůřek. RARE Technologies Ltd. (2009) Gensim. Available: https://radimrehurek.com/gensim/ [↩](#a4)\n",
    "\n",
    "<b id=\"f5\">5</b> Tomas Mikolov. Google. (2013) Word2Vec. Available: https://code.google.com/archive/p/word2vec/ [↩](#a5)\n"
   ]
  }
 ],
 "metadata": {
  "kernelspec": {
   "display_name": "Python 3",
   "language": "python",
   "name": "python3"
  },
  "language_info": {
   "codemirror_mode": {
    "name": "ipython",
    "version": 3
   },
   "file_extension": ".py",
   "mimetype": "text/x-python",
   "name": "python",
   "nbconvert_exporter": "python",
   "pygments_lexer": "ipython3",
   "version": "3.8.3"
  }
 },
 "nbformat": 4,
 "nbformat_minor": 4
}
